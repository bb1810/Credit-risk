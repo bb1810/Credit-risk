{
 "cells": [
  {
   "cell_type": "markdown",
   "id": "438e4ab1",
   "metadata": {},
   "source": [
    "                          ~ BHARATH BOMMEESHWAR K D22012 | PRIYANKAN DATTA D22039 ~"
   ]
  },
  {
   "cell_type": "markdown",
   "id": "f0aba3ef",
   "metadata": {},
   "source": [
    "                                        ~ PPP_TERM-2_HACKATHON ~"
   ]
  },
  {
   "cell_type": "markdown",
   "id": "9a302b8d",
   "metadata": {},
   "source": [
    "### <U>Objective\n",
    "\n",
    "* To build a optimal Machine learning model to predict whether the bank customers will repay the loan or default."
   ]
  },
  {
   "cell_type": "markdown",
   "id": "b6c02727",
   "metadata": {},
   "source": [
    "### <U>Frame work\n",
    "   01. Data acquistion\n",
    "   02. Preliminary dataprocessing \n",
    "   03. Exploratory Data Analysis\n",
    "   04. Data wrangling\n",
    "   05. Hypothesis testing \n",
    "   06. Feature engineering\n",
    "   07. Models Training and Validate\n",
    "   08. Models Optimization and Validate  \n",
    "   09. Training the whole dataset and Validate   \n",
    "   10. Models testing      \n",
    "   11. Results       "
   ]
  },
  {
   "cell_type": "markdown",
   "id": "cd96b81c",
   "metadata": {},
   "source": [
    "### <u> 1. DATA ACQUISITION"
   ]
  },
  {
   "cell_type": "markdown",
   "id": "28ea54ec",
   "metadata": {},
   "source": [
    "* <B> Importing Libraries"
   ]
  },
  {
   "cell_type": "code",
   "execution_count": 1,
   "id": "4170d68f",
   "metadata": {},
   "outputs": [],
   "source": [
    "#datastructures and tools\n",
    "import pandas as pd\n",
    "\n",
    "#matrices and arrays\n",
    "import numpy as np\n",
    "\n",
    "#vizualizations\n",
    "import seaborn as sns\n",
    "import matplotlib.pyplot as plt\n",
    "\n",
    "#to hide harmless warnings\n",
    "import warnings\n",
    "warnings.filterwarnings('ignore')\n",
    "\n",
    "#to work with time computation\n",
    "import time\n",
    "\n",
    "#Resampling \n",
    "from imblearn import under_sampling, over_sampling\n",
    "from imblearn.over_sampling import SMOTE\n",
    "from collections import Counter\n",
    "\n",
    "#scientific computation\n",
    "from scipy import stats\n",
    "import statsmodels.formula.api as sm\n",
    "\n",
    "# scale the data\n",
    "from sklearn.preprocessing import StandardScaler\n",
    "# split the data\n",
    "from sklearn.model_selection import train_test_split\n",
    "# cross validation - grid search\n",
    "from sklearn.model_selection import GridSearchCV\n",
    "from sklearn.model_selection import RandomizedSearchCV\n",
    "\n",
    "#knn neighbour model\n",
    "from sklearn.neighbors import KNeighborsClassifier\n",
    "#decision tree model\n",
    "from sklearn.tree import DecisionTreeClassifier\n",
    "#random forest\n",
    "from sklearn.ensemble import RandomForestClassifier\n",
    "#adaboost classifier\n",
    "from sklearn.ensemble import AdaBoostClassifier\n",
    "#gradient boosting\n",
    "from sklearn.ensemble import GradientBoostingClassifier\n",
    "from sklearn.ensemble import HistGradientBoostingClassifier\n",
    "#xgboosting\n",
    "from xgboost import XGBClassifier\n",
    "import xgboost as xgb \n",
    "\n",
    "#for cross validation\n",
    "from sklearn.model_selection import RepeatedStratifiedKFold\n",
    "from sklearn.model_selection import cross_val_score\n",
    "\n",
    "#measure accuracy of predictions\n",
    "from sklearn import metrics\n",
    "#to get complete classification report\n",
    "from sklearn.metrics import classification_report\n",
    "\n",
    "#to check accuracy \n",
    "from sklearn import metrics as mat"
   ]
  },
  {
   "cell_type": "markdown",
   "id": "11d7317b",
   "metadata": {},
   "source": [
    "* <b> Importing dataset "
   ]
  },
  {
   "cell_type": "code",
   "execution_count": 3,
   "id": "81a11b24",
   "metadata": {},
   "outputs": [
    {
     "data": {
      "text/plain": [
       "'C:\\\\Users\\\\Al barak\\\\Downloads\\\\Term2_PPP\\\\part2'"
      ]
     },
     "execution_count": 3,
     "metadata": {},
     "output_type": "execute_result"
    }
   ],
   "source": [
    "import os\n",
    "os.getcwd()"
   ]
  },
  {
   "cell_type": "code",
   "execution_count": null,
   "id": "8dd9693f",
   "metadata": {},
   "outputs": [],
   "source": [
    "raw_data = pd.read_csv(\"Loans - Training Set.csv\")"
   ]
  },
  {
   "cell_type": "code",
   "execution_count": 20,
   "id": "ebc9103f",
   "metadata": {},
   "outputs": [],
   "source": [
    "data1 = raw_data.copy()"
   ]
  },
  {
   "cell_type": "code",
   "execution_count": 21,
   "id": "314ce9dd",
   "metadata": {
    "scrolled": true
   },
   "outputs": [
    {
     "name": "stdout",
     "output_type": "stream",
     "text": [
      "<class 'pandas.core.frame.DataFrame'>\n",
      "RangeIndex: 111107 entries, 0 to 111106\n",
      "Data columns (total 19 columns):\n",
      " #   Column                        Non-Null Count   Dtype  \n",
      "---  ------                        --------------   -----  \n",
      " 0   Loan ID                       111107 non-null  object \n",
      " 1   Customer ID                   111107 non-null  object \n",
      " 2   Loan Status                   111107 non-null  object \n",
      " 3   Current Loan Amount           111107 non-null  int64  \n",
      " 4   Term                          111107 non-null  object \n",
      " 5   Credit Score                  89769 non-null   float64\n",
      " 6   Years in current job          106414 non-null  object \n",
      " 7   Home Ownership                111107 non-null  object \n",
      " 8   Annual Income                 89769 non-null   float64\n",
      " 9   Purpose                       111107 non-null  object \n",
      " 10  Monthly Debt                  111107 non-null  object \n",
      " 11  Years of Credit History       111107 non-null  float64\n",
      " 12  Months since last delinquent  52104 non-null   float64\n",
      " 13  Number of Open Accounts       111107 non-null  int64  \n",
      " 14  Number of Credit Problems     111107 non-null  int64  \n",
      " 15  Current Credit Balance        111107 non-null  int64  \n",
      " 16  Maximum Open Credit           111107 non-null  object \n",
      " 17  Bankruptcies                  110879 non-null  float64\n",
      " 18  Tax Liens                     111096 non-null  float64\n",
      "dtypes: float64(6), int64(4), object(9)\n",
      "memory usage: 16.1+ MB\n"
     ]
    }
   ],
   "source": [
    "data1.info()"
   ]
  },
  {
   "cell_type": "code",
   "execution_count": 22,
   "id": "005fb188",
   "metadata": {},
   "outputs": [
    {
     "data": {
      "text/html": [
       "<div>\n",
       "<style scoped>\n",
       "    .dataframe tbody tr th:only-of-type {\n",
       "        vertical-align: middle;\n",
       "    }\n",
       "\n",
       "    .dataframe tbody tr th {\n",
       "        vertical-align: top;\n",
       "    }\n",
       "\n",
       "    .dataframe thead th {\n",
       "        text-align: right;\n",
       "    }\n",
       "</style>\n",
       "<table border=\"1\" class=\"dataframe\">\n",
       "  <thead>\n",
       "    <tr style=\"text-align: right;\">\n",
       "      <th></th>\n",
       "      <th>Field Name</th>\n",
       "      <th>Description</th>\n",
       "    </tr>\n",
       "  </thead>\n",
       "  <tbody>\n",
       "    <tr>\n",
       "      <th>0</th>\n",
       "      <td>Loan ID</td>\n",
       "      <td>A unique Identifier for the loan information.</td>\n",
       "    </tr>\n",
       "    <tr>\n",
       "      <th>1</th>\n",
       "      <td>Customer ID</td>\n",
       "      <td>A unique identifier for the customer. Customers may have more than one loan.</td>\n",
       "    </tr>\n",
       "    <tr>\n",
       "      <th>2</th>\n",
       "      <td>Loan Status</td>\n",
       "      <td>A categorical variable indicating if the loan was paid back or defaulted.</td>\n",
       "    </tr>\n",
       "    <tr>\n",
       "      <th>3</th>\n",
       "      <td>Current Loan Amount</td>\n",
       "      <td>This is the loan amount that was either completely paid off, or the amount that was defaulted.</td>\n",
       "    </tr>\n",
       "    <tr>\n",
       "      <th>4</th>\n",
       "      <td>Term</td>\n",
       "      <td>A categorical variable indicating if it is a short term or long term loan.</td>\n",
       "    </tr>\n",
       "    <tr>\n",
       "      <th>5</th>\n",
       "      <td>Credit Score</td>\n",
       "      <td>A value between 0 and 800 indicating the riskiness of the borrowers credit history.</td>\n",
       "    </tr>\n",
       "    <tr>\n",
       "      <th>6</th>\n",
       "      <td>Years in current job</td>\n",
       "      <td>A categorical variable indicating how many years the customer has been in their current job.</td>\n",
       "    </tr>\n",
       "    <tr>\n",
       "      <th>7</th>\n",
       "      <td>Home Ownership</td>\n",
       "      <td>Categorical variable indicating home ownership. Values are \"Rent\", \"Home Mortgage\",and \"Own\". If the value is OWN, then the customer is a home owner with no mortgage</td>\n",
       "    </tr>\n",
       "    <tr>\n",
       "      <th>8</th>\n",
       "      <td>Annual Income</td>\n",
       "      <td>The customer's annual income</td>\n",
       "    </tr>\n",
       "    <tr>\n",
       "      <th>9</th>\n",
       "      <td>Purpose</td>\n",
       "      <td>A description of the purpose of the loan.</td>\n",
       "    </tr>\n",
       "    <tr>\n",
       "      <th>10</th>\n",
       "      <td>Monthly Debt</td>\n",
       "      <td>The customer's monthly payment for their existing loans</td>\n",
       "    </tr>\n",
       "    <tr>\n",
       "      <th>11</th>\n",
       "      <td>Years of Credit History</td>\n",
       "      <td>The years since the first entry in the customers credit history</td>\n",
       "    </tr>\n",
       "    <tr>\n",
       "      <th>12</th>\n",
       "      <td>Months since last delinquent</td>\n",
       "      <td>Months since the last loan delinquent payment</td>\n",
       "    </tr>\n",
       "    <tr>\n",
       "      <th>13</th>\n",
       "      <td>Number of Open Accounts</td>\n",
       "      <td>The total number of open credit cards</td>\n",
       "    </tr>\n",
       "    <tr>\n",
       "      <th>14</th>\n",
       "      <td>Number of Credit Problems</td>\n",
       "      <td>The number of credit problems in the customer records.</td>\n",
       "    </tr>\n",
       "    <tr>\n",
       "      <th>15</th>\n",
       "      <td>Current Credit Balance</td>\n",
       "      <td>The current total debt for the customer</td>\n",
       "    </tr>\n",
       "    <tr>\n",
       "      <th>16</th>\n",
       "      <td>Maximum Open Credit</td>\n",
       "      <td>The maximum credit limit for all credit sources.</td>\n",
       "    </tr>\n",
       "    <tr>\n",
       "      <th>17</th>\n",
       "      <td>Bankruptcies</td>\n",
       "      <td>The number of bankruptcies</td>\n",
       "    </tr>\n",
       "    <tr>\n",
       "      <th>18</th>\n",
       "      <td>Tax Liens</td>\n",
       "      <td>The number of tax liens.</td>\n",
       "    </tr>\n",
       "  </tbody>\n",
       "</table>\n",
       "</div>"
      ],
      "text/plain": [
       "                      Field Name  \\\n",
       "0                        Loan ID   \n",
       "1                    Customer ID   \n",
       "2                    Loan Status   \n",
       "3            Current Loan Amount   \n",
       "4                           Term   \n",
       "5                   Credit Score   \n",
       "6           Years in current job   \n",
       "7                 Home Ownership   \n",
       "8                  Annual Income   \n",
       "9                        Purpose   \n",
       "10                  Monthly Debt   \n",
       "11       Years of Credit History   \n",
       "12  Months since last delinquent   \n",
       "13       Number of Open Accounts   \n",
       "14     Number of Credit Problems   \n",
       "15        Current Credit Balance   \n",
       "16           Maximum Open Credit   \n",
       "17                  Bankruptcies   \n",
       "18                     Tax Liens   \n",
       "\n",
       "                                                                                                                                                              Description  \n",
       "0                                                                                                                           A unique Identifier for the loan information.  \n",
       "1                                                                                            A unique identifier for the customer. Customers may have more than one loan.  \n",
       "2                                                                                               A categorical variable indicating if the loan was paid back or defaulted.  \n",
       "3                                                                          This is the loan amount that was either completely paid off, or the amount that was defaulted.  \n",
       "4                                                                                              A categorical variable indicating if it is a short term or long term loan.  \n",
       "5                                                                                     A value between 0 and 800 indicating the riskiness of the borrowers credit history.  \n",
       "6                                                                            A categorical variable indicating how many years the customer has been in their current job.  \n",
       "7   Categorical variable indicating home ownership. Values are \"Rent\", \"Home Mortgage\",and \"Own\". If the value is OWN, then the customer is a home owner with no mortgage  \n",
       "8                                                                                                                                            The customer's annual income  \n",
       "9                                                                                                                               A description of the purpose of the loan.  \n",
       "10                                                                                                                The customer's monthly payment for their existing loans  \n",
       "11                                                                                                        The years since the first entry in the customers credit history  \n",
       "12                                                                                                                          Months since the last loan delinquent payment  \n",
       "13                                                                                                                                  The total number of open credit cards  \n",
       "14                                                                                                                 The number of credit problems in the customer records.  \n",
       "15                                                                                                                                The current total debt for the customer  \n",
       "16                                                                                                                       The maximum credit limit for all credit sources.  \n",
       "17                                                                                                                                             The number of bankruptcies  \n",
       "18                                                                                                                                               The number of tax liens.  "
      ]
     },
     "execution_count": 22,
     "metadata": {},
     "output_type": "execute_result"
    }
   ],
   "source": [
    "d = pd.read_csv(\"Data Dictionary.csv\")\n",
    "pd.options.display.max_colwidth = 200\n",
    "d"
   ]
  },
  {
   "cell_type": "markdown",
   "id": "2d7fda47",
   "metadata": {},
   "source": [
    "### <U> 2.PRELIMINARY DATA PROCESSING"
   ]
  },
  {
   "cell_type": "markdown",
   "id": "8519a659",
   "metadata": {},
   "source": [
    "* <B> Removing Duplicates"
   ]
  },
  {
   "cell_type": "code",
   "execution_count": 23,
   "id": "8e865928",
   "metadata": {},
   "outputs": [
    {
     "name": "stdout",
     "output_type": "stream",
     "text": [
      "Original Dataset Count: 111107\n",
      "Duplicates count: 22197\n",
      "Observation count after removing duplicates: 88910\n"
     ]
    }
   ],
   "source": [
    "# removing duplicates using loan id because loan id can be only unique \n",
    "print(\"Original Dataset Count:\",len(data1))\n",
    "\n",
    "duplicates= data1.duplicated([\"Loan ID\"])\n",
    "print(\"Duplicates count:\",duplicates.sum())\n",
    "\n",
    "\n",
    "data1 = data1.drop_duplicates(subset=\"Loan ID\")\n",
    "print(\"Observation count after removing duplicates:\",len(data1))\n"
   ]
  },
  {
   "cell_type": "code",
   "execution_count": 24,
   "id": "e7155743",
   "metadata": {},
   "outputs": [
    {
     "name": "stdout",
     "output_type": "stream",
     "text": [
      "Missing Percent of Credit Score: 23.9996\n",
      "Missing Percent of Years in current job: 4.2931\n",
      "Missing Percent of Annual Income: 23.9996\n",
      "Missing Percent of Months since last delinquent: 54.5563\n",
      "Missing Percent of Bankruptcies: 0.2159\n",
      "Missing Percent of Tax Liens: 0.009\n"
     ]
    }
   ],
   "source": [
    "#Find Missing percent in each columns\n",
    "null_columns = []\n",
    "for i in data1.columns:\n",
    "    if data1[i].isna().sum() != 0:\n",
    "        null_columns.append(i)\n",
    "        \n",
    "for i in null_columns:\n",
    "    print(\"Missing Percent of \"+ i + \":\",round((data1[i].isna().sum()/len(data1[i])*100),4))  "
   ]
  },
  {
   "cell_type": "markdown",
   "id": "7cf93850",
   "metadata": {},
   "source": [
    "* <b> Data formatting"
   ]
  },
  {
   "cell_type": "code",
   "execution_count": 25,
   "id": "70218412",
   "metadata": {},
   "outputs": [],
   "source": [
    "#removing punctuations\n",
    "data1['Monthly Debt'] = (data1['Monthly Debt']).astype(\"str\")\n",
    "\n",
    "punctuation = [\"$\",\",\",\"-\",\"/\"]\n",
    "for i in punctuation:\n",
    "    data1['Monthly Debt'] = data1['Monthly Debt'].str.replace(i, '', regex=True)  "
   ]
  },
  {
   "cell_type": "code",
   "execution_count": 26,
   "id": "6e751e69",
   "metadata": {},
   "outputs": [],
   "source": [
    "#Converting back to numeric after string character removal process\n",
    "data1['Monthly Debt'] = pd.to_numeric(data1['Monthly Debt'])"
   ]
  },
  {
   "cell_type": "code",
   "execution_count": 27,
   "id": "49f90af4",
   "metadata": {},
   "outputs": [
    {
     "data": {
      "text/plain": [
       "dtype('float64')"
      ]
     },
     "execution_count": 27,
     "metadata": {},
     "output_type": "execute_result"
    }
   ],
   "source": [
    "data1['Monthly Debt'].dtypes"
   ]
  },
  {
   "cell_type": "code",
   "execution_count": 28,
   "id": "c33f3443",
   "metadata": {},
   "outputs": [],
   "source": [
    "#Convert string column to numeric\n",
    "data1['Maximum Open Credit'] = pd.to_numeric(data1['Maximum Open Credit'],errors='coerce')"
   ]
  },
  {
   "cell_type": "code",
   "execution_count": 29,
   "id": "c5e5d5f3",
   "metadata": {},
   "outputs": [],
   "source": [
    "#label encode categorical_ordinal\n",
    "data1['Years in current job'] = data1['Years in current job'].replace({\"< 1 year\":0,\"1 year\":1,\n",
    "                                                                       \"2 years\":2,\"3 years\":3,\n",
    "                                                                       \"4 years\":4,\"5 years\":5,\n",
    "                                                                       \"6 years\":6,\"7 years\":7,\n",
    "                                                                       \"8 years\":8,\"9 years\":9,\n",
    "                                                                       \"10+ years\":10})"
   ]
  },
  {
   "cell_type": "code",
   "execution_count": 30,
   "id": "042ec9e7",
   "metadata": {},
   "outputs": [],
   "source": [
    "#Label encoding target class\n",
    "data1[\"Loan Status\"] = data1[\"Loan Status\"].replace({\"Fully Paid\":0,\"Charged Off\":1})"
   ]
  },
  {
   "cell_type": "code",
   "execution_count": 31,
   "id": "617fbf12",
   "metadata": {},
   "outputs": [
    {
     "data": {
      "text/plain": [
       "Debt Consolidation      0.792341\n",
       "Home Improvements       0.058554\n",
       "other                   0.055303\n",
       "Other                   0.032055\n",
       "Business Loan           0.014936\n",
       "Buy a Car               0.013452\n",
       "Medical Bills           0.010741\n",
       "Buy House               0.006287\n",
       "Take a Trip             0.005106\n",
       "major_purchase          0.003869\n",
       "small_business          0.002789\n",
       "moving                  0.001395\n",
       "wedding                 0.001113\n",
       "Educational Expenses    0.001035\n",
       "vacation                0.000922\n",
       "renewable_energy        0.000101\n",
       "Name: Purpose, dtype: float64"
      ]
     },
     "execution_count": 31,
     "metadata": {},
     "output_type": "execute_result"
    }
   ],
   "source": [
    "data1[\"Purpose\"].value_counts()/data1[\"Purpose\"].value_counts().sum()"
   ]
  },
  {
   "cell_type": "code",
   "execution_count": null,
   "id": "0ec84b36",
   "metadata": {},
   "outputs": [],
   "source": [
    "Buy House               0.006287\n",
    "Take a Trip             0.005106\n",
    "major_purchase          0.003869\n",
    "small_business          0.002789\n",
    "moving                  0.001395\n",
    "wedding                 0.001113\n",
    "Educational Expenses    0.001035\n",
    "vacation                0.000922\n",
    "renewable_energy        0.000101"
   ]
  },
  {
   "cell_type": "code",
   "execution_count": 15,
   "id": "387c6cc0",
   "metadata": {},
   "outputs": [
    {
     "data": {
      "text/html": [
       "<div>\n",
       "<style scoped>\n",
       "    .dataframe tbody tr th:only-of-type {\n",
       "        vertical-align: middle;\n",
       "    }\n",
       "\n",
       "    .dataframe tbody tr th {\n",
       "        vertical-align: top;\n",
       "    }\n",
       "\n",
       "    .dataframe thead th {\n",
       "        text-align: right;\n",
       "    }\n",
       "</style>\n",
       "<table border=\"1\" class=\"dataframe\">\n",
       "  <thead>\n",
       "    <tr style=\"text-align: right;\">\n",
       "      <th>Purpose</th>\n",
       "      <th>Business Loan</th>\n",
       "      <th>Buy House</th>\n",
       "      <th>Buy a Car</th>\n",
       "      <th>Debt Consolidation</th>\n",
       "      <th>Educational Expenses</th>\n",
       "      <th>Home Improvements</th>\n",
       "      <th>Medical Bills</th>\n",
       "      <th>Other</th>\n",
       "      <th>Take a Trip</th>\n",
       "      <th>major_purchase</th>\n",
       "      <th>moving</th>\n",
       "      <th>other</th>\n",
       "      <th>renewable_energy</th>\n",
       "      <th>small_business</th>\n",
       "      <th>vacation</th>\n",
       "      <th>wedding</th>\n",
       "    </tr>\n",
       "    <tr>\n",
       "      <th>Loan Status</th>\n",
       "      <th></th>\n",
       "      <th></th>\n",
       "      <th></th>\n",
       "      <th></th>\n",
       "      <th></th>\n",
       "      <th></th>\n",
       "      <th></th>\n",
       "      <th></th>\n",
       "      <th></th>\n",
       "      <th></th>\n",
       "      <th></th>\n",
       "      <th></th>\n",
       "      <th></th>\n",
       "      <th></th>\n",
       "      <th></th>\n",
       "      <th></th>\n",
       "    </tr>\n",
       "  </thead>\n",
       "  <tbody>\n",
       "    <tr>\n",
       "      <th>Charged Off</th>\n",
       "      <td>533</td>\n",
       "      <td>159</td>\n",
       "      <td>234</td>\n",
       "      <td>19918</td>\n",
       "      <td>21</td>\n",
       "      <td>1296</td>\n",
       "      <td>311</td>\n",
       "      <td>667</td>\n",
       "      <td>123</td>\n",
       "      <td>99</td>\n",
       "      <td>49</td>\n",
       "      <td>1572</td>\n",
       "      <td>4</td>\n",
       "      <td>131</td>\n",
       "      <td>30</td>\n",
       "      <td>26</td>\n",
       "    </tr>\n",
       "    <tr>\n",
       "      <th>Fully Paid</th>\n",
       "      <td>795</td>\n",
       "      <td>400</td>\n",
       "      <td>962</td>\n",
       "      <td>50529</td>\n",
       "      <td>71</td>\n",
       "      <td>3910</td>\n",
       "      <td>644</td>\n",
       "      <td>2183</td>\n",
       "      <td>331</td>\n",
       "      <td>245</td>\n",
       "      <td>75</td>\n",
       "      <td>3345</td>\n",
       "      <td>5</td>\n",
       "      <td>117</td>\n",
       "      <td>52</td>\n",
       "      <td>73</td>\n",
       "    </tr>\n",
       "  </tbody>\n",
       "</table>\n",
       "</div>"
      ],
      "text/plain": [
       "Purpose      Business Loan  Buy House  Buy a Car  Debt Consolidation  \\\n",
       "Loan Status                                                            \n",
       "Charged Off            533        159        234               19918   \n",
       "Fully Paid             795        400        962               50529   \n",
       "\n",
       "Purpose      Educational Expenses  Home Improvements  Medical Bills  Other  \\\n",
       "Loan Status                                                                  \n",
       "Charged Off                    21               1296            311    667   \n",
       "Fully Paid                     71               3910            644   2183   \n",
       "\n",
       "Purpose      Take a Trip  major_purchase  moving  other  renewable_energy  \\\n",
       "Loan Status                                                                 \n",
       "Charged Off          123              99      49   1572                 4   \n",
       "Fully Paid           331             245      75   3345                 5   \n",
       "\n",
       "Purpose      small_business  vacation  wedding  \n",
       "Loan Status                                     \n",
       "Charged Off             131        30       26  \n",
       "Fully Paid              117        52       73  "
      ]
     },
     "execution_count": 15,
     "metadata": {},
     "output_type": "execute_result"
    }
   ],
   "source": [
    "purchase_table=pd.crosstab(data1[\"Loan Status\"],columns=data1[\"Purpose\"])\n",
    "purchase_table"
   ]
  },
  {
   "cell_type": "code",
   "execution_count": 321,
   "id": "df9777cc",
   "metadata": {
    "scrolled": true
   },
   "outputs": [
    {
     "data": {
      "text/html": [
       "<div>\n",
       "<style scoped>\n",
       "    .dataframe tbody tr th:only-of-type {\n",
       "        vertical-align: middle;\n",
       "    }\n",
       "\n",
       "    .dataframe tbody tr th {\n",
       "        vertical-align: top;\n",
       "    }\n",
       "\n",
       "    .dataframe thead th {\n",
       "        text-align: right;\n",
       "    }\n",
       "</style>\n",
       "<table border=\"1\" class=\"dataframe\">\n",
       "  <thead>\n",
       "    <tr style=\"text-align: right;\">\n",
       "      <th></th>\n",
       "      <th>Loan ID</th>\n",
       "      <th>Customer ID</th>\n",
       "      <th>Loan Status</th>\n",
       "      <th>Current Loan Amount</th>\n",
       "      <th>Term</th>\n",
       "      <th>Credit Score</th>\n",
       "      <th>Years in current job</th>\n",
       "      <th>Home Ownership</th>\n",
       "      <th>Annual Income</th>\n",
       "      <th>Purpose</th>\n",
       "      <th>Monthly Debt</th>\n",
       "      <th>Years of Credit History</th>\n",
       "      <th>Months since last delinquent</th>\n",
       "      <th>Number of Open Accounts</th>\n",
       "      <th>Number of Credit Problems</th>\n",
       "      <th>Current Credit Balance</th>\n",
       "      <th>Maximum Open Credit</th>\n",
       "      <th>Bankruptcies</th>\n",
       "      <th>Tax Liens</th>\n",
       "    </tr>\n",
       "  </thead>\n",
       "  <tbody>\n",
       "    <tr>\n",
       "      <th>0</th>\n",
       "      <td>6cf51492-02a2-423e-b93d-676f05b9ad53</td>\n",
       "      <td>7c202b37-2add-44e8-9aea-d5b119aea935</td>\n",
       "      <td>1</td>\n",
       "      <td>12232</td>\n",
       "      <td>Short Term</td>\n",
       "      <td>7280.0</td>\n",
       "      <td>0.0</td>\n",
       "      <td>Rent</td>\n",
       "      <td>46643.0</td>\n",
       "      <td>Debt Consolidation</td>\n",
       "      <td>777.39</td>\n",
       "      <td>18.0</td>\n",
       "      <td>10.0</td>\n",
       "      <td>12</td>\n",
       "      <td>0</td>\n",
       "      <td>6762</td>\n",
       "      <td>7946.0</td>\n",
       "      <td>0.0</td>\n",
       "      <td>0.0</td>\n",
       "    </tr>\n",
       "    <tr>\n",
       "      <th>1</th>\n",
       "      <td>552e7ade-4292-4354-9ff9-c48031697d72</td>\n",
       "      <td>e7217b0a-07ac-47dd-b379-577b5a35b7c6</td>\n",
       "      <td>1</td>\n",
       "      <td>25014</td>\n",
       "      <td>Long Term</td>\n",
       "      <td>7330.0</td>\n",
       "      <td>10.0</td>\n",
       "      <td>Home Mortgage</td>\n",
       "      <td>81099.0</td>\n",
       "      <td>Debt Consolidation</td>\n",
       "      <td>892.09</td>\n",
       "      <td>26.7</td>\n",
       "      <td>NaN</td>\n",
       "      <td>14</td>\n",
       "      <td>0</td>\n",
       "      <td>35706</td>\n",
       "      <td>77961.0</td>\n",
       "      <td>0.0</td>\n",
       "      <td>0.0</td>\n",
       "    </tr>\n",
       "  </tbody>\n",
       "</table>\n",
       "</div>"
      ],
      "text/plain": [
       "                                Loan ID                           Customer ID  \\\n",
       "0  6cf51492-02a2-423e-b93d-676f05b9ad53  7c202b37-2add-44e8-9aea-d5b119aea935   \n",
       "1  552e7ade-4292-4354-9ff9-c48031697d72  e7217b0a-07ac-47dd-b379-577b5a35b7c6   \n",
       "\n",
       "   Loan Status  Current Loan Amount        Term  Credit Score  \\\n",
       "0            1                12232  Short Term        7280.0   \n",
       "1            1                25014   Long Term        7330.0   \n",
       "\n",
       "   Years in current job Home Ownership  Annual Income             Purpose  \\\n",
       "0                   0.0           Rent        46643.0  Debt Consolidation   \n",
       "1                  10.0  Home Mortgage        81099.0  Debt Consolidation   \n",
       "\n",
       "   Monthly Debt  Years of Credit History  Months since last delinquent  \\\n",
       "0        777.39                     18.0                          10.0   \n",
       "1        892.09                     26.7                           NaN   \n",
       "\n",
       "   Number of Open Accounts  Number of Credit Problems  Current Credit Balance  \\\n",
       "0                       12                          0                    6762   \n",
       "1                       14                          0                   35706   \n",
       "\n",
       "   Maximum Open Credit  Bankruptcies  Tax Liens  \n",
       "0               7946.0           0.0        0.0  \n",
       "1              77961.0           0.0        0.0  "
      ]
     },
     "execution_count": 321,
     "metadata": {},
     "output_type": "execute_result"
    }
   ],
   "source": [
    "data1.head(2)"
   ]
  },
  {
   "cell_type": "code",
   "execution_count": 322,
   "id": "5c13ac2e",
   "metadata": {},
   "outputs": [],
   "source": [
    "#data1.to_csv(\"data1_punct_removed.csv\",index=False)\n",
    "#data1 = pd.read_csv(\"data1_punct_removed.csv\")"
   ]
  },
  {
   "cell_type": "markdown",
   "id": "016d4204",
   "metadata": {},
   "source": [
    "### <U>3.EXPLORATORY DATA ANALYSIS"
   ]
  },
  {
   "cell_type": "markdown",
   "id": "c6fbbd30",
   "metadata": {},
   "source": [
    "* <b> Descriptive statistics"
   ]
  },
  {
   "cell_type": "code",
   "execution_count": 32,
   "id": "f9ed4dd7",
   "metadata": {},
   "outputs": [
    {
     "data": {
      "text/html": [
       "<div>\n",
       "<style scoped>\n",
       "    .dataframe tbody tr th:only-of-type {\n",
       "        vertical-align: middle;\n",
       "    }\n",
       "\n",
       "    .dataframe tbody tr th {\n",
       "        vertical-align: top;\n",
       "    }\n",
       "\n",
       "    .dataframe thead th {\n",
       "        text-align: right;\n",
       "    }\n",
       "</style>\n",
       "<table border=\"1\" class=\"dataframe\">\n",
       "  <thead>\n",
       "    <tr style=\"text-align: right;\">\n",
       "      <th></th>\n",
       "      <th>count</th>\n",
       "      <th>mean</th>\n",
       "      <th>std</th>\n",
       "      <th>min</th>\n",
       "      <th>25%</th>\n",
       "      <th>50%</th>\n",
       "      <th>75%</th>\n",
       "      <th>max</th>\n",
       "    </tr>\n",
       "  </thead>\n",
       "  <tbody>\n",
       "    <tr>\n",
       "      <th>Loan Status</th>\n",
       "      <td>88910.0</td>\n",
       "      <td>2.831290e-01</td>\n",
       "      <td>4.505211e-01</td>\n",
       "      <td>0.0</td>\n",
       "      <td>0.00</td>\n",
       "      <td>0.000</td>\n",
       "      <td>1.0000</td>\n",
       "      <td>1.00</td>\n",
       "    </tr>\n",
       "    <tr>\n",
       "      <th>Current Loan Amount</th>\n",
       "      <td>88910.0</td>\n",
       "      <td>1.433878e+07</td>\n",
       "      <td>3.502996e+07</td>\n",
       "      <td>491.0</td>\n",
       "      <td>8283.00</td>\n",
       "      <td>14355.000</td>\n",
       "      <td>24485.0000</td>\n",
       "      <td>99999999.00</td>\n",
       "    </tr>\n",
       "    <tr>\n",
       "      <th>Credit Score</th>\n",
       "      <td>67572.0</td>\n",
       "      <td>1.199200e+03</td>\n",
       "      <td>1.680814e+03</td>\n",
       "      <td>585.0</td>\n",
       "      <td>714.00</td>\n",
       "      <td>733.000</td>\n",
       "      <td>744.0000</td>\n",
       "      <td>7510.00</td>\n",
       "    </tr>\n",
       "    <tr>\n",
       "      <th>Years in current job</th>\n",
       "      <td>85093.0</td>\n",
       "      <td>5.869543e+00</td>\n",
       "      <td>3.630084e+00</td>\n",
       "      <td>0.0</td>\n",
       "      <td>3.00</td>\n",
       "      <td>6.000</td>\n",
       "      <td>10.0000</td>\n",
       "      <td>10.00</td>\n",
       "    </tr>\n",
       "    <tr>\n",
       "      <th>Annual Income</th>\n",
       "      <td>67572.0</td>\n",
       "      <td>7.234575e+04</td>\n",
       "      <td>5.836101e+04</td>\n",
       "      <td>4033.0</td>\n",
       "      <td>44586.00</td>\n",
       "      <td>61494.000</td>\n",
       "      <td>86750.2500</td>\n",
       "      <td>8713547.00</td>\n",
       "    </tr>\n",
       "    <tr>\n",
       "      <th>Monthly Debt</th>\n",
       "      <td>88910.0</td>\n",
       "      <td>9.631021e+02</td>\n",
       "      <td>6.375241e+02</td>\n",
       "      <td>0.0</td>\n",
       "      <td>532.22</td>\n",
       "      <td>843.925</td>\n",
       "      <td>1250.5275</td>\n",
       "      <td>22939.12</td>\n",
       "    </tr>\n",
       "    <tr>\n",
       "      <th>Years of Credit History</th>\n",
       "      <td>88910.0</td>\n",
       "      <td>1.831531e+01</td>\n",
       "      <td>7.049175e+00</td>\n",
       "      <td>3.6</td>\n",
       "      <td>13.50</td>\n",
       "      <td>17.000</td>\n",
       "      <td>21.8000</td>\n",
       "      <td>70.50</td>\n",
       "    </tr>\n",
       "    <tr>\n",
       "      <th>Months since last delinquent</th>\n",
       "      <td>40404.0</td>\n",
       "      <td>3.508029e+01</td>\n",
       "      <td>2.200858e+01</td>\n",
       "      <td>0.0</td>\n",
       "      <td>16.00</td>\n",
       "      <td>32.000</td>\n",
       "      <td>51.0000</td>\n",
       "      <td>176.00</td>\n",
       "    </tr>\n",
       "    <tr>\n",
       "      <th>Number of Open Accounts</th>\n",
       "      <td>88910.0</td>\n",
       "      <td>1.111035e+01</td>\n",
       "      <td>4.978461e+00</td>\n",
       "      <td>0.0</td>\n",
       "      <td>8.00</td>\n",
       "      <td>10.000</td>\n",
       "      <td>14.0000</td>\n",
       "      <td>76.00</td>\n",
       "    </tr>\n",
       "    <tr>\n",
       "      <th>Number of Credit Problems</th>\n",
       "      <td>88910.0</td>\n",
       "      <td>1.604769e-01</td>\n",
       "      <td>4.737460e-01</td>\n",
       "      <td>0.0</td>\n",
       "      <td>0.00</td>\n",
       "      <td>0.000</td>\n",
       "      <td>0.0000</td>\n",
       "      <td>15.00</td>\n",
       "    </tr>\n",
       "    <tr>\n",
       "      <th>Current Credit Balance</th>\n",
       "      <td>88910.0</td>\n",
       "      <td>1.543593e+04</td>\n",
       "      <td>1.965873e+04</td>\n",
       "      <td>0.0</td>\n",
       "      <td>5949.00</td>\n",
       "      <td>11039.000</td>\n",
       "      <td>19301.0000</td>\n",
       "      <td>1730472.00</td>\n",
       "    </tr>\n",
       "    <tr>\n",
       "      <th>Maximum Open Credit</th>\n",
       "      <td>88908.0</td>\n",
       "      <td>3.596531e+04</td>\n",
       "      <td>4.041805e+05</td>\n",
       "      <td>0.0</td>\n",
       "      <td>12775.00</td>\n",
       "      <td>21781.000</td>\n",
       "      <td>36367.0000</td>\n",
       "      <td>69988086.00</td>\n",
       "    </tr>\n",
       "    <tr>\n",
       "      <th>Bankruptcies</th>\n",
       "      <td>88718.0</td>\n",
       "      <td>1.126716e-01</td>\n",
       "      <td>3.433000e-01</td>\n",
       "      <td>0.0</td>\n",
       "      <td>0.00</td>\n",
       "      <td>0.000</td>\n",
       "      <td>0.0000</td>\n",
       "      <td>7.00</td>\n",
       "    </tr>\n",
       "    <tr>\n",
       "      <th>Tax Liens</th>\n",
       "      <td>88902.0</td>\n",
       "      <td>2.822209e-02</td>\n",
       "      <td>2.575327e-01</td>\n",
       "      <td>0.0</td>\n",
       "      <td>0.00</td>\n",
       "      <td>0.000</td>\n",
       "      <td>0.0000</td>\n",
       "      <td>15.00</td>\n",
       "    </tr>\n",
       "  </tbody>\n",
       "</table>\n",
       "</div>"
      ],
      "text/plain": [
       "                                count          mean           std     min  \\\n",
       "Loan Status                   88910.0  2.831290e-01  4.505211e-01     0.0   \n",
       "Current Loan Amount           88910.0  1.433878e+07  3.502996e+07   491.0   \n",
       "Credit Score                  67572.0  1.199200e+03  1.680814e+03   585.0   \n",
       "Years in current job          85093.0  5.869543e+00  3.630084e+00     0.0   \n",
       "Annual Income                 67572.0  7.234575e+04  5.836101e+04  4033.0   \n",
       "Monthly Debt                  88910.0  9.631021e+02  6.375241e+02     0.0   \n",
       "Years of Credit History       88910.0  1.831531e+01  7.049175e+00     3.6   \n",
       "Months since last delinquent  40404.0  3.508029e+01  2.200858e+01     0.0   \n",
       "Number of Open Accounts       88910.0  1.111035e+01  4.978461e+00     0.0   \n",
       "Number of Credit Problems     88910.0  1.604769e-01  4.737460e-01     0.0   \n",
       "Current Credit Balance        88910.0  1.543593e+04  1.965873e+04     0.0   \n",
       "Maximum Open Credit           88908.0  3.596531e+04  4.041805e+05     0.0   \n",
       "Bankruptcies                  88718.0  1.126716e-01  3.433000e-01     0.0   \n",
       "Tax Liens                     88902.0  2.822209e-02  2.575327e-01     0.0   \n",
       "\n",
       "                                   25%        50%         75%          max  \n",
       "Loan Status                       0.00      0.000      1.0000         1.00  \n",
       "Current Loan Amount            8283.00  14355.000  24485.0000  99999999.00  \n",
       "Credit Score                    714.00    733.000    744.0000      7510.00  \n",
       "Years in current job              3.00      6.000     10.0000        10.00  \n",
       "Annual Income                 44586.00  61494.000  86750.2500   8713547.00  \n",
       "Monthly Debt                    532.22    843.925   1250.5275     22939.12  \n",
       "Years of Credit History          13.50     17.000     21.8000        70.50  \n",
       "Months since last delinquent     16.00     32.000     51.0000       176.00  \n",
       "Number of Open Accounts           8.00     10.000     14.0000        76.00  \n",
       "Number of Credit Problems         0.00      0.000      0.0000        15.00  \n",
       "Current Credit Balance         5949.00  11039.000  19301.0000   1730472.00  \n",
       "Maximum Open Credit           12775.00  21781.000  36367.0000  69988086.00  \n",
       "Bankruptcies                      0.00      0.000      0.0000         7.00  \n",
       "Tax Liens                         0.00      0.000      0.0000        15.00  "
      ]
     },
     "execution_count": 32,
     "metadata": {},
     "output_type": "execute_result"
    }
   ],
   "source": [
    "data1.describe().T"
   ]
  },
  {
   "cell_type": "markdown",
   "id": "dcd01b3d",
   "metadata": {},
   "source": [
    "* <b> Data Visualization"
   ]
  },
  {
   "cell_type": "code",
   "execution_count": 33,
   "id": "f56b5718",
   "metadata": {},
   "outputs": [],
   "source": [
    "#Frequency plot\n",
    "def count_plot(var):\n",
    "    plt.figure(figsize=(6,3))\n",
    "    sns.countplot(data1[var],data = data1, palette='hls')\n",
    "    plt.xticks(rotation = 90)\n",
    "    plt.title(\"Frequency\"+\" vs \"+var)\n",
    "    return (plt.show())"
   ]
  },
  {
   "cell_type": "code",
   "execution_count": 34,
   "id": "68071bb1",
   "metadata": {},
   "outputs": [
    {
     "data": {
      "image/png": "[encoded data removed]",
      "text/plain": [
       "<Figure size 432x216 with 1 Axes>"
      ]
     },
     "metadata": {
      "needs_background": "light"
     },
     "output_type": "display_data"
    },
    {
     "data": {
      "image/png": "[encoded data removed]",
      "text/plain": [
       "<Figure size 432x216 with 1 Axes>"
      ]
     },
     "metadata": {
      "needs_background": "light"
     },
     "output_type": "display_data"
    },
    {
     "data": {
      "image/png": "[encoded data removed]",
      "text/plain": [
       "<Figure size 432x216 with 1 Axes>"
      ]
     },
     "metadata": {
      "needs_background": "light"
     },
     "output_type": "display_data"
    },
    {
     "data": {
      "image/png": "[encoded data removed]",
      "text/plain": [
       "<Figure size 432x216 with 1 Axes>"
      ]
     },
     "metadata": {
      "needs_background": "light"
     },
     "output_type": "display_data"
    },
    {
     "data": {
      "image/png": "[encoded data removed]",
      "text/plain": [
       "<Figure size 432x216 with 1 Axes>"
      ]
     },
     "metadata": {
      "needs_background": "light"
     },
     "output_type": "display_data"
    },
    {
     "data": {
      "image/png": "[encoded data removed]",
      "text/plain": [
       "<Figure size 432x216 with 1 Axes>"
      ]
     },
     "metadata": {
      "needs_background": "light"
     },
     "output_type": "display_data"
    }
   ],
   "source": [
    "#Categorical data\n",
    "cat = ['Loan Status','Term','Home Ownership','Purpose','Years in current job','Tax Liens']\n",
    "for i in cat:\n",
    "    count_plot(i)"
   ]
  },
  {
   "cell_type": "code",
   "execution_count": 35,
   "id": "389b3822",
   "metadata": {},
   "outputs": [
    {
     "data": {
      "image/png": "[encoded data removed]",
      "text/plain": [
       "<Figure size 432x216 with 1 Axes>"
      ]
     },
     "metadata": {
      "needs_background": "light"
     },
     "output_type": "display_data"
    },
    {
     "data": {
      "image/png": "[encoded data removed]",
      "text/plain": [
       "<Figure size 432x216 with 1 Axes>"
      ]
     },
     "metadata": {
      "needs_background": "light"
     },
     "output_type": "display_data"
    }
   ],
   "source": [
    "#Discrete numerical data\n",
    "dis_num = ['Bankruptcies','Number of Credit Problems']\n",
    "for i in dis_num:\n",
    "    count_plot(i)"
   ]
  },
  {
   "cell_type": "code",
   "execution_count": 36,
   "id": "28ba2411",
   "metadata": {},
   "outputs": [],
   "source": [
    "#Distribution plot\n",
    "\n",
    "def distplot(var):\n",
    "    plt.figure(figsize=(6,3))\n",
    "    sns.distplot(data1[var])\n",
    "    plt.xticks(rotation = 90)\n",
    "    plt.title(\"Frequency Distribution \"+  var)\n",
    "    return (plt.show())"
   ]
  },
  {
   "cell_type": "code",
   "execution_count": 37,
   "id": "a8086436",
   "metadata": {},
   "outputs": [
    {
     "data": {
      "image/png": "[encoded data removed]",
      "text/plain": [
       "<Figure size 432x216 with 1 Axes>"
      ]
     },
     "metadata": {
      "needs_background": "light"
     },
     "output_type": "display_data"
    },
    {
     "data": {
      "image/png": "[encoded data removed]",
      "text/plain": [
       "<Figure size 432x216 with 1 Axes>"
      ]
     },
     "metadata": {
      "needs_background": "light"
     },
     "output_type": "display_data"
    },
    {
     "data": {
      "image/png": "[encoded data removed]",
      "text/plain": [
       "<Figure size 432x216 with 1 Axes>"
      ]
     },
     "metadata": {
      "needs_background": "light"
     },
     "output_type": "display_data"
    },
    {
     "data": {
      "image/png": "[encoded data removed]",
      "text/plain": [
       "<Figure size 432x216 with 1 Axes>"
      ]
     },
     "metadata": {
      "needs_background": "light"
     },
     "output_type": "display_data"
    },
    {
     "data": {
      "image/png": "[encoded data removed]",
      "text/plain": [
       "<Figure size 432x216 with 1 Axes>"
      ]
     },
     "metadata": {
      "needs_background": "light"
     },
     "output_type": "display_data"
    },
    {
     "data": {
      "image/png": "[encoded data removed]",
      "text/plain": [
       "<Figure size 432x216 with 1 Axes>"
      ]
     },
     "metadata": {
      "needs_background": "light"
     },
     "output_type": "display_data"
    },
    {
     "data": {
      "image/png": "[encoded data removed]",
      "text/plain": [
       "<Figure size 432x216 with 1 Axes>"
      ]
     },
     "metadata": {
      "needs_background": "light"
     },
     "output_type": "display_data"
    },
    {
     "data": {
      "image/png": "[encoded data removed]",
      "text/plain": [
       "<Figure size 432x216 with 1 Axes>"
      ]
     },
     "metadata": {
      "needs_background": "light"
     },
     "output_type": "display_data"
    },
    {
     "data": {
      "image/png": "[encoded data removed]",
      "text/plain": [
       "<Figure size 432x216 with 1 Axes>"
      ]
     },
     "metadata": {
      "needs_background": "light"
     },
     "output_type": "display_data"
    }
   ],
   "source": [
    "num = ['Number of Open Accounts','Monthly Debt','Credit Score','Current Credit Balance','Annual Income','Years of Credit History','Maximum Open Credit','Months since last delinquent','Current Loan Amount']\n",
    "\n",
    "for i in num:\n",
    "    distplot(i)"
   ]
  },
  {
   "cell_type": "code",
   "execution_count": 38,
   "id": "936f1189",
   "metadata": {
    "scrolled": true
   },
   "outputs": [],
   "source": [
    "# Box plot \n",
    "def boxplot(var):\n",
    "    plt.figure(figsize=(6,3))\n",
    "    sns.boxplot(data1[var])\n",
    "    plt.xticks(rotation = 90)\n",
    "    plt.title(\"Frequency Distribution \"+  var)\n",
    "    return (plt.show())"
   ]
  },
  {
   "cell_type": "code",
   "execution_count": 39,
   "id": "fba02284",
   "metadata": {},
   "outputs": [
    {
     "data": {
      "image/png": "[encoded data removed]",
      "text/plain": [
       "<Figure size 432x216 with 1 Axes>"
      ]
     },
     "metadata": {
      "needs_background": "light"
     },
     "output_type": "display_data"
    },
    {
     "data": {
      "image/png": "[encoded data removed]",
      "text/plain": [
       "<Figure size 432x216 with 1 Axes>"
      ]
     },
     "metadata": {
      "needs_background": "light"
     },
     "output_type": "display_data"
    },
    {
     "data": {
      "image/png": "[encoded data removed]",
      "text/plain": [
       "<Figure size 432x216 with 1 Axes>"
      ]
     },
     "metadata": {
      "needs_background": "light"
     },
     "output_type": "display_data"
    },
    {
     "data": {
      "image/png": "[encoded data removed]",
      "text/plain": [
       "<Figure size 432x216 with 1 Axes>"
      ]
     },
     "metadata": {
      "needs_background": "light"
     },
     "output_type": "display_data"
    },
    {
     "data": {
      "image/png": "[encoded data removed]",
      "text/plain": [
       "<Figure size 432x216 with 1 Axes>"
      ]
     },
     "metadata": {
      "needs_background": "light"
     },
     "output_type": "display_data"
    },
    {
     "data": {
      "image/png": "[encoded data removed]",
      "text/plain": [
       "<Figure size 432x216 with 1 Axes>"
      ]
     },
     "metadata": {
      "needs_background": "light"
     },
     "output_type": "display_data"
    },
    {
     "data": {
      "image/png": "[encoded data removed]",
      "text/plain": [
       "<Figure size 432x216 with 1 Axes>"
      ]
     },
     "metadata": {
      "needs_background": "light"
     },
     "output_type": "display_data"
    },
    {
     "data": {
      "image/png": "[encoded data removed]",
      "text/plain": [
       "<Figure size 432x216 with 1 Axes>"
      ]
     },
     "metadata": {
      "needs_background": "light"
     },
     "output_type": "display_data"
    },
    {
     "data": {
      "image/png": "[encoded data removed]",
      "text/plain": [
       "<Figure size 432x216 with 1 Axes>"
      ]
     },
     "metadata": {
      "needs_background": "light"
     },
     "output_type": "display_data"
    }
   ],
   "source": [
    "#numerical variable\n",
    "\n",
    "for i in num:\n",
    "    boxplot(i)"
   ]
  },
  {
   "cell_type": "markdown",
   "id": "aec26c83",
   "metadata": {},
   "source": [
    "### <U>4.DATA WRANGLING"
   ]
  },
  {
   "cell_type": "code",
   "execution_count": 40,
   "id": "6a7d5834",
   "metadata": {},
   "outputs": [],
   "source": [
    "#Dropping Id column which has no explanatory power over target\n",
    "data1.drop([\"Loan ID\",\"Customer ID\"],axis=1,inplace=True)"
   ]
  },
  {
   "cell_type": "code",
   "execution_count": 41,
   "id": "c0da3c79",
   "metadata": {},
   "outputs": [],
   "source": [
    "#formatting the column with redundant data \n",
    "for i in range(len(data1['Home Ownership'])):\n",
    "    if data1['Home Ownership'][i] == \"HaveMortgage\":\n",
    "        data1['Home Ownership'][i] = \"Home Mortgage\" "
   ]
  },
  {
   "cell_type": "code",
   "execution_count": 42,
   "id": "9e84881c",
   "metadata": {},
   "outputs": [
    {
     "data": {
      "text/plain": [
       "Home Mortgage    43440\n",
       "Rent             37395\n",
       "Own Home          8075\n",
       "Name: Home Ownership, dtype: int64"
      ]
     },
     "execution_count": 42,
     "metadata": {},
     "output_type": "execute_result"
    }
   ],
   "source": [
    "data1['Home Ownership'].value_counts()"
   ]
  },
  {
   "cell_type": "code",
   "execution_count": 43,
   "id": "998f1f3c",
   "metadata": {},
   "outputs": [],
   "source": [
    "for i in range(len(data1['Purpose'])):\n",
    "    if data1['Purpose'][i] == \"other\":\n",
    "        data1['Purpose'][i] = \"Other\""
   ]
  },
  {
   "cell_type": "code",
   "execution_count": 44,
   "id": "0cd9c27f",
   "metadata": {},
   "outputs": [
    {
     "data": {
      "text/plain": [
       "Debt Consolidation      70447\n",
       "Other                    7767\n",
       "Home Improvements        5206\n",
       "Business Loan            1328\n",
       "Buy a Car                1196\n",
       "Medical Bills             955\n",
       "Buy House                 559\n",
       "Take a Trip               454\n",
       "major_purchase            344\n",
       "small_business            248\n",
       "moving                    124\n",
       "wedding                    99\n",
       "Educational Expenses       92\n",
       "vacation                   82\n",
       "renewable_energy            9\n",
       "Name: Purpose, dtype: int64"
      ]
     },
     "execution_count": 44,
     "metadata": {},
     "output_type": "execute_result"
    }
   ],
   "source": [
    "data1['Purpose'].value_counts()"
   ]
  },
  {
   "cell_type": "code",
   "execution_count": null,
   "id": "76e1100c",
   "metadata": {},
   "outputs": [],
   "source": []
  },
  {
   "cell_type": "code",
   "execution_count": 45,
   "id": "85f973ee",
   "metadata": {
    "scrolled": true
   },
   "outputs": [
    {
     "name": "stdout",
     "output_type": "stream",
     "text": [
      "Current Loan Amount : 12738\n"
     ]
    }
   ],
   "source": [
    "# Based on visualization of box plot , we will remove the extreme values from the following variables\n",
    "\n",
    "#l = ['Annual Income','Maximum Open Credit','Current Loan Amount','Current Credit Balance',\n",
    "#     'Monthly Debt','Number of Open Accounts','Years of Credit History','Months since last delinquent']\n",
    "\n",
    "L = ['Current Loan Amount']\n",
    "# Number of extreme values\n",
    "for i in L:\n",
    "    print(i,\":\",len(data1.loc[data1[i] == max(data1[i])]))\n"
   ]
  },
  {
   "cell_type": "code",
   "execution_count": 46,
   "id": "f4cb8b92",
   "metadata": {},
   "outputs": [
    {
     "data": {
      "text/plain": [
       "99999999"
      ]
     },
     "execution_count": 46,
     "metadata": {},
     "output_type": "execute_result"
    }
   ],
   "source": [
    "max(data1[\"Current Loan Amount\"])"
   ]
  },
  {
   "cell_type": "code",
   "execution_count": 47,
   "id": "fb91cc7c",
   "metadata": {},
   "outputs": [],
   "source": [
    "# Finding and Treating Outliers which are at the extreme\n",
    "for i in L:\n",
    "    data1.loc[data1[i] == max(data1[i]),i] = np.nan"
   ]
  },
  {
   "cell_type": "code",
   "execution_count": 48,
   "id": "f4a8da0c",
   "metadata": {},
   "outputs": [
    {
     "data": {
      "text/plain": [
       "Index(['Loan Status', 'Current Loan Amount', 'Term', 'Credit Score',\n",
       "       'Years in current job', 'Home Ownership', 'Annual Income', 'Purpose',\n",
       "       'Monthly Debt', 'Years of Credit History',\n",
       "       'Months since last delinquent', 'Number of Open Accounts',\n",
       "       'Number of Credit Problems', 'Current Credit Balance',\n",
       "       'Maximum Open Credit', 'Bankruptcies', 'Tax Liens'],\n",
       "      dtype='object')"
      ]
     },
     "execution_count": 48,
     "metadata": {},
     "output_type": "execute_result"
    }
   ],
   "source": [
    "# binning\n",
    "data1.columns"
   ]
  },
  {
   "cell_type": "code",
   "execution_count": 49,
   "id": "f47f993a",
   "metadata": {},
   "outputs": [],
   "source": [
    "#binning\n",
    "data1['Bankruptcies'] = np.where(data1['Bankruptcies']> 0, 1, 0)"
   ]
  },
  {
   "cell_type": "code",
   "execution_count": 50,
   "id": "544bcc2a",
   "metadata": {},
   "outputs": [],
   "source": [
    "data1['Tax Liens'] = np.where(data1['Tax Liens']> 0, 1, 0)"
   ]
  },
  {
   "cell_type": "code",
   "execution_count": 51,
   "id": "b6e6b2fc",
   "metadata": {},
   "outputs": [],
   "source": [
    "data1['Number of Credit Problems'] = np.where(data1['Number of Credit Problems']> 0, 1, 0)"
   ]
  },
  {
   "cell_type": "code",
   "execution_count": null,
   "id": "a749135f",
   "metadata": {},
   "outputs": [],
   "source": []
  },
  {
   "cell_type": "code",
   "execution_count": 52,
   "id": "6a7b4378",
   "metadata": {},
   "outputs": [
    {
     "name": "stderr",
     "output_type": "stream",
     "text": [
      "\n",
      "KeyboardInterrupt\n",
      "\n"
     ]
    }
   ],
   "source": [
    "# Treating credit scores which are above 850 which ould be the max\n",
    "for i in range(len(data1)):\n",
    "    if  data1['Credit Score'][i] > 800:\n",
    "        data1['Credit Score'][i] = (data1['Credit Score'][i])/10 "
   ]
  },
  {
   "cell_type": "code",
   "execution_count": null,
   "id": "73ca2134",
   "metadata": {
    "scrolled": true
   },
   "outputs": [],
   "source": [
    "#box plot of Numerical Variables after removing the points which are extremely out of distribution \n",
    "\n",
    "for i in L:\n",
    "    boxplot(i)"
   ]
  },
  {
   "cell_type": "markdown",
   "id": "f0210b36",
   "metadata": {},
   "source": [
    "* The skewness has reduced much noticable for variables where outliers where present after removal of it."
   ]
  },
  {
   "cell_type": "code",
   "execution_count": null,
   "id": "49b0f95f",
   "metadata": {},
   "outputs": [],
   "source": [
    "#summary after outlier treatment\n",
    "data1.describe().T"
   ]
  },
  {
   "cell_type": "code",
   "execution_count": null,
   "id": "820a5080",
   "metadata": {},
   "outputs": [],
   "source": [
    "data1.columns"
   ]
  },
  {
   "cell_type": "code",
   "execution_count": 353,
   "id": "7470b20d",
   "metadata": {},
   "outputs": [],
   "source": [
    "#data1.to_csv(\"bin_data1_hypotest_cleaned.csv\",index=False)\n",
    "#data1 =  pd.read_csv(\"bin_data1_hypotest_cleaned.csv\")"
   ]
  },
  {
   "cell_type": "markdown",
   "id": "ae2cc446",
   "metadata": {},
   "source": [
    "### <u> 5.HYPOTHESIS TESTING\n",
    " Hypothesis testing to check statistical significance of variable over the target"
   ]
  },
  {
   "cell_type": "markdown",
   "id": "c8209f54",
   "metadata": {},
   "source": [
    "* <b> Test of Independence\n",
    "    \n",
    "       Identifying the relationship between Binary target(dependent) and Categorical variables(independent)    "
   ]
  },
  {
   "cell_type": "code",
   "execution_count": null,
   "id": "619db949",
   "metadata": {},
   "outputs": [],
   "source": [
    "cat = ['Term','Home Ownership','Purpose','Years in current job','Tax Liens','Bankruptcies','Number of Credit Problems']"
   ]
  },
  {
   "cell_type": "code",
   "execution_count": null,
   "id": "8148d5d0",
   "metadata": {},
   "outputs": [],
   "source": [
    "#Side by side barplot to analyse visually\n",
    "for i in cat:    \n",
    "    plt.figure(figsize=(5,5))\n",
    "    pd.crosstab(data1[i], data1['Loan Status'],normalize=True).plot(kind='bar',rot=0)\n",
    "    \n",
    "    plt.xlabel(i,fontsize=12)\n",
    "    plt.ylabel('Percentage',fontsize=12)\n",
    "    plt.title('Percentage' + ' vs '+i ,fontsize=14)\n",
    "    plt.show()"
   ]
  },
  {
   "cell_type": "code",
   "execution_count": null,
   "id": "9c64a755",
   "metadata": {},
   "outputs": [],
   "source": [
    "#Hypothesis test:\n",
    "\n",
    "for i in cat:\n",
    "    Data =  pd.crosstab(data1[i],columns = data1['Loan Status'])\n",
    "    \n",
    "    #H0 : There is no relation between two variables\n",
    "    #H1 : There is a relation between two variables\n",
    "\n",
    "    #Calculate Critical value\n",
    "    r,c = Data.shape\n",
    "    alpha = 0.05  #assumed\n",
    "    x2c = stats.chi2.isf(alpha,df = ((r-1) * (c-1)))\n",
    "    x2c\n",
    "\n",
    "    #Chisquare statistic using contingency table\n",
    "    cont = stats.chi2_contingency(Data)\n",
    "    cont\n",
    "\n",
    "    # From the contingency table\n",
    "    # Chisquare statistic\n",
    "    x2stat = cont[0]\n",
    "    x2stat\n",
    "\n",
    "    # p value test\n",
    "    if stats.chi2.sf(x2stat,df = (r-1)*(c-1)) > alpha:\n",
    "        print(\"p > alpha, There is NO SIGNIFICANT relationship between Loan status \" + \"& \" + (i))\n",
    "        print({\"p_value\" : cont[1],\"alpha\" :alpha})\n",
    "        print(\"_\"*120)\n",
    "    else:\n",
    "        print(\"p < alpha, There is SIGNIFICANT relationship between Loan status \" + \"& \" + (i)) \n",
    "        print({\"p_value\" : cont[1],\"alpha\" :alpha})\n",
    "        print(\"_\"*120)"
   ]
  },
  {
   "cell_type": "markdown",
   "id": "5d73ef8c",
   "metadata": {},
   "source": [
    "* <b> Two large Independent population test   \n",
    "      To check the difference in mean between the target groups    "
   ]
  },
  {
   "cell_type": "code",
   "execution_count": null,
   "id": "a904d8a3",
   "metadata": {},
   "outputs": [],
   "source": [
    "#Numerical variable\n",
    "num = ['Number of Open Accounts','Monthly Debt','Current Credit Balance','Annual Income','Years of Credit History','Maximum Open Credit','Months since last delinquent','Current Loan Amount']"
   ]
  },
  {
   "cell_type": "code",
   "execution_count": null,
   "id": "d9bfb0bd",
   "metadata": {},
   "outputs": [],
   "source": [
    "#Side by side Box plot to analyse visually\n",
    "for i in num:\n",
    "    sns.boxplot(data=data1,x='Loan Status',y=i,hue='Loan Status')\n",
    "    plt.show()"
   ]
  },
  {
   "cell_type": "code",
   "execution_count": null,
   "id": "f25bd025",
   "metadata": {},
   "outputs": [],
   "source": [
    "#Hypothesis testing\n",
    "\n",
    "for i in num:\n",
    "\n",
    "    # Step 1 : H0 : mu1 - mu2 = 0 (Variable is insignificant over the target variable)\n",
    "    #          H1 : mu1 - mu2 != 0 (Variable is significant over the target variable)\n",
    "\n",
    "    xbar1 = data1.groupby([\"Loan Status\"])[i].mean()[0]\n",
    "    xbar2 = data1.groupby([\"Loan Status\"])[i].mean()[1]\n",
    "    s1 = data1.groupby([\"Loan Status\"])[i].std()[0]\n",
    "    s2 = data1.groupby([\"Loan Status\"])[i].std()[1]\n",
    "    n1 = data1[\"Loan Status\"].value_counts()[0]\n",
    "    n2 = data1[\"Loan Status\"].value_counts()[1]                          \n",
    "    alpha = 0.05\n",
    "\n",
    "    #Step 2 : Critical value\n",
    "\n",
    "    ZcLeft = stats.norm.ppf(alpha/2)\n",
    "    ZcRight = stats.norm.isf(alpha/2)\n",
    "\n",
    "    #Step 3: Z-statistic \n",
    "\n",
    "    Z = ((xbar1-xbar2)-(0))/np.sqrt((s1**2/n1)+(s1**2/n2))\n",
    "\n",
    "    #Step 4 Decision based on crtical value method\n",
    "\n",
    "    if Z > ZcLeft and Z < ZcRight :\n",
    "         print( i + \" is INSIGNIFICANT over the target variable\")\n",
    "         print(\"_\"*200)   \n",
    "           \n",
    "    else:\n",
    "         print( i + \" is SIGNIFICANT over the target variable\")\n",
    "         print(\"_\"*100)   "
   ]
  },
  {
   "cell_type": "markdown",
   "id": "a63e1383",
   "metadata": {},
   "source": [
    "* From the hypothesis test we could see the variable bankruptcy is not significant but still we not drop because it may be significant in combination with other variable."
   ]
  },
  {
   "cell_type": "markdown",
   "id": "b27caae0",
   "metadata": {},
   "source": [
    "### <u> 6.FEATURE ENGINEERING"
   ]
  },
  {
   "cell_type": "code",
   "execution_count": null,
   "id": "50b4cd0e",
   "metadata": {},
   "outputs": [],
   "source": [
    "#Find Missing percent in each columns after removing the outliers\n",
    "null_columns = []\n",
    "for i in data1.columns:\n",
    "    if data1[i].isna().sum() != 0:\n",
    "        null_columns.append(i)\n",
    "        \n",
    "for i in null_columns:\n",
    "    print(\"Missing Percent of \"+ i + \":\",round((data1[i].isna().sum()/len(data1[i])*100),4))"
   ]
  },
  {
   "cell_type": "code",
   "execution_count": null,
   "id": "88abdd1e",
   "metadata": {},
   "outputs": [],
   "source": [
    "data1.columns"
   ]
  },
  {
   "cell_type": "markdown",
   "id": "57464552",
   "metadata": {},
   "source": [
    "* <B> Encoding Nominal variables"
   ]
  },
  {
   "cell_type": "code",
   "execution_count": 355,
   "id": "98bd8141",
   "metadata": {},
   "outputs": [],
   "source": [
    "# Create dummies of Nominal variable\n",
    "data1 = pd.get_dummies(data1,columns=['Term','Home Ownership','Purpose','Bankruptcies','Tax Liens','Number of Credit Problems'],drop_first=True)"
   ]
  },
  {
   "cell_type": "code",
   "execution_count": 356,
   "id": "76dc80e5",
   "metadata": {
    "scrolled": false
   },
   "outputs": [
    {
     "data": {
      "text/plain": [
       "Index(['Loan Status', 'Current Loan Amount', 'Credit Score',\n",
       "       'Years in current job', 'Annual Income', 'Monthly Debt',\n",
       "       'Years of Credit History', 'Months since last delinquent',\n",
       "       'Number of Open Accounts', 'Current Credit Balance',\n",
       "       'Maximum Open Credit', 'Term_Short Term', 'Home Ownership_Own Home',\n",
       "       'Home Ownership_Rent', 'Purpose_Buy House', 'Purpose_Buy a Car',\n",
       "       'Purpose_Debt Consolidation', 'Purpose_Educational Expenses',\n",
       "       'Purpose_Home Improvements', 'Purpose_Medical Bills', 'Purpose_Other',\n",
       "       'Purpose_Take a Trip', 'Purpose_major_purchase', 'Purpose_moving',\n",
       "       'Purpose_renewable_energy', 'Purpose_small_business',\n",
       "       'Purpose_vacation', 'Purpose_wedding', 'Bankruptcies_1', 'Tax Liens_1',\n",
       "       'Number of Credit Problems_1'],\n",
       "      dtype='object')"
      ]
     },
     "execution_count": 356,
     "metadata": {},
     "output_type": "execute_result"
    }
   ],
   "source": [
    "data1.columns"
   ]
  },
  {
   "cell_type": "code",
   "execution_count": null,
   "id": "67730679",
   "metadata": {},
   "outputs": [],
   "source": []
  },
  {
   "cell_type": "markdown",
   "id": "64fcfba3",
   "metadata": {},
   "source": [
    "* <b> Standardizing Numerical variables"
   ]
  },
  {
   "cell_type": "code",
   "execution_count": 357,
   "id": "f5510c75",
   "metadata": {},
   "outputs": [],
   "source": [
    "# Scaling all the necessary variables before feeding in Knn\n",
    "\n",
    "# Using standard scalar\n",
    "#from sklearn.preprocessing import StandardScaler\n",
    "\n",
    "from sklearn.preprocessing import MinMaxScaler\n",
    "\n",
    "\n",
    "continuous = [\"Current Loan Amount\",\"Credit Score\",\"Annual Income\",\"Number of Open Accounts\",\"Current Credit Balance\",\"Years in current job\",\"Monthly Debt\",\"Months since last delinquent\",\"Years of Credit History\",\"Maximum Open Credit\"]\n",
    "#scaler = StandardScaler()\n",
    "scaler = MinMaxScaler()\n",
    "data1[continuous]= scaler.fit_transform(data1[continuous])"
   ]
  },
  {
   "cell_type": "code",
   "execution_count": 361,
   "id": "c8fc78cd",
   "metadata": {
    "scrolled": false
   },
   "outputs": [
    {
     "data": {
      "text/html": [
       "<div>\n",
       "<style scoped>\n",
       "    .dataframe tbody tr th:only-of-type {\n",
       "        vertical-align: middle;\n",
       "    }\n",
       "\n",
       "    .dataframe tbody tr th {\n",
       "        vertical-align: top;\n",
       "    }\n",
       "\n",
       "    .dataframe thead th {\n",
       "        text-align: right;\n",
       "    }\n",
       "</style>\n",
       "<table border=\"1\" class=\"dataframe\">\n",
       "  <thead>\n",
       "    <tr style=\"text-align: right;\">\n",
       "      <th></th>\n",
       "      <th>Loan Status</th>\n",
       "      <th>Current Loan Amount</th>\n",
       "      <th>Credit Score</th>\n",
       "      <th>Years in current job</th>\n",
       "      <th>Annual Income</th>\n",
       "      <th>Monthly Debt</th>\n",
       "      <th>Years of Credit History</th>\n",
       "      <th>Months since last delinquent</th>\n",
       "      <th>Number of Open Accounts</th>\n",
       "      <th>Current Credit Balance</th>\n",
       "      <th>...</th>\n",
       "      <th>Purpose_Take a Trip</th>\n",
       "      <th>Purpose_major_purchase</th>\n",
       "      <th>Purpose_moving</th>\n",
       "      <th>Purpose_renewable_energy</th>\n",
       "      <th>Purpose_small_business</th>\n",
       "      <th>Purpose_vacation</th>\n",
       "      <th>Purpose_wedding</th>\n",
       "      <th>Bankruptcies_1</th>\n",
       "      <th>Tax Liens_1</th>\n",
       "      <th>Number of Credit Problems_1</th>\n",
       "    </tr>\n",
       "  </thead>\n",
       "  <tbody>\n",
       "    <tr>\n",
       "      <th>0</th>\n",
       "      <td>1</td>\n",
       "      <td>0.331817</td>\n",
       "      <td>0.861446</td>\n",
       "      <td>0.0</td>\n",
       "      <td>0.004892</td>\n",
       "      <td>0.033889</td>\n",
       "      <td>0.215247</td>\n",
       "      <td>0.056818</td>\n",
       "      <td>0.157895</td>\n",
       "      <td>0.003908</td>\n",
       "      <td>...</td>\n",
       "      <td>0</td>\n",
       "      <td>0</td>\n",
       "      <td>0</td>\n",
       "      <td>0</td>\n",
       "      <td>0</td>\n",
       "      <td>0</td>\n",
       "      <td>0</td>\n",
       "      <td>0</td>\n",
       "      <td>0</td>\n",
       "      <td>0</td>\n",
       "    </tr>\n",
       "    <tr>\n",
       "      <th>1</th>\n",
       "      <td>1</td>\n",
       "      <td>0.693053</td>\n",
       "      <td>0.891566</td>\n",
       "      <td>1.0</td>\n",
       "      <td>0.008848</td>\n",
       "      <td>0.038889</td>\n",
       "      <td>0.345291</td>\n",
       "      <td>NaN</td>\n",
       "      <td>0.184211</td>\n",
       "      <td>0.020634</td>\n",
       "      <td>...</td>\n",
       "      <td>0</td>\n",
       "      <td>0</td>\n",
       "      <td>0</td>\n",
       "      <td>0</td>\n",
       "      <td>0</td>\n",
       "      <td>0</td>\n",
       "      <td>0</td>\n",
       "      <td>0</td>\n",
       "      <td>0</td>\n",
       "      <td>0</td>\n",
       "    </tr>\n",
       "  </tbody>\n",
       "</table>\n",
       "<p>2 rows × 31 columns</p>\n",
       "</div>"
      ],
      "text/plain": [
       "   Loan Status  Current Loan Amount  Credit Score  Years in current job  \\\n",
       "0            1             0.331817      0.861446                   0.0   \n",
       "1            1             0.693053      0.891566                   1.0   \n",
       "\n",
       "   Annual Income  Monthly Debt  Years of Credit History  \\\n",
       "0       0.004892      0.033889                 0.215247   \n",
       "1       0.008848      0.038889                 0.345291   \n",
       "\n",
       "   Months since last delinquent  Number of Open Accounts  \\\n",
       "0                      0.056818                 0.157895   \n",
       "1                           NaN                 0.184211   \n",
       "\n",
       "   Current Credit Balance  ...  Purpose_Take a Trip  Purpose_major_purchase  \\\n",
       "0                0.003908  ...                    0                       0   \n",
       "1                0.020634  ...                    0                       0   \n",
       "\n",
       "   Purpose_moving  Purpose_renewable_energy  Purpose_small_business  \\\n",
       "0               0                         0                       0   \n",
       "1               0                         0                       0   \n",
       "\n",
       "   Purpose_vacation  Purpose_wedding  Bankruptcies_1  Tax Liens_1  \\\n",
       "0                 0                0               0            0   \n",
       "1                 0                0               0            0   \n",
       "\n",
       "   Number of Credit Problems_1  \n",
       "0                            0  \n",
       "1                            0  \n",
       "\n",
       "[2 rows x 31 columns]"
      ]
     },
     "execution_count": 361,
     "metadata": {},
     "output_type": "execute_result"
    }
   ],
   "source": [
    "data1.head(2)"
   ]
  },
  {
   "cell_type": "code",
   "execution_count": 362,
   "id": "c074a331",
   "metadata": {},
   "outputs": [],
   "source": [
    "#data1.to_csv(\"binned_minmaxscaled_data1_hypotest.csv\",index=False)"
   ]
  },
  {
   "cell_type": "markdown",
   "id": "b1c18f43",
   "metadata": {},
   "source": [
    "### <u>7.MODEL TRAINING AND EVALUATING"
   ]
  },
  {
   "cell_type": "markdown",
   "id": "5f32d2e0",
   "metadata": {},
   "source": [
    "##### TRIAL 1:  (BASELINE MODEL)"
   ]
  },
  {
   "cell_type": "markdown",
   "id": "d7ea8674",
   "metadata": {},
   "source": [
    "* <b> Missing values are imputed by KNN imputer\n",
    "* <B> Standardized data    "
   ]
  },
  {
   "cell_type": "code",
   "execution_count": 413,
   "id": "61402c57",
   "metadata": {},
   "outputs": [
    {
     "name": "stdout",
     "output_type": "stream",
     "text": [
      "timetaken: 12.66 min\n"
     ]
    }
   ],
   "source": [
    "# Imputing using knn imputer  \n",
    "\n",
    "from sklearn.impute import KNNImputer  \n",
    "import time  \n",
    "\n",
    "start = time.time()  \n",
    "\n",
    "imputer = KNNImputer(n_neighbors=5)  \n",
    "knn_data = imputer.fit_transform(data1)  \n",
    "  \n",
    "end  = time.time()  \n",
    "  \n",
    "print(\"timetaken:\",round((1000*(end-start)/60000),2),\"min\")  "
   ]
  },
  {
   "cell_type": "code",
   "execution_count": 417,
   "id": "1479149b",
   "metadata": {
    "scrolled": true
   },
   "outputs": [],
   "source": [
    "#Numerical variables for knn- imputation\n",
    "col = data1.columns\n",
    "data1 = pd.DataFrame(knn_data,columns=col)"
   ]
  },
  {
   "cell_type": "code",
   "execution_count": 418,
   "id": "730284ac",
   "metadata": {},
   "outputs": [],
   "source": [
    "data1.to_csv(\"knn_imputed_scaled_final.csv\",index=False)\n",
    "data1 =pd.read_csv(\"knn_imputed_scaled_final.csv\")"
   ]
  },
  {
   "cell_type": "code",
   "execution_count": 419,
   "id": "224182c2",
   "metadata": {},
   "outputs": [],
   "source": [
    "#splitting dependent and independent variables \n",
    "X = data1.drop('Loan Status',axis=1)\n",
    "y = data1['Loan Status']"
   ]
  },
  {
   "cell_type": "code",
   "execution_count": 420,
   "id": "b47a03a2",
   "metadata": {},
   "outputs": [],
   "source": [
    "#Splitting the data TRAIN TEST\n",
    "from sklearn.model_selection import train_test_split\n",
    "X_train,X_test,y_train,y_test = train_test_split(X,y,test_size=0.25,stratify=y,random_state=42)"
   ]
  },
  {
   "cell_type": "markdown",
   "id": "e420bd0c",
   "metadata": {},
   "source": [
    "* <b> Model With Default Parameters"
   ]
  },
  {
   "cell_type": "code",
   "execution_count": 421,
   "id": "46196dfb",
   "metadata": {},
   "outputs": [],
   "source": [
    "#models with default parameter\n",
    "rf1 = RandomForestClassifier() #random forest\n",
    "ab1 = AdaBoostClassifier() #adaboost\n",
    "gb1 = GradientBoostingClassifier() #gradientboost\n",
    "hgb1 = HistGradientBoostingClassifier() #histgradient boosting\n",
    "xgb1 = XGBClassifier()#xgboost classifier"
   ]
  },
  {
   "cell_type": "markdown",
   "id": "b8422fbd",
   "metadata": {},
   "source": [
    "* <b> Validating the model on Test data(Validation)"
   ]
  },
  {
   "cell_type": "code",
   "execution_count": 422,
   "id": "80310141",
   "metadata": {},
   "outputs": [
    {
     "data": {
      "text/html": [
       "<div>\n",
       "<style scoped>\n",
       "    .dataframe tbody tr th:only-of-type {\n",
       "        vertical-align: middle;\n",
       "    }\n",
       "\n",
       "    .dataframe tbody tr th {\n",
       "        vertical-align: top;\n",
       "    }\n",
       "\n",
       "    .dataframe thead th {\n",
       "        text-align: right;\n",
       "    }\n",
       "</style>\n",
       "<table border=\"1\" class=\"dataframe\">\n",
       "  <thead>\n",
       "    <tr style=\"text-align: center;\">\n",
       "      <th></th>\n",
       "      <th>accuracy</th>\n",
       "      <th>f1_score</th>\n",
       "      <th>auroc</th>\n",
       "    </tr>\n",
       "  </thead>\n",
       "  <tbody>\n",
       "    <tr>\n",
       "      <th>DT</th>\n",
       "      <td>0.732005</td>\n",
       "      <td>0.311250</td>\n",
       "      <td>0.575253</td>\n",
       "    </tr>\n",
       "    <tr>\n",
       "      <th>RF</th>\n",
       "      <td>0.724762</td>\n",
       "      <td>0.285447</td>\n",
       "      <td>0.564240</td>\n",
       "    </tr>\n",
       "    <tr>\n",
       "      <th>AB</th>\n",
       "      <td>0.731915</td>\n",
       "      <td>0.305721</td>\n",
       "      <td>0.573556</td>\n",
       "    </tr>\n",
       "    <tr>\n",
       "      <th>GB</th>\n",
       "      <td>0.732275</td>\n",
       "      <td>0.319185</td>\n",
       "      <td>0.577797</td>\n",
       "    </tr>\n",
       "    <tr>\n",
       "      <th>HGB</th>\n",
       "      <td>0.729125</td>\n",
       "      <td>0.349292</td>\n",
       "      <td>0.586225</td>\n",
       "    </tr>\n",
       "  </tbody>\n",
       "</table>\n",
       "</div>"
      ],
      "text/plain": [
       "     accuracy  f1_score    auroc \n",
       "DT   0.732005  0.311250  0.575253\n",
       "RF   0.724762  0.285447  0.564240\n",
       "AB   0.731915  0.305721  0.573556\n",
       "GB   0.732275  0.319185  0.577797\n",
       "HGB  0.729125  0.349292  0.586225"
      ]
     },
     "execution_count": 422,
     "metadata": {},
     "output_type": "execute_result"
    }
   ],
   "source": [
    "# Default model performance on test data\n",
    "L = [rf1,ab1,gb1,hgb1,xgb1]\n",
    "acc1 = []\n",
    "f1 = []\n",
    "auroc1 = []\n",
    "for i in L:\n",
    "    model = i.fit(X_train,y_train)\n",
    "    pred = model.predict(X_test)\n",
    "    score = mat.accuracy_score(y_test,pred)\n",
    "    acc1.append(score)\n",
    "    f_1 = mat.f1_score(y_test,pred)\n",
    "    f1.append(f_1)\n",
    "    auroc = mat.roc_auc_score(y_test,pred)\n",
    "    auroc1.append(auroc)\n",
    "df1 = pd.DataFrame({\"accuracy\":acc1,\"f1_score\":f1,\"auroc\":auroc1},index=[\"DT\",\"RF\",\"AB\",\"GB\",\"HGB\"])    \n",
    "df1"
   ]
  },
  {
   "cell_type": "markdown",
   "id": "8dd5d9c8",
   "metadata": {},
   "source": [
    "#### <i> TRIAL 2:"
   ]
  },
  {
   "cell_type": "markdown",
   "id": "625d0e0c",
   "metadata": {},
   "source": [
    "* <b> Descaled Standardized variables"
   ]
  },
  {
   "cell_type": "code",
   "execution_count": 423,
   "id": "920219ce",
   "metadata": {},
   "outputs": [],
   "source": [
    "data2 = pd.read_csv(\"knn_imputed_scaled_final.csv\")"
   ]
  },
  {
   "cell_type": "code",
   "execution_count": 424,
   "id": "d51f3518",
   "metadata": {},
   "outputs": [
    {
     "data": {
      "text/html": [
       "<div>\n",
       "<style scoped>\n",
       "    .dataframe tbody tr th:only-of-type {\n",
       "        vertical-align: middle;\n",
       "    }\n",
       "\n",
       "    .dataframe tbody tr th {\n",
       "        vertical-align: top;\n",
       "    }\n",
       "\n",
       "    .dataframe thead th {\n",
       "        text-align: right;\n",
       "    }\n",
       "</style>\n",
       "<table border=\"1\" class=\"dataframe\">\n",
       "  <thead>\n",
       "    <tr style=\"text-align: center;\">\n",
       "      <th></th>\n",
       "      <th>Current Loan Amount</th>\n",
       "      <th>Credit Score</th>\n",
       "      <th>Annual Income</th>\n",
       "      <th>Tax Liens</th>\n",
       "      <th>Number of Open Accounts</th>\n",
       "      <th>Number of Credit Problems</th>\n",
       "      <th>Current Credit Balance</th>\n",
       "      <th>Years in current job</th>\n",
       "      <th>Monthly Debt</th>\n",
       "      <th>Months since last delinquent</th>\n",
       "      <th>Years of Credit History</th>\n",
       "      <th>Maximum Open Credit</th>\n",
       "    </tr>\n",
       "  </thead>\n",
       "  <tbody>\n",
       "    <tr>\n",
       "      <th>0</th>\n",
       "      <td>12232.0</td>\n",
       "      <td>728.0</td>\n",
       "      <td>46643.0</td>\n",
       "      <td>2.081668e-17</td>\n",
       "      <td>12.0</td>\n",
       "      <td>2.775558e-17</td>\n",
       "      <td>6762.0</td>\n",
       "      <td>0.0</td>\n",
       "      <td>777.39</td>\n",
       "      <td>10.0</td>\n",
       "      <td>18.0</td>\n",
       "      <td>7946.0</td>\n",
       "    </tr>\n",
       "    <tr>\n",
       "      <th>1</th>\n",
       "      <td>25014.0</td>\n",
       "      <td>733.0</td>\n",
       "      <td>81099.0</td>\n",
       "      <td>2.081668e-17</td>\n",
       "      <td>14.0</td>\n",
       "      <td>2.775558e-17</td>\n",
       "      <td>35706.0</td>\n",
       "      <td>10.0</td>\n",
       "      <td>892.09</td>\n",
       "      <td>43.0</td>\n",
       "      <td>26.7</td>\n",
       "      <td>77961.0</td>\n",
       "    </tr>\n",
       "    <tr>\n",
       "      <th>2</th>\n",
       "      <td>16117.0</td>\n",
       "      <td>724.0</td>\n",
       "      <td>60438.0</td>\n",
       "      <td>2.081668e-17</td>\n",
       "      <td>11.0</td>\n",
       "      <td>1.000000e+00</td>\n",
       "      <td>11275.0</td>\n",
       "      <td>9.0</td>\n",
       "      <td>1244.02</td>\n",
       "      <td>32.0</td>\n",
       "      <td>16.7</td>\n",
       "      <td>14815.0</td>\n",
       "    </tr>\n",
       "    <tr>\n",
       "      <th>3</th>\n",
       "      <td>11716.0</td>\n",
       "      <td>740.0</td>\n",
       "      <td>34171.0</td>\n",
       "      <td>2.081668e-17</td>\n",
       "      <td>21.0</td>\n",
       "      <td>2.775558e-17</td>\n",
       "      <td>7009.0</td>\n",
       "      <td>3.0</td>\n",
       "      <td>990.94</td>\n",
       "      <td>26.8</td>\n",
       "      <td>10.0</td>\n",
       "      <td>43533.0</td>\n",
       "    </tr>\n",
       "    <tr>\n",
       "      <th>4</th>\n",
       "      <td>9789.0</td>\n",
       "      <td>686.0</td>\n",
       "      <td>47003.0</td>\n",
       "      <td>2.081668e-17</td>\n",
       "      <td>13.0</td>\n",
       "      <td>1.000000e+00</td>\n",
       "      <td>16913.0</td>\n",
       "      <td>10.0</td>\n",
       "      <td>503.71</td>\n",
       "      <td>25.0</td>\n",
       "      <td>16.7</td>\n",
       "      <td>19553.0</td>\n",
       "    </tr>\n",
       "    <tr>\n",
       "      <th>...</th>\n",
       "      <td>...</td>\n",
       "      <td>...</td>\n",
       "      <td>...</td>\n",
       "      <td>...</td>\n",
       "      <td>...</td>\n",
       "      <td>...</td>\n",
       "      <td>...</td>\n",
       "      <td>...</td>\n",
       "      <td>...</td>\n",
       "      <td>...</td>\n",
       "      <td>...</td>\n",
       "      <td>...</td>\n",
       "    </tr>\n",
       "    <tr>\n",
       "      <th>88905</th>\n",
       "      <td>10136.0</td>\n",
       "      <td>728.0</td>\n",
       "      <td>35476.0</td>\n",
       "      <td>2.081668e-17</td>\n",
       "      <td>14.0</td>\n",
       "      <td>2.775558e-17</td>\n",
       "      <td>15914.0</td>\n",
       "      <td>10.0</td>\n",
       "      <td>567.62</td>\n",
       "      <td>14.0</td>\n",
       "      <td>21.2</td>\n",
       "      <td>28265.0</td>\n",
       "    </tr>\n",
       "    <tr>\n",
       "      <th>88906</th>\n",
       "      <td>29610.0</td>\n",
       "      <td>710.0</td>\n",
       "      <td>123375.0</td>\n",
       "      <td>2.081668e-17</td>\n",
       "      <td>11.0</td>\n",
       "      <td>2.775558e-17</td>\n",
       "      <td>17727.0</td>\n",
       "      <td>10.0</td>\n",
       "      <td>2508.63</td>\n",
       "      <td>16.0</td>\n",
       "      <td>15.0</td>\n",
       "      <td>32766.0</td>\n",
       "    </tr>\n",
       "    <tr>\n",
       "      <th>88907</th>\n",
       "      <td>24394.0</td>\n",
       "      <td>746.0</td>\n",
       "      <td>71148.0</td>\n",
       "      <td>2.081668e-17</td>\n",
       "      <td>8.0</td>\n",
       "      <td>2.775558e-17</td>\n",
       "      <td>44728.0</td>\n",
       "      <td>9.4</td>\n",
       "      <td>818.20</td>\n",
       "      <td>9.0</td>\n",
       "      <td>36.4</td>\n",
       "      <td>53374.0</td>\n",
       "    </tr>\n",
       "    <tr>\n",
       "      <th>88908</th>\n",
       "      <td>5030.0</td>\n",
       "      <td>722.0</td>\n",
       "      <td>25424.0</td>\n",
       "      <td>2.081668e-17</td>\n",
       "      <td>12.0</td>\n",
       "      <td>2.775558e-17</td>\n",
       "      <td>6374.0</td>\n",
       "      <td>7.6</td>\n",
       "      <td>360.17</td>\n",
       "      <td>7.0</td>\n",
       "      <td>19.0</td>\n",
       "      <td>18422.0</td>\n",
       "    </tr>\n",
       "    <tr>\n",
       "      <th>88909</th>\n",
       "      <td>18446.0</td>\n",
       "      <td>718.0</td>\n",
       "      <td>44066.0</td>\n",
       "      <td>1.000000e+00</td>\n",
       "      <td>18.0</td>\n",
       "      <td>1.000000e+00</td>\n",
       "      <td>6718.0</td>\n",
       "      <td>6.0</td>\n",
       "      <td>749.13</td>\n",
       "      <td>29.6</td>\n",
       "      <td>10.7</td>\n",
       "      <td>21124.0</td>\n",
       "    </tr>\n",
       "  </tbody>\n",
       "</table>\n",
       "<p>88910 rows × 12 columns</p>\n",
       "</div>"
      ],
      "text/plain": [
       "       Current Loan Amount  Credit Score  Annual Income    Tax Liens   \\\n",
       "0            12232.0            728.0        46643.0     2.081668e-17   \n",
       "1            25014.0            733.0        81099.0     2.081668e-17   \n",
       "2            16117.0            724.0        60438.0     2.081668e-17   \n",
       "3            11716.0            740.0        34171.0     2.081668e-17   \n",
       "4             9789.0            686.0        47003.0     2.081668e-17   \n",
       "...                    ...           ...            ...           ...   \n",
       "88905        10136.0            728.0        35476.0     2.081668e-17   \n",
       "88906        29610.0            710.0       123375.0     2.081668e-17   \n",
       "88907        24394.0            746.0        71148.0     2.081668e-17   \n",
       "88908         5030.0            722.0        25424.0     2.081668e-17   \n",
       "88909        18446.0            718.0        44066.0     1.000000e+00   \n",
       "\n",
       "       Number of Open Accounts  Number of Credit Problems  \\\n",
       "0               12.0                  2.775558e-17          \n",
       "1               14.0                  2.775558e-17          \n",
       "2               11.0                  1.000000e+00          \n",
       "3               21.0                  2.775558e-17          \n",
       "4               13.0                  1.000000e+00          \n",
       "...                        ...                        ...   \n",
       "88905           14.0                  2.775558e-17          \n",
       "88906           11.0                  2.775558e-17          \n",
       "88907            8.0                  2.775558e-17          \n",
       "88908           12.0                  2.775558e-17          \n",
       "88909           18.0                  1.000000e+00          \n",
       "\n",
       "       Current Credit Balance  Years in current job  Monthly Debt  \\\n",
       "0               6762.0                  0.0              777.39     \n",
       "1              35706.0                 10.0              892.09     \n",
       "2              11275.0                  9.0             1244.02     \n",
       "3               7009.0                  3.0              990.94     \n",
       "4              16913.0                 10.0              503.71     \n",
       "...                       ...                   ...           ...   \n",
       "88905          15914.0                 10.0              567.62     \n",
       "88906          17727.0                 10.0             2508.63     \n",
       "88907          44728.0                  9.4              818.20     \n",
       "88908           6374.0                  7.6              360.17     \n",
       "88909           6718.0                  6.0              749.13     \n",
       "\n",
       "       Months since last delinquent  Years of Credit History  \\\n",
       "0                  10.0                       18.0             \n",
       "1                  43.0                       26.7             \n",
       "2                  32.0                       16.7             \n",
       "3                  26.8                       10.0             \n",
       "4                  25.0                       16.7             \n",
       "...                             ...                      ...   \n",
       "88905              14.0                       21.2             \n",
       "88906              16.0                       15.0             \n",
       "88907               9.0                       36.4             \n",
       "88908               7.0                       19.0             \n",
       "88909              29.6                       10.7             \n",
       "\n",
       "       Maximum Open Credit  \n",
       "0             7946.0        \n",
       "1            77961.0        \n",
       "2            14815.0        \n",
       "3            43533.0        \n",
       "4            19553.0        \n",
       "...                    ...  \n",
       "88905        28265.0        \n",
       "88906        32766.0        \n",
       "88907        53374.0        \n",
       "88908        18422.0        \n",
       "88909        21124.0        \n",
       "\n",
       "[88910 rows x 12 columns]"
      ]
     },
     "execution_count": 424,
     "metadata": {},
     "output_type": "execute_result"
    }
   ],
   "source": [
    "#Descaling by inverse transform\n",
    "descaled = scaler.inverse_transform(data1[continuous])\n",
    "descaled_frame = pd.DataFrame(descaled,columns=continuous)\n",
    "descaled_frame"
   ]
  },
  {
   "cell_type": "code",
   "execution_count": 425,
   "id": "0dc063ae",
   "metadata": {},
   "outputs": [],
   "source": [
    "unscaled_var = data1.drop(continuous,axis=1)"
   ]
  },
  {
   "cell_type": "code",
   "execution_count": 426,
   "id": "a5be0307",
   "metadata": {},
   "outputs": [
    {
     "data": {
      "text/html": [
       "<div>\n",
       "<style scoped>\n",
       "    .dataframe tbody tr th:only-of-type {\n",
       "        vertical-align: middle;\n",
       "    }\n",
       "\n",
       "    .dataframe tbody tr th {\n",
       "        vertical-align: top;\n",
       "    }\n",
       "\n",
       "    .dataframe thead th {\n",
       "        text-align: right;\n",
       "    }\n",
       "</style>\n",
       "<table border=\"1\" class=\"dataframe\">\n",
       "  <thead>\n",
       "    <tr style=\"text-align: center;\">\n",
       "      <th></th>\n",
       "      <th>Current Loan Amount</th>\n",
       "      <th>Credit Score</th>\n",
       "      <th>Annual Income</th>\n",
       "      <th>Tax Liens</th>\n",
       "      <th>Number of Open Accounts</th>\n",
       "      <th>Number of Credit Problems</th>\n",
       "      <th>Current Credit Balance</th>\n",
       "      <th>Years in current job</th>\n",
       "      <th>Monthly Debt</th>\n",
       "      <th>Months since last delinquent</th>\n",
       "      <th>...</th>\n",
       "      <th>Purpose_Home Improvements</th>\n",
       "      <th>Purpose_Medical Bills</th>\n",
       "      <th>Purpose_Other</th>\n",
       "      <th>Purpose_Take a Trip</th>\n",
       "      <th>Purpose_major_purchase</th>\n",
       "      <th>Purpose_moving</th>\n",
       "      <th>Purpose_renewable_energy</th>\n",
       "      <th>Purpose_small_business</th>\n",
       "      <th>Purpose_vacation</th>\n",
       "      <th>Purpose_wedding</th>\n",
       "    </tr>\n",
       "  </thead>\n",
       "  <tbody>\n",
       "    <tr>\n",
       "      <th>0</th>\n",
       "      <td>12232.0</td>\n",
       "      <td>728.0</td>\n",
       "      <td>46643.0</td>\n",
       "      <td>2.081668e-17</td>\n",
       "      <td>12.0</td>\n",
       "      <td>2.775558e-17</td>\n",
       "      <td>6762.0</td>\n",
       "      <td>0.0</td>\n",
       "      <td>777.39</td>\n",
       "      <td>10.0</td>\n",
       "      <td>...</td>\n",
       "      <td>0.0</td>\n",
       "      <td>0.0</td>\n",
       "      <td>0.0</td>\n",
       "      <td>0.0</td>\n",
       "      <td>0.0</td>\n",
       "      <td>0.0</td>\n",
       "      <td>0.0</td>\n",
       "      <td>0.0</td>\n",
       "      <td>0.0</td>\n",
       "      <td>0.0</td>\n",
       "    </tr>\n",
       "    <tr>\n",
       "      <th>1</th>\n",
       "      <td>25014.0</td>\n",
       "      <td>733.0</td>\n",
       "      <td>81099.0</td>\n",
       "      <td>2.081668e-17</td>\n",
       "      <td>14.0</td>\n",
       "      <td>2.775558e-17</td>\n",
       "      <td>35706.0</td>\n",
       "      <td>10.0</td>\n",
       "      <td>892.09</td>\n",
       "      <td>43.0</td>\n",
       "      <td>...</td>\n",
       "      <td>0.0</td>\n",
       "      <td>0.0</td>\n",
       "      <td>0.0</td>\n",
       "      <td>0.0</td>\n",
       "      <td>0.0</td>\n",
       "      <td>0.0</td>\n",
       "      <td>0.0</td>\n",
       "      <td>0.0</td>\n",
       "      <td>0.0</td>\n",
       "      <td>0.0</td>\n",
       "    </tr>\n",
       "  </tbody>\n",
       "</table>\n",
       "<p>2 rows × 31 columns</p>\n",
       "</div>"
      ],
      "text/plain": [
       "   Current Loan Amount  Credit Score  Annual Income    Tax Liens   \\\n",
       "0        12232.0            728.0        46643.0     2.081668e-17   \n",
       "1        25014.0            733.0        81099.0     2.081668e-17   \n",
       "\n",
       "   Number of Open Accounts  Number of Credit Problems  Current Credit Balance  \\\n",
       "0           12.0                  2.775558e-17                  6762.0          \n",
       "1           14.0                  2.775558e-17                 35706.0          \n",
       "\n",
       "   Years in current job  Monthly Debt  Months since last delinquent  ...  \\\n",
       "0           0.0             777.39                 10.0              ...   \n",
       "1          10.0             892.09                 43.0              ...   \n",
       "\n",
       "   Purpose_Home Improvements  Purpose_Medical Bills  Purpose_Other  \\\n",
       "0             0.0                      0.0                0.0        \n",
       "1             0.0                      0.0                0.0        \n",
       "\n",
       "   Purpose_Take a Trip  Purpose_major_purchase  Purpose_moving  \\\n",
       "0          0.0                    0.0                 0.0        \n",
       "1          0.0                    0.0                 0.0        \n",
       "\n",
       "   Purpose_renewable_energy  Purpose_small_business  Purpose_vacation  \\\n",
       "0             0.0                      0.0                  0.0         \n",
       "1             0.0                      0.0                  0.0         \n",
       "\n",
       "   Purpose_wedding  \n",
       "0        0.0        \n",
       "1        0.0        \n",
       "\n",
       "[2 rows x 31 columns]"
      ]
     },
     "execution_count": 426,
     "metadata": {},
     "output_type": "execute_result"
    }
   ],
   "source": [
    "# Merging descaled and other unscaled variables\n",
    "descaled_frame.reset_index(drop=True, inplace=True)\n",
    "unscaled_var.reset_index(drop=True, inplace=True)\n",
    "data3 = pd.concat([descaled_frame,unscaled_var],axis=1)\n",
    "data3.head(2)"
   ]
  },
  {
   "cell_type": "code",
   "execution_count": 427,
   "id": "e302b3d4",
   "metadata": {},
   "outputs": [
    {
     "data": {
      "text/plain": [
       "(88910, 31)"
      ]
     },
     "execution_count": 427,
     "metadata": {},
     "output_type": "execute_result"
    }
   ],
   "source": [
    "data3.shape"
   ]
  },
  {
   "cell_type": "code",
   "execution_count": 428,
   "id": "141cb866",
   "metadata": {},
   "outputs": [],
   "source": [
    "data3.to_csv(\"knn_imputed_descaled_final.csv\",index=False)\n",
    "data3 = pd.read_csv(\"knn_imputed_descaled_final.csv\")"
   ]
  },
  {
   "cell_type": "code",
   "execution_count": 429,
   "id": "f72d9ae7",
   "metadata": {},
   "outputs": [],
   "source": [
    "# descaled dataset \n",
    "X = data3.drop('Loan Status',axis=1)\n",
    "y = data3['Loan Status']"
   ]
  },
  {
   "cell_type": "code",
   "execution_count": 430,
   "id": "7899f068",
   "metadata": {},
   "outputs": [],
   "source": [
    "#Splitting the data Train/Test\n",
    "from sklearn.model_selection import train_test_split\n",
    "X_train,X_test,y_train,y_test = train_test_split(X,y,test_size=0.25,stratify=y,random_state=42)"
   ]
  },
  {
   "cell_type": "markdown",
   "id": "683965de",
   "metadata": {},
   "source": [
    "* <b> Model With Default Parameters"
   ]
  },
  {
   "cell_type": "code",
   "execution_count": 431,
   "id": "81ecfdd6",
   "metadata": {},
   "outputs": [],
   "source": [
    "#models with default parameter\n",
    "rf2 = RandomForestClassifier() #random forest\n",
    "ab2 = AdaBoostClassifier() #adaboost\n",
    "gb2 = GradientBoostingClassifier() #gradientboost\n",
    "hgb2 = HistGradientBoostingClassifier() #histgradient boosting\n",
    "xgb2 = XGBClassifier() #xgboosting"
   ]
  },
  {
   "cell_type": "markdown",
   "id": "1185c045",
   "metadata": {},
   "source": [
    "* <b> Validating the model on test data"
   ]
  },
  {
   "cell_type": "code",
   "execution_count": 432,
   "id": "ee4a4c39",
   "metadata": {},
   "outputs": [
    {
     "data": {
      "text/html": [
       "<div>\n",
       "<style scoped>\n",
       "    .dataframe tbody tr th:only-of-type {\n",
       "        vertical-align: middle;\n",
       "    }\n",
       "\n",
       "    .dataframe tbody tr th {\n",
       "        vertical-align: top;\n",
       "    }\n",
       "\n",
       "    .dataframe thead th {\n",
       "        text-align: right;\n",
       "    }\n",
       "</style>\n",
       "<table border=\"1\" class=\"dataframe\">\n",
       "  <thead>\n",
       "    <tr style=\"text-align: center;\">\n",
       "      <th></th>\n",
       "      <th>accuracy</th>\n",
       "      <th>f1_score</th>\n",
       "      <th>auroc</th>\n",
       "    </tr>\n",
       "  </thead>\n",
       "  <tbody>\n",
       "    <tr>\n",
       "      <th>RF</th>\n",
       "      <td>0.735424</td>\n",
       "      <td>0.315765</td>\n",
       "      <td>0.578167</td>\n",
       "    </tr>\n",
       "    <tr>\n",
       "      <th>AB</th>\n",
       "      <td>0.724762</td>\n",
       "      <td>0.285447</td>\n",
       "      <td>0.564240</td>\n",
       "    </tr>\n",
       "    <tr>\n",
       "      <th>GB</th>\n",
       "      <td>0.731870</td>\n",
       "      <td>0.305523</td>\n",
       "      <td>0.573476</td>\n",
       "    </tr>\n",
       "    <tr>\n",
       "      <th>HGB</th>\n",
       "      <td>0.733264</td>\n",
       "      <td>0.323096</td>\n",
       "      <td>0.579449</td>\n",
       "    </tr>\n",
       "    <tr>\n",
       "      <th>XGB</th>\n",
       "      <td>0.729215</td>\n",
       "      <td>0.349368</td>\n",
       "      <td>0.586288</td>\n",
       "    </tr>\n",
       "  </tbody>\n",
       "</table>\n",
       "</div>"
      ],
      "text/plain": [
       "     accuracy  f1_score    auroc \n",
       "RF   0.735424  0.315765  0.578167\n",
       "AB   0.724762  0.285447  0.564240\n",
       "GB   0.731870  0.305523  0.573476\n",
       "HGB  0.733264  0.323096  0.579449\n",
       "XGB  0.729215  0.349368  0.586288"
      ]
     },
     "execution_count": 432,
     "metadata": {},
     "output_type": "execute_result"
    }
   ],
   "source": [
    "# default model performance on test data\n",
    "L = [rf2,ab2,gb2,hgb2,xgb2]\n",
    "acc2 = []\n",
    "f2 = []\n",
    "auroc2 = []\n",
    "for i in L:\n",
    "    model = i.fit(X_train,y_train)\n",
    "    pred = model.predict(X_test)\n",
    "    score = mat.accuracy_score(y_test,pred)\n",
    "    acc2.append(score)\n",
    "    f_1 = mat.f1_score(y_test,pred)\n",
    "    f2.append(f_1)\n",
    "    auroc = mat.roc_auc_score(y_test,pred)\n",
    "    auroc2.append(auroc)\n",
    "df2 = pd.DataFrame({\"accuracy\":acc2,\"f1_score\":f2,\"auroc\":auroc2},index=[\"RF\",\"AB\",\"GB\",\"HGB\",\"XGB\"])    \n",
    "df2"
   ]
  },
  {
   "cell_type": "markdown",
   "id": "83c4d35b",
   "metadata": {},
   "source": [
    "#### <I> TRIAL 3:"
   ]
  },
  {
   "cell_type": "markdown",
   "id": "8aedaacb",
   "metadata": {},
   "source": [
    "* <b> Standardized numerical variables\n",
    "* <B> Balancing the target class using Smote algorithm and Train the model"
   ]
  },
  {
   "cell_type": "code",
   "execution_count": 433,
   "id": "0b0402fe",
   "metadata": {},
   "outputs": [],
   "source": [
    "X = data2.drop('Loan Status',axis=1)\n",
    "y = data2['Loan Status']"
   ]
  },
  {
   "cell_type": "code",
   "execution_count": 434,
   "id": "4e532000",
   "metadata": {
    "scrolled": false
   },
   "outputs": [
    {
     "data": {
      "text/html": [
       "<div>\n",
       "<style scoped>\n",
       "    .dataframe tbody tr th:only-of-type {\n",
       "        vertical-align: middle;\n",
       "    }\n",
       "\n",
       "    .dataframe tbody tr th {\n",
       "        vertical-align: top;\n",
       "    }\n",
       "\n",
       "    .dataframe thead th {\n",
       "        text-align: right;\n",
       "    }\n",
       "</style>\n",
       "<table border=\"1\" class=\"dataframe\">\n",
       "  <thead>\n",
       "    <tr style=\"text-align: center;\">\n",
       "      <th></th>\n",
       "      <th>Loan Status</th>\n",
       "      <th>Current Loan Amount</th>\n",
       "      <th>Credit Score</th>\n",
       "      <th>Years in current job</th>\n",
       "      <th>Annual Income</th>\n",
       "      <th>Monthly Debt</th>\n",
       "      <th>Years of Credit History</th>\n",
       "      <th>Months since last delinquent</th>\n",
       "      <th>Number of Open Accounts</th>\n",
       "      <th>Number of Credit Problems</th>\n",
       "      <th>...</th>\n",
       "      <th>Purpose_Home Improvements</th>\n",
       "      <th>Purpose_Medical Bills</th>\n",
       "      <th>Purpose_Other</th>\n",
       "      <th>Purpose_Take a Trip</th>\n",
       "      <th>Purpose_major_purchase</th>\n",
       "      <th>Purpose_moving</th>\n",
       "      <th>Purpose_renewable_energy</th>\n",
       "      <th>Purpose_small_business</th>\n",
       "      <th>Purpose_vacation</th>\n",
       "      <th>Purpose_wedding</th>\n",
       "    </tr>\n",
       "  </thead>\n",
       "  <tbody>\n",
       "    <tr>\n",
       "      <th>0</th>\n",
       "      <td>1.0</td>\n",
       "      <td>-0.206647</td>\n",
       "      <td>0.233271</td>\n",
       "      <td>-1.616926</td>\n",
       "      <td>-0.533165</td>\n",
       "      <td>-0.292878</td>\n",
       "      <td>-0.044661</td>\n",
       "      <td>-1.139989</td>\n",
       "      <td>0.179335</td>\n",
       "      <td>-0.338742</td>\n",
       "      <td>...</td>\n",
       "      <td>0.0</td>\n",
       "      <td>0.0</td>\n",
       "      <td>0.0</td>\n",
       "      <td>0.0</td>\n",
       "      <td>0.0</td>\n",
       "      <td>0.0</td>\n",
       "      <td>0.0</td>\n",
       "      <td>0.0</td>\n",
       "      <td>0.0</td>\n",
       "      <td>0.0</td>\n",
       "    </tr>\n",
       "    <tr>\n",
       "      <th>1</th>\n",
       "      <td>1.0</td>\n",
       "      <td>1.345345</td>\n",
       "      <td>0.415570</td>\n",
       "      <td>1.137847</td>\n",
       "      <td>0.185147</td>\n",
       "      <td>-0.111749</td>\n",
       "      <td>1.189907</td>\n",
       "      <td>0.360188</td>\n",
       "      <td>0.581834</td>\n",
       "      <td>-0.338742</td>\n",
       "      <td>...</td>\n",
       "      <td>0.0</td>\n",
       "      <td>0.0</td>\n",
       "      <td>0.0</td>\n",
       "      <td>0.0</td>\n",
       "      <td>0.0</td>\n",
       "      <td>0.0</td>\n",
       "      <td>0.0</td>\n",
       "      <td>0.0</td>\n",
       "      <td>0.0</td>\n",
       "      <td>0.0</td>\n",
       "    </tr>\n",
       "  </tbody>\n",
       "</table>\n",
       "<p>2 rows × 31 columns</p>\n",
       "</div>"
      ],
      "text/plain": [
       "   Loan Status  Current Loan Amount  Credit Score  Years in current job  \\\n",
       "0      1.0          -0.206647          0.233271         -1.616926         \n",
       "1      1.0           1.345345          0.415570          1.137847         \n",
       "\n",
       "   Annual Income  Monthly Debt  Years of Credit History  \\\n",
       "0   -0.533165      -0.292878          -0.044661           \n",
       "1    0.185147      -0.111749           1.189907           \n",
       "\n",
       "   Months since last delinquent  Number of Open Accounts  \\\n",
       "0           -1.139989                   0.179335           \n",
       "1            0.360188                   0.581834           \n",
       "\n",
       "   Number of Credit Problems  ...  Purpose_Home Improvements  \\\n",
       "0         -0.338742           ...             0.0              \n",
       "1         -0.338742           ...             0.0              \n",
       "\n",
       "   Purpose_Medical Bills  Purpose_Other  Purpose_Take a Trip  \\\n",
       "0           0.0                0.0               0.0           \n",
       "1           0.0                0.0               0.0           \n",
       "\n",
       "   Purpose_major_purchase  Purpose_moving  Purpose_renewable_energy  \\\n",
       "0            0.0                 0.0                  0.0             \n",
       "1            0.0                 0.0                  0.0             \n",
       "\n",
       "   Purpose_small_business  Purpose_vacation  Purpose_wedding  \n",
       "0            0.0                  0.0              0.0        \n",
       "1            0.0                  0.0              0.0        \n",
       "\n",
       "[2 rows x 31 columns]"
      ]
     },
     "execution_count": 434,
     "metadata": {},
     "output_type": "execute_result"
    }
   ],
   "source": [
    "data2.head(2)"
   ]
  },
  {
   "cell_type": "code",
   "execution_count": 435,
   "id": "455b5563",
   "metadata": {},
   "outputs": [],
   "source": [
    "#Splitting the data TRAIN TEST\n",
    "from sklearn.model_selection import train_test_split\n",
    "X_train,X_test,y_train,y_test = train_test_split(X,y,test_size=0.25,stratify=y,random_state=42)"
   ]
  },
  {
   "cell_type": "code",
   "execution_count": 436,
   "id": "7575b842",
   "metadata": {},
   "outputs": [
    {
     "name": "stdout",
     "output_type": "stream",
     "text": [
      "Class=1, n=47802 (50.000%)\n",
      "Class=0, n=47802 (50.000%)\n"
     ]
    },
    {
     "data": {
      "image/png": "[encoded data removed]",
      "text/plain": [
       "<Figure size 576x396 with 1 Axes>"
      ]
     },
     "metadata": {},
     "output_type": "display_data"
    }
   ],
   "source": [
    "# Balance the train data\n",
    "oversample = SMOTE()\n",
    "X_train, y_train = oversample.fit_resample(X_train, y_train)\n",
    "# summarize distribution\n",
    "counter = Counter(y_train)\n",
    "for k,v in counter.items():\n",
    "    per = v / len(y_train) * 100\n",
    "    print('Class=%d, n=%d (%.3f%%)' % (k, v, per))\n",
    "# plot the distribution\n",
    "plt.bar(counter.keys(), counter.values())\n",
    "plt.show()"
   ]
  },
  {
   "cell_type": "markdown",
   "id": "21af2873",
   "metadata": {},
   "source": [
    "* <b> Model With Default Parameters"
   ]
  },
  {
   "cell_type": "code",
   "execution_count": 437,
   "id": "e260f1b4",
   "metadata": {},
   "outputs": [],
   "source": [
    "#models with default parameter\n",
    "rf3 = RandomForestClassifier() #random forest\n",
    "ab3 = AdaBoostClassifier() #adaboost\n",
    "gb3 = GradientBoostingClassifier() #gradientboost\n",
    "hgb3 = HistGradientBoostingClassifier() #histgradientboost\n",
    "xgb3 = XGBClassifier() #xgboost"
   ]
  },
  {
   "cell_type": "markdown",
   "id": "f8fde2e7",
   "metadata": {},
   "source": [
    "* <b> Validating the model on test data"
   ]
  },
  {
   "cell_type": "code",
   "execution_count": 438,
   "id": "da155136",
   "metadata": {
    "scrolled": true
   },
   "outputs": [
    {
     "data": {
      "text/html": [
       "<div>\n",
       "<style scoped>\n",
       "    .dataframe tbody tr th:only-of-type {\n",
       "        vertical-align: middle;\n",
       "    }\n",
       "\n",
       "    .dataframe tbody tr th {\n",
       "        vertical-align: top;\n",
       "    }\n",
       "\n",
       "    .dataframe thead th {\n",
       "        text-align: right;\n",
       "    }\n",
       "</style>\n",
       "<table border=\"1\" class=\"dataframe\">\n",
       "  <thead>\n",
       "    <tr style=\"text-align: center;\">\n",
       "      <th></th>\n",
       "      <th>accuracy</th>\n",
       "      <th>f1_score</th>\n",
       "      <th>auroc</th>\n",
       "    </tr>\n",
       "  </thead>\n",
       "  <tbody>\n",
       "    <tr>\n",
       "      <th>RF</th>\n",
       "      <td>0.705642</td>\n",
       "      <td>0.463908</td>\n",
       "      <td>0.628258</td>\n",
       "    </tr>\n",
       "    <tr>\n",
       "      <th>AB</th>\n",
       "      <td>0.641398</td>\n",
       "      <td>0.503766</td>\n",
       "      <td>0.641864</td>\n",
       "    </tr>\n",
       "    <tr>\n",
       "      <th>GB</th>\n",
       "      <td>0.679818</td>\n",
       "      <td>0.495427</td>\n",
       "      <td>0.642122</td>\n",
       "    </tr>\n",
       "    <tr>\n",
       "      <th>HGB</th>\n",
       "      <td>0.715359</td>\n",
       "      <td>0.458537</td>\n",
       "      <td>0.627728</td>\n",
       "    </tr>\n",
       "    <tr>\n",
       "      <th>XGB</th>\n",
       "      <td>0.717923</td>\n",
       "      <td>0.415112</td>\n",
       "      <td>0.607691</td>\n",
       "    </tr>\n",
       "  </tbody>\n",
       "</table>\n",
       "</div>"
      ],
      "text/plain": [
       "     accuracy  f1_score    auroc \n",
       "RF   0.705642  0.463908  0.628258\n",
       "AB   0.641398  0.503766  0.641864\n",
       "GB   0.679818  0.495427  0.642122\n",
       "HGB  0.715359  0.458537  0.627728\n",
       "XGB  0.717923  0.415112  0.607691"
      ]
     },
     "execution_count": 438,
     "metadata": {},
     "output_type": "execute_result"
    }
   ],
   "source": [
    "# default model performance on test data\n",
    "L = [rf3,ab3,gb3,hgb3,xgb3]\n",
    "acc3 = []\n",
    "f3 = []\n",
    "auroc3 = []\n",
    "for i in L:\n",
    "    model = i.fit(X_train,y_train)\n",
    "    pred = model.predict(X_test)\n",
    "    score = mat.accuracy_score(y_test,pred)\n",
    "    acc3.append(score)\n",
    "    f_1 = mat.f1_score(y_test,pred)\n",
    "    f3.append(f_1)\n",
    "    auroc = mat.roc_auc_score(y_test,pred)\n",
    "    auroc3.append(auroc)\n",
    "df3 = pd.DataFrame({\"accuracy\":acc3,\"f1_score\":f3,\"auroc\":auroc3},index=[\"RF\",\"AB\",\"GB\",\"HGB\",\"XGB\"])    \n",
    "df3"
   ]
  },
  {
   "cell_type": "markdown",
   "id": "d4ccb8bc",
   "metadata": {},
   "source": [
    "#### <I> TRIAL 4:"
   ]
  },
  {
   "cell_type": "markdown",
   "id": "37ea4793",
   "metadata": {},
   "source": [
    "* <b> Imputing the missing with Conditional Mean/Median/Mode\n",
    "* <b> Standardized numerical Variables    "
   ]
  },
  {
   "cell_type": "code",
   "execution_count": 365,
   "id": "53c94f7a",
   "metadata": {},
   "outputs": [],
   "source": [
    "# Importing the previously cleaned data which was used for hypothesis testing\n",
    "data4 = pd.read_csv(\"bin_data1_hypotest_cleaned.csv\")"
   ]
  },
  {
   "cell_type": "code",
   "execution_count": 366,
   "id": "2c60aa4e",
   "metadata": {
    "scrolled": false
   },
   "outputs": [
    {
     "data": {
      "text/plain": [
       "Loan Status                         0\n",
       "Current Loan Amount             12738\n",
       "Term                                0\n",
       "Credit Score                    21338\n",
       "Years in current job             3817\n",
       "Home Ownership                      0\n",
       "Annual Income                   21338\n",
       "Purpose                             0\n",
       "Monthly Debt                        0\n",
       "Years of Credit History             0\n",
       "Months since last delinquent    48506\n",
       "Number of Open Accounts             0\n",
       "Number of Credit Problems           0\n",
       "Current Credit Balance              0\n",
       "Maximum Open Credit                 2\n",
       "Bankruptcies                        0\n",
       "Tax Liens                           0\n",
       "dtype: int64"
      ]
     },
     "execution_count": 366,
     "metadata": {},
     "output_type": "execute_result"
    }
   ],
   "source": [
    "data4.isna().sum()"
   ]
  },
  {
   "cell_type": "code",
   "execution_count": 441,
   "id": "99328bbf",
   "metadata": {},
   "outputs": [
    {
     "data": {
      "image/png": "[encoded data removed]",
      "text/plain": [
       "<Figure size 432x216 with 1 Axes>"
      ]
     },
     "metadata": {},
     "output_type": "display_data"
    },
    {
     "data": {
      "image/png": "[encoded data removed]",
      "text/plain": [
       "<Figure size 432x216 with 1 Axes>"
      ]
     },
     "metadata": {},
     "output_type": "display_data"
    },
    {
     "data": {
      "image/png": "[encoded data removed]",
      "text/plain": [
       "<Figure size 432x216 with 1 Axes>"
      ]
     },
     "metadata": {},
     "output_type": "display_data"
    },
    {
     "data": {
      "image/png": "[encoded data removed]",
      "text/plain": [
       "<Figure size 432x216 with 1 Axes>"
      ]
     },
     "metadata": {},
     "output_type": "display_data"
    },
    {
     "data": {
      "image/png": "[encoded data removed]",
      "text/plain": [
       "<Figure size 432x216 with 1 Axes>"
      ]
     },
     "metadata": {},
     "output_type": "display_data"
    },
    {
     "data": {
      "image/png": "[encoded data removed]",
      "text/plain": [
       "<Figure size 432x216 with 1 Axes>"
      ]
     },
     "metadata": {},
     "output_type": "display_data"
    },
    {
     "data": {
      "image/png": "[encoded data removed]",
      "text/plain": [
       "<Figure size 432x216 with 1 Axes>"
      ]
     },
     "metadata": {},
     "output_type": "display_data"
    },
    {
     "data": {
      "image/png": "[encoded data removed]",
      "text/plain": [
       "<Figure size 432x216 with 1 Axes>"
      ]
     },
     "metadata": {},
     "output_type": "display_data"
    },
    {
     "data": {
      "image/png": "[encoded data removed]",
      "text/plain": [
       "<Figure size 432x216 with 1 Axes>"
      ]
     },
     "metadata": {},
     "output_type": "display_data"
    },
    {
     "data": {
      "image/png": "[encoded data removed]",
      "text/plain": [
       "<Figure size 432x216 with 1 Axes>"
      ]
     },
     "metadata": {},
     "output_type": "display_data"
    },
    {
     "data": {
      "image/png": "[encoded data removed]",
      "text/plain": [
       "<Figure size 432x216 with 1 Axes>"
      ]
     },
     "metadata": {},
     "output_type": "display_data"
    },
    {
     "data": {
      "image/png": "[encoded data removed]",
      "text/plain": [
       "<Figure size 432x216 with 1 Axes>"
      ]
     },
     "metadata": {},
     "output_type": "display_data"
    }
   ],
   "source": [
    "#dist plot of Numerical Variables to check distribution\n",
    "\n",
    "num = ['Current Loan Amount','Credit Score','Years in current job','Annual Income','Monthly Debt','Years of Credit History',\n",
    "       'Months since last delinquent','Number of Open Accounts','Current Credit Balance','Maximum Open Credit','Bankruptcies',\n",
    "       'Tax Liens']\n",
    "\n",
    "def distplot(var):\n",
    "    plt.figure(figsize=(6,3))\n",
    "    sns.distplot(data4[var])\n",
    "    plt.xticks(rotation = 90)\n",
    "    plt.title(\"Frequency Distribution \"+  var)\n",
    "    return (plt.show())\n",
    "\n",
    "\n",
    "for i in num:\n",
    "    distplot(i)"
   ]
  },
  {
   "cell_type": "code",
   "execution_count": 367,
   "id": "d09a72b9",
   "metadata": {},
   "outputs": [
    {
     "name": "stdout",
     "output_type": "stream",
     "text": [
      "timetaken: 0.005197020371754965 min\n"
     ]
    }
   ],
   "source": [
    "# fill missing with condition median because of skewed distribution and suspection of outliers\n",
    "\n",
    "start = time.time()\n",
    "\n",
    "l = ['Current Loan Amount','Credit Score','Years in current job','Annual Income','Months since last delinquent','Maximum Open Credit']\n",
    "\n",
    "loans0=data4[data4['Loan Status']==0]\n",
    "loans1=data4[data4['Loan Status']==1]\n",
    "\n",
    "for i in l:\n",
    "    \n",
    "    loans0[i].fillna(value=loans0[i].median(),inplace=True)\n",
    "    loans1[i].fillna(value=loans1[i].median(),inplace=True)\n",
    "    \n",
    "end = time.time()\n",
    "\n",
    "print(\"timetaken:\",1000*(end-start)/60000,\"min\")    \n",
    "\n",
    "\n",
    "data5=pd.concat([loans0,loans1],axis=0)\n",
    "data5.sort_index(inplace=True)  "
   ]
  },
  {
   "cell_type": "code",
   "execution_count": 368,
   "id": "9d3e3af8",
   "metadata": {},
   "outputs": [],
   "source": [
    "# Create dummies of Nominal variable\n",
    "data5 = pd.get_dummies(data5,columns=['Term','Home Ownership','Purpose','Bankruptcies','Tax Liens','Number of Credit Problems'],drop_first=True)"
   ]
  },
  {
   "cell_type": "code",
   "execution_count": null,
   "id": "c4e58df6",
   "metadata": {},
   "outputs": [],
   "source": [
    "Buy House               0.006287\n",
    "Take a Trip             0.005106\n",
    "major_purchase          0.003869\n",
    "small_business          0.002789\n",
    "moving                  0.001395\n",
    "wedding                 0.001113\n",
    "Educational Expenses    0.001035\n",
    "vacation                0.000922\n",
    "renewable_energy        0.000101"
   ]
  },
  {
   "cell_type": "code",
   "execution_count": null,
   "id": "1e6fced4",
   "metadata": {},
   "outputs": [],
   "source": []
  },
  {
   "cell_type": "code",
   "execution_count": null,
   "id": "ef441fd1",
   "metadata": {},
   "outputs": [],
   "source": []
  },
  {
   "cell_type": "code",
   "execution_count": 369,
   "id": "28b6d799",
   "metadata": {},
   "outputs": [
    {
     "data": {
      "text/html": [
       "<div>\n",
       "<style scoped>\n",
       "    .dataframe tbody tr th:only-of-type {\n",
       "        vertical-align: middle;\n",
       "    }\n",
       "\n",
       "    .dataframe tbody tr th {\n",
       "        vertical-align: top;\n",
       "    }\n",
       "\n",
       "    .dataframe thead th {\n",
       "        text-align: right;\n",
       "    }\n",
       "</style>\n",
       "<table border=\"1\" class=\"dataframe\">\n",
       "  <thead>\n",
       "    <tr style=\"text-align: right;\">\n",
       "      <th></th>\n",
       "      <th>Loan Status</th>\n",
       "      <th>Current Loan Amount</th>\n",
       "      <th>Credit Score</th>\n",
       "      <th>Years in current job</th>\n",
       "      <th>Annual Income</th>\n",
       "      <th>Monthly Debt</th>\n",
       "      <th>Years of Credit History</th>\n",
       "      <th>Months since last delinquent</th>\n",
       "      <th>Number of Open Accounts</th>\n",
       "      <th>Current Credit Balance</th>\n",
       "      <th>...</th>\n",
       "      <th>Purpose_Take a Trip</th>\n",
       "      <th>Purpose_major_purchase</th>\n",
       "      <th>Purpose_moving</th>\n",
       "      <th>Purpose_renewable_energy</th>\n",
       "      <th>Purpose_small_business</th>\n",
       "      <th>Purpose_vacation</th>\n",
       "      <th>Purpose_wedding</th>\n",
       "      <th>Bankruptcies_1</th>\n",
       "      <th>Tax Liens_1</th>\n",
       "      <th>Number of Credit Problems_1</th>\n",
       "    </tr>\n",
       "  </thead>\n",
       "  <tbody>\n",
       "    <tr>\n",
       "      <th>0</th>\n",
       "      <td>1</td>\n",
       "      <td>12232.0</td>\n",
       "      <td>728.0</td>\n",
       "      <td>0.0</td>\n",
       "      <td>46643.0</td>\n",
       "      <td>777.39</td>\n",
       "      <td>18.0</td>\n",
       "      <td>10.0</td>\n",
       "      <td>12</td>\n",
       "      <td>6762</td>\n",
       "      <td>...</td>\n",
       "      <td>0</td>\n",
       "      <td>0</td>\n",
       "      <td>0</td>\n",
       "      <td>0</td>\n",
       "      <td>0</td>\n",
       "      <td>0</td>\n",
       "      <td>0</td>\n",
       "      <td>0</td>\n",
       "      <td>0</td>\n",
       "      <td>0</td>\n",
       "    </tr>\n",
       "    <tr>\n",
       "      <th>1</th>\n",
       "      <td>1</td>\n",
       "      <td>25014.0</td>\n",
       "      <td>733.0</td>\n",
       "      <td>10.0</td>\n",
       "      <td>81099.0</td>\n",
       "      <td>892.09</td>\n",
       "      <td>26.7</td>\n",
       "      <td>31.0</td>\n",
       "      <td>14</td>\n",
       "      <td>35706</td>\n",
       "      <td>...</td>\n",
       "      <td>0</td>\n",
       "      <td>0</td>\n",
       "      <td>0</td>\n",
       "      <td>0</td>\n",
       "      <td>0</td>\n",
       "      <td>0</td>\n",
       "      <td>0</td>\n",
       "      <td>0</td>\n",
       "      <td>0</td>\n",
       "      <td>0</td>\n",
       "    </tr>\n",
       "  </tbody>\n",
       "</table>\n",
       "<p>2 rows × 31 columns</p>\n",
       "</div>"
      ],
      "text/plain": [
       "   Loan Status  Current Loan Amount  Credit Score  Years in current job  \\\n",
       "0            1              12232.0         728.0                   0.0   \n",
       "1            1              25014.0         733.0                  10.0   \n",
       "\n",
       "   Annual Income  Monthly Debt  Years of Credit History  \\\n",
       "0        46643.0        777.39                     18.0   \n",
       "1        81099.0        892.09                     26.7   \n",
       "\n",
       "   Months since last delinquent  Number of Open Accounts  \\\n",
       "0                          10.0                       12   \n",
       "1                          31.0                       14   \n",
       "\n",
       "   Current Credit Balance  ...  Purpose_Take a Trip  Purpose_major_purchase  \\\n",
       "0                    6762  ...                    0                       0   \n",
       "1                   35706  ...                    0                       0   \n",
       "\n",
       "   Purpose_moving  Purpose_renewable_energy  Purpose_small_business  \\\n",
       "0               0                         0                       0   \n",
       "1               0                         0                       0   \n",
       "\n",
       "   Purpose_vacation  Purpose_wedding  Bankruptcies_1  Tax Liens_1  \\\n",
       "0                 0                0               0            0   \n",
       "1                 0                0               0            0   \n",
       "\n",
       "   Number of Credit Problems_1  \n",
       "0                            0  \n",
       "1                            0  \n",
       "\n",
       "[2 rows x 31 columns]"
      ]
     },
     "execution_count": 369,
     "metadata": {},
     "output_type": "execute_result"
    }
   ],
   "source": [
    "data5.head(25)"
   ]
  },
  {
   "cell_type": "code",
   "execution_count": 370,
   "id": "8137aceb",
   "metadata": {},
   "outputs": [],
   "source": [
    "data5.to_csv(\"bin_conditional_imputed_unscaled_final.csv\",index=False)\n",
    "data5 = pd.read_csv(\"bin_conditional_imputed_unscaled_final.csv\")"
   ]
  },
  {
   "cell_type": "code",
   "execution_count": 371,
   "id": "38b9a804",
   "metadata": {},
   "outputs": [
    {
     "data": {
      "text/plain": [
       "Loan Status                     0\n",
       "Current Loan Amount             0\n",
       "Credit Score                    0\n",
       "Years in current job            0\n",
       "Annual Income                   0\n",
       "Monthly Debt                    0\n",
       "Years of Credit History         0\n",
       "Months since last delinquent    0\n",
       "Number of Open Accounts         0\n",
       "Current Credit Balance          0\n",
       "Maximum Open Credit             0\n",
       "Term_Short Term                 0\n",
       "Home Ownership_Own Home         0\n",
       "Home Ownership_Rent             0\n",
       "Purpose_Buy House               0\n",
       "Purpose_Buy a Car               0\n",
       "Purpose_Debt Consolidation      0\n",
       "Purpose_Educational Expenses    0\n",
       "Purpose_Home Improvements       0\n",
       "Purpose_Medical Bills           0\n",
       "Purpose_Other                   0\n",
       "Purpose_Take a Trip             0\n",
       "Purpose_major_purchase          0\n",
       "Purpose_moving                  0\n",
       "Purpose_renewable_energy        0\n",
       "Purpose_small_business          0\n",
       "Purpose_vacation                0\n",
       "Purpose_wedding                 0\n",
       "Bankruptcies_1                  0\n",
       "Tax Liens_1                     0\n",
       "Number of Credit Problems_1     0\n",
       "dtype: int64"
      ]
     },
     "execution_count": 371,
     "metadata": {},
     "output_type": "execute_result"
    }
   ],
   "source": [
    "data5.isna().sum()"
   ]
  },
  {
   "cell_type": "code",
   "execution_count": 372,
   "id": "1b7f6d70",
   "metadata": {},
   "outputs": [],
   "source": [
    "# Using standard scalar\n",
    "from sklearn.preprocessing import MinMaxScaler\n",
    "\n",
    "\n",
    "continuous = [\"Current Loan Amount\",\"Credit Score\",\"Annual Income\",\"Number of Open Accounts\",\"Current Credit Balance\",\"Years in current job\",\"Monthly Debt\",\"Months since last delinquent\",\"Years of Credit History\",\"Maximum Open Credit\"]\n",
    "#scaler = StandardScaler()\n",
    "scaler = MinMaxScaler()\n",
    "data5[continuous]= scaler.fit_transform(data5[continuous])"
   ]
  },
  {
   "cell_type": "code",
   "execution_count": 373,
   "id": "649f5a60",
   "metadata": {},
   "outputs": [],
   "source": [
    "data5.to_csv(\"bin_conditional_imputed_mmscaled_final.csv\",index=False)\n",
    "data6 = pd.read_csv(\"bin_conditional_imputed_mmscaled_final.csv\")"
   ]
  },
  {
   "cell_type": "code",
   "execution_count": 374,
   "id": "6004fe37",
   "metadata": {},
   "outputs": [],
   "source": [
    "X = data6.drop('Loan Status',axis=1)\n",
    "y = data6['Loan Status']"
   ]
  },
  {
   "cell_type": "code",
   "execution_count": 375,
   "id": "2e26c0e5",
   "metadata": {},
   "outputs": [],
   "source": [
    "#Splitting the data TRAIN TEST\n",
    "X_train,X_test,y_train,y_test = train_test_split(X,y,test_size=0.25,stratify=y,random_state=42)"
   ]
  },
  {
   "cell_type": "markdown",
   "id": "bf7688a3",
   "metadata": {},
   "source": [
    "* <b> Model With Default Parameters"
   ]
  },
  {
   "cell_type": "code",
   "execution_count": 376,
   "id": "cc22b806",
   "metadata": {},
   "outputs": [],
   "source": [
    "#models\n",
    "rf4 = RandomForestClassifier() #random forest\n",
    "ab4 = AdaBoostClassifier() #adaboost\n",
    "gb4 = GradientBoostingClassifier() #gradientboost\n",
    "hgb4 = HistGradientBoostingClassifier() #histboost\n",
    "xgb4 = XGBClassifier() #xgboost"
   ]
  },
  {
   "cell_type": "markdown",
   "id": "9f018254",
   "metadata": {},
   "source": [
    "* <b> Validating the model on test data"
   ]
  },
  {
   "cell_type": "code",
   "execution_count": 377,
   "id": "ef009e33",
   "metadata": {},
   "outputs": [
    {
     "data": {
      "text/html": [
       "<div>\n",
       "<style scoped>\n",
       "    .dataframe tbody tr th:only-of-type {\n",
       "        vertical-align: middle;\n",
       "    }\n",
       "\n",
       "    .dataframe tbody tr th {\n",
       "        vertical-align: top;\n",
       "    }\n",
       "\n",
       "    .dataframe thead th {\n",
       "        text-align: right;\n",
       "    }\n",
       "</style>\n",
       "<table border=\"1\" class=\"dataframe\">\n",
       "  <thead>\n",
       "    <tr style=\"text-align: right;\">\n",
       "      <th></th>\n",
       "      <th>accuracy</th>\n",
       "      <th>f1_score</th>\n",
       "      <th>auroc</th>\n",
       "    </tr>\n",
       "  </thead>\n",
       "  <tbody>\n",
       "    <tr>\n",
       "      <th>RF</th>\n",
       "      <td>0.901611</td>\n",
       "      <td>0.809179</td>\n",
       "      <td>0.851764</td>\n",
       "    </tr>\n",
       "    <tr>\n",
       "      <th>AB</th>\n",
       "      <td>0.895402</td>\n",
       "      <td>0.806169</td>\n",
       "      <td>0.856953</td>\n",
       "    </tr>\n",
       "    <tr>\n",
       "      <th>GB</th>\n",
       "      <td>0.905075</td>\n",
       "      <td>0.819781</td>\n",
       "      <td>0.861968</td>\n",
       "    </tr>\n",
       "    <tr>\n",
       "      <th>HGB</th>\n",
       "      <td>0.905030</td>\n",
       "      <td>0.818845</td>\n",
       "      <td>0.860591</td>\n",
       "    </tr>\n",
       "    <tr>\n",
       "      <th>XGB</th>\n",
       "      <td>0.905030</td>\n",
       "      <td>0.821721</td>\n",
       "      <td>0.865110</td>\n",
       "    </tr>\n",
       "  </tbody>\n",
       "</table>\n",
       "</div>"
      ],
      "text/plain": [
       "     accuracy  f1_score     auroc\n",
       "RF   0.901611  0.809179  0.851764\n",
       "AB   0.895402  0.806169  0.856953\n",
       "GB   0.905075  0.819781  0.861968\n",
       "HGB  0.905030  0.818845  0.860591\n",
       "XGB  0.905030  0.821721  0.865110"
      ]
     },
     "execution_count": 377,
     "metadata": {},
     "output_type": "execute_result"
    }
   ],
   "source": [
    "# default model performance on test data(validation data)\n",
    "L = [rf4,ab4,gb4,hgb4,xgb4]\n",
    "acc4 = []\n",
    "f4 = []\n",
    "auroc4 = []\n",
    "for i in L:\n",
    "    model = i.fit(X_train,y_train)\n",
    "    pred = model.predict(X_test)\n",
    "    score = mat.accuracy_score(y_test,pred)\n",
    "    acc4.append(score)\n",
    "    f_2 = mat.f1_score(y_test,pred)\n",
    "    f4.append(f_2)\n",
    "    auroc = mat.roc_auc_score(y_test,pred)\n",
    "    auroc4.append(auroc)\n",
    "df4 = pd.DataFrame({\"accuracy\":acc4,\"f1_score\":f4,\"auroc\":auroc4},index=[\"RF\",\"AB\",\"GB\",\"HGB\",\"XGB\"])    \n",
    "df4"
   ]
  },
  {
   "cell_type": "markdown",
   "id": "2e30468a",
   "metadata": {},
   "source": [
    "#### <I> TRIAL 5:"
   ]
  },
  {
   "cell_type": "markdown",
   "id": "db7ea3f0",
   "metadata": {},
   "source": [
    "* <b> Balanced training data    "
   ]
  },
  {
   "cell_type": "code",
   "execution_count": 378,
   "id": "7d16958c",
   "metadata": {
    "scrolled": true
   },
   "outputs": [
    {
     "name": "stdout",
     "output_type": "stream",
     "text": [
      "Class=1, n=47802 (50.000%)\n",
      "Class=0, n=47802 (50.000%)\n"
     ]
    },
    {
     "data": {
      "image/png": "[encoded data removed]",
      "text/plain": [
       "<Figure size 432x288 with 1 Axes>"
      ]
     },
     "metadata": {
      "needs_background": "light"
     },
     "output_type": "display_data"
    }
   ],
   "source": [
    "# Balance the data\n",
    "oversample = SMOTE()\n",
    "X_train1, y_train1 = oversample.fit_resample(X_train, y_train)\n",
    "# summarize distribution\n",
    "counter = Counter(y_train1)\n",
    "for k,v in counter.items():\n",
    "    per = v / len(y_train1) * 100\n",
    "    print('Class=%d, n=%d (%.3f%%)' % (k, v, per))\n",
    "# plot the distribution\n",
    "plt.bar(counter.keys(), counter.values())\n",
    "plt.show()"
   ]
  },
  {
   "cell_type": "code",
   "execution_count": 379,
   "id": "9fd0a791",
   "metadata": {},
   "outputs": [
    {
     "data": {
      "text/plain": [
       "(66682, 30)"
      ]
     },
     "execution_count": 379,
     "metadata": {},
     "output_type": "execute_result"
    }
   ],
   "source": [
    "X_train.shape "
   ]
  },
  {
   "cell_type": "code",
   "execution_count": 380,
   "id": "91fc64dc",
   "metadata": {},
   "outputs": [
    {
     "data": {
      "text/plain": [
       "(95604, 30)"
      ]
     },
     "execution_count": 380,
     "metadata": {},
     "output_type": "execute_result"
    }
   ],
   "source": [
    "X_train1.shape #balanced train"
   ]
  },
  {
   "cell_type": "markdown",
   "id": "b9f267d1",
   "metadata": {},
   "source": [
    "* <b> Model With Default Parameters"
   ]
  },
  {
   "cell_type": "code",
   "execution_count": 381,
   "id": "05c77750",
   "metadata": {},
   "outputs": [],
   "source": [
    "#models\n",
    "rf5 = RandomForestClassifier(random_state=42) #random forest\n",
    "ab5 = AdaBoostClassifier(random_state=42) #adaboost\n",
    "gb5 = GradientBoostingClassifier(random_state=42) #gradientboost\n",
    "hgb5 = HistGradientBoostingClassifier(random_state=42)#histgradient boost\n",
    "xgb5 = XGBClassifier(random_state=42) #xgb boost"
   ]
  },
  {
   "cell_type": "code",
   "execution_count": 382,
   "id": "65201ce2",
   "metadata": {
    "scrolled": true
   },
   "outputs": [
    {
     "data": {
      "text/html": [
       "<div>\n",
       "<style scoped>\n",
       "    .dataframe tbody tr th:only-of-type {\n",
       "        vertical-align: middle;\n",
       "    }\n",
       "\n",
       "    .dataframe tbody tr th {\n",
       "        vertical-align: top;\n",
       "    }\n",
       "\n",
       "    .dataframe thead th {\n",
       "        text-align: right;\n",
       "    }\n",
       "</style>\n",
       "<table border=\"1\" class=\"dataframe\">\n",
       "  <thead>\n",
       "    <tr style=\"text-align: right;\">\n",
       "      <th></th>\n",
       "      <th>accuracy</th>\n",
       "      <th>f1_score</th>\n",
       "      <th>auroc</th>\n",
       "    </tr>\n",
       "  </thead>\n",
       "  <tbody>\n",
       "    <tr>\n",
       "      <th>RF</th>\n",
       "      <td>0.888249</td>\n",
       "      <td>0.811989</td>\n",
       "      <td>0.877396</td>\n",
       "    </tr>\n",
       "    <tr>\n",
       "      <th>AB</th>\n",
       "      <td>0.877002</td>\n",
       "      <td>0.803564</td>\n",
       "      <td>0.880513</td>\n",
       "    </tr>\n",
       "    <tr>\n",
       "      <th>GB</th>\n",
       "      <td>0.880691</td>\n",
       "      <td>0.807603</td>\n",
       "      <td>0.881836</td>\n",
       "    </tr>\n",
       "    <tr>\n",
       "      <th>HGB</th>\n",
       "      <td>0.896482</td>\n",
       "      <td>0.821835</td>\n",
       "      <td>0.880398</td>\n",
       "    </tr>\n",
       "    <tr>\n",
       "      <th>XGB</th>\n",
       "      <td>0.899541</td>\n",
       "      <td>0.819088</td>\n",
       "      <td>0.870416</td>\n",
       "    </tr>\n",
       "  </tbody>\n",
       "</table>\n",
       "</div>"
      ],
      "text/plain": [
       "     accuracy  f1_score     auroc\n",
       "RF   0.888249  0.811989  0.877396\n",
       "AB   0.877002  0.803564  0.880513\n",
       "GB   0.880691  0.807603  0.881836\n",
       "HGB  0.896482  0.821835  0.880398\n",
       "XGB  0.899541  0.819088  0.870416"
      ]
     },
     "execution_count": 382,
     "metadata": {},
     "output_type": "execute_result"
    }
   ],
   "source": [
    "# default model performance on test data\n",
    "L = [rf5,ab5,gb5,hgb5,xgb5]\n",
    "acc5 = []\n",
    "f5 = []\n",
    "auroc5 = []\n",
    "for i in L:\n",
    "    model = i.fit(X_train1,y_train1)\n",
    "    pred = model.predict(X_test)\n",
    "    score = mat.accuracy_score(y_test,pred)\n",
    "    acc5.append(score)\n",
    "    f_2 = mat.f1_score(y_test,pred)\n",
    "    f5.append(f_2)\n",
    "    auroc = mat.roc_auc_score(y_test,pred)\n",
    "    auroc5.append(auroc)\n",
    "df5 = pd.DataFrame({\"accuracy\":acc5,\"f1_score\":f5,\"auroc\":auroc5},index=[\"RF\",\"AB\",\"GB\",\"HGB\",\"XGB\"])    \n",
    "df5"
   ]
  },
  {
   "cell_type": "markdown",
   "id": "0686e931",
   "metadata": {},
   "source": [
    "### <u>8.MODEL OPTIMIZATION AND EVALUATING"
   ]
  },
  {
   "cell_type": "markdown",
   "id": "2f7e65ed",
   "metadata": {},
   "source": [
    "* Data used - Conditional imputated missing values,Standardized and Balanced data"
   ]
  },
  {
   "cell_type": "markdown",
   "id": "b53841af",
   "metadata": {},
   "source": [
    "#### <font color= BLUE>1.RANDOM FOREST  "
   ]
  },
  {
   "cell_type": "markdown",
   "id": "b1ce4dd8",
   "metadata": {},
   "source": [
    "#### Choosing best parameters"
   ]
  },
  {
   "cell_type": "code",
   "execution_count": 43,
   "id": "d8b531f6",
   "metadata": {},
   "outputs": [
    {
     "name": "stdout",
     "output_type": "stream",
     "text": [
      "timetaken: 10.903055493036906 min\n"
     ]
    },
    {
     "data": {
      "text/plain": [
       "{'class_weight': {0: 3.0, 1: 1}}"
      ]
     },
     "execution_count": 43,
     "metadata": {},
     "output_type": "execute_result"
    }
   ],
   "source": [
    "#try1 (only class weight as hyperparameter)\n",
    "\n",
    "start = time.time()\n",
    "\n",
    "clf = RandomForestClassifier()\n",
    "params = {'class_weight':[{0:neg_weight, 1:1} for neg_weight in np.arange(1.0, 5.0, 0.5)]}\n",
    "gs = RandomizedSearchCV(estimator=clf, param_distributions=params,n_iter=50,cv=5)\n",
    "gs.fit(X_train, y_train) #try using balanced data\n",
    "\n",
    "end = time.time()\n",
    "\n",
    "print(\"timetaken:\",1000*(end-start)/60000,\"min\")\n",
    "\n",
    "gs.best_params_"
   ]
  },
  {
   "cell_type": "markdown",
   "id": "2dc7e6a9",
   "metadata": {},
   "source": [
    "#### Model validation"
   ]
  },
  {
   "cell_type": "code",
   "execution_count": 383,
   "id": "e86f7d80",
   "metadata": {},
   "outputs": [
    {
     "data": {
      "text/plain": [
       "RandomForestClassifier(class_weight={0: 3.0, 1: 1})"
      ]
     },
     "execution_count": 383,
     "metadata": {},
     "output_type": "execute_result"
    }
   ],
   "source": [
    "#Fitting tree with best parameters\n",
    "gs = RandomForestClassifier(class_weight = {0: 3.0, 1: 1})\n",
    "gs.fit(X_train1,y_train1)  #balanced data"
   ]
  },
  {
   "cell_type": "code",
   "execution_count": 384,
   "id": "3bd4d3bf",
   "metadata": {},
   "outputs": [],
   "source": [
    "#Prediction on validation data\n",
    "y_pred = gs.predict(X_test)"
   ]
  },
  {
   "cell_type": "code",
   "execution_count": 385,
   "id": "94560b8a",
   "metadata": {},
   "outputs": [
    {
     "name": "stdout",
     "output_type": "stream",
     "text": [
      "Accuracy : 0.8870793593665647\n",
      "F1 Score: 0.8127145202208625\n",
      "Auroc: 0.8805222691042203\n",
      "              precision    recall  f1-score   support\n",
      "\n",
      "           0       0.94      0.90      0.92     15935\n",
      "           1       0.77      0.87      0.81      6293\n",
      "\n",
      "    accuracy                           0.89     22228\n",
      "   macro avg       0.86      0.88      0.87     22228\n",
      "weighted avg       0.89      0.89      0.89     22228\n",
      "\n"
     ]
    },
    {
     "data": {
      "text/plain": [
       "<AxesSubplot:>"
      ]
     },
     "execution_count": 385,
     "metadata": {},
     "output_type": "execute_result"
    },
    {
     "data": {
      "image/png": "[encoded data removed]",
      "text/plain": [
       "<Figure size 432x288 with 2 Axes>"
      ]
     },
     "metadata": {
      "needs_background": "light"
     },
     "output_type": "display_data"
    }
   ],
   "source": [
    "#accuracy score\n",
    "rf2_acc = mat.accuracy_score(y_test,y_pred)\n",
    "print(\"Accuracy :\",rf2_acc)\n",
    "\n",
    "f1_1 = mat.f1_score(y_test,y_pred)\n",
    "print(\"F1 Score:\",f1_1)\n",
    "\n",
    "auroc1 = mat.roc_auc_score(y_test,y_pred)\n",
    "print(\"Auroc:\",auroc1)\n",
    "\n",
    "print(classification_report(y_test, y_pred))\n",
    "\n",
    "cm= mat.confusion_matrix(y_test,y_pred)\n",
    "sns.heatmap(cm,annot=True)"
   ]
  },
  {
   "cell_type": "code",
   "execution_count": null,
   "id": "6bdc8835",
   "metadata": {},
   "outputs": [],
   "source": [
    "#try2: using all hyperparameters\n",
    "\n",
    "#Finding best parameter for RF model\n",
    "rf = RandomForestClassifier()\n",
    "rf.fit(X_train,y_train) #try using balanced data\n",
    "\n",
    "start = time.time()\n",
    "\n",
    "# Hyper parameters range intialization for tuning \n",
    "param_grid = {\"class_weight\":[{0:neg_weight, 1:1} for neg_weight in np.arange(1.0, 5.0, 0.5)],\n",
    "             \"bootstrap\": [True, False],\n",
    "            \"max_depth\" : [8,12,16,18],\n",
    "            \"max_leaf_nodes\": [30,40,50,60],\n",
    "            \"max_features\":[\"log2\",\"sqrt\"],\n",
    "            \"n_estimators\":[100,150,200],\n",
    "            \"min_samples_leaf\":[3,4,5,6,7],\n",
    "            \"min_samples_split\": [2,3,4,5,6],\n",
    "            \"criterion\" :[\"gini\", \"entropy\"]\n",
    "             }\n",
    "\n",
    "#Randomsearch \n",
    "CV_rf = RandomizedSearchCV(estimator=rf, param_distributions=param_grid,n_iter=10,cv=5,n_jobs=-1,verbose=1)\n",
    "CV_rf.fit(X_train, y_train) #try using balanced data\n",
    "\n",
    "end = time.time()\n",
    "\n",
    "print(\"timetaken:\",1000*(end-start)/60000,\"min\")\n",
    "\n",
    "#Best parameters\n",
    "CV_rf.best_params_"
   ]
  },
  {
   "cell_type": "markdown",
   "id": "76cf2179",
   "metadata": {},
   "source": [
    "#### Model validation"
   ]
  },
  {
   "cell_type": "code",
   "execution_count": 400,
   "id": "dc1c49bd",
   "metadata": {},
   "outputs": [
    {
     "data": {
      "text/plain": [
       "RandomForestClassifier(bootstrap=False, class_weight={0: 1.0, 1: 1},\n",
       "                       criterion='entropy', max_depth=12, max_features='sqrt',\n",
       "                       max_leaf_nodes=50, min_samples_leaf=7,\n",
       "                       min_samples_split=4, n_estimators=200, random_state=42)"
      ]
     },
     "execution_count": 400,
     "metadata": {},
     "output_type": "execute_result"
    }
   ],
   "source": [
    "#Fitting tree with best parameters\n",
    "rf2 = RandomForestClassifier(class_weight = {0: 1.0, 1: 1},criterion='entropy',max_depth = 12,max_features = 'sqrt',max_leaf_nodes = 50,\n",
    "                             min_samples_leaf = 7,min_samples_split = 4,n_estimators = 200,bootstrap=False,random_state=42)\n",
    "rf2.fit(X_train1,y_train1)"
   ]
  },
  {
   "cell_type": "code",
   "execution_count": 401,
   "id": "3b125066",
   "metadata": {},
   "outputs": [],
   "source": [
    "#Prediction on validation data\n",
    "y_pred = rf2.predict(X_test)"
   ]
  },
  {
   "cell_type": "code",
   "execution_count": 402,
   "id": "942c1a36",
   "metadata": {},
   "outputs": [
    {
     "name": "stdout",
     "output_type": "stream",
     "text": [
      "Accuracy : 0.8688590966348749\n",
      "F1 Score: 0.794094794094794\n",
      "Auroc: 0.8762276740917374\n",
      "              precision    recall  f1-score   support\n",
      "\n",
      "           0       0.95      0.86      0.90     15935\n",
      "           1       0.71      0.89      0.79      6293\n",
      "\n",
      "    accuracy                           0.87     22228\n",
      "   macro avg       0.83      0.88      0.85     22228\n",
      "weighted avg       0.89      0.87      0.87     22228\n",
      "\n"
     ]
    },
    {
     "data": {
      "text/plain": [
       "<AxesSubplot:>"
      ]
     },
     "execution_count": 402,
     "metadata": {},
     "output_type": "execute_result"
    },
    {
     "data": {
      "image/png": "[encoded data removed]",
      "text/plain": [
       "<Figure size 576x396 with 2 Axes>"
      ]
     },
     "metadata": {},
     "output_type": "display_data"
    }
   ],
   "source": [
    "rf2_acc1 = mat.accuracy_score(y_test,y_pred)\n",
    "print(\"Accuracy :\",rf2_acc1)\n",
    "\n",
    "f1_1 = mat.f1_score(y_test,y_pred)\n",
    "print(\"F1 Score:\",f1_1)\n",
    "\n",
    "auroc1 = mat.roc_auc_score(y_test,y_pred)\n",
    "print(\"Auroc:\",auroc1)\n",
    "fpr1, tpr1, _ = mat.roc_curve(y_test,  y_pred)\n",
    "\n",
    "print(classification_report(y_test, y_pred))\n",
    "\n",
    "cm= mat.confusion_matrix(y_test,y_pred)\n",
    "sns.heatmap(cm,annot=True)"
   ]
  },
  {
   "cell_type": "markdown",
   "id": "b90ec0cb",
   "metadata": {},
   "source": [
    "#### <font color= BLUE> 2.ADAPTIVE BOOSTING"
   ]
  },
  {
   "cell_type": "markdown",
   "id": "a982ae33",
   "metadata": {},
   "source": [
    "#### Choosing best parameters"
   ]
  },
  {
   "cell_type": "code",
   "execution_count": 57,
   "id": "5fbb539b",
   "metadata": {},
   "outputs": [
    {
     "name": "stdout",
     "output_type": "stream",
     "text": [
      "timetaken: 20.02 min\n"
     ]
    },
    {
     "data": {
      "text/plain": [
       "{'n_estimators': 165}"
      ]
     },
     "execution_count": 57,
     "metadata": {},
     "output_type": "execute_result"
    }
   ],
   "source": [
    "#Finding best parameter for Adaboost model\n",
    "\n",
    "ab = AdaBoostClassifier()\n",
    "ab.fit(X_train,y_train) #try using balanced data\n",
    "\n",
    "start = time.time()\n",
    "\n",
    "# Hyper parameters range intialization for tuning  (base_estimator will be decision tree)\n",
    "param_grid = {\n",
    "    'n_estimators': range(120, 170, 5),\n",
    "     }\n",
    "\n",
    "#Gridsearch on different combination of parameter\n",
    "CV_ab = RandomizedSearchCV(estimator=ab, param_distributions=param_grid,n_iter=50,cv= 5)\n",
    "CV_ab.fit(X_train,y_train) #try using balanced data\n",
    "\n",
    "end = time.time()\n",
    "\n",
    "print(\"timetaken:\",round((1000*(end-start)/60000),2),\"min\")\n",
    "\n",
    "#Best parameters\n",
    "CV_ab.best_params_"
   ]
  },
  {
   "cell_type": "markdown",
   "id": "bd4ff3d8",
   "metadata": {},
   "source": [
    "#### Model validation"
   ]
  },
  {
   "cell_type": "code",
   "execution_count": 386,
   "id": "60a3f6d4",
   "metadata": {},
   "outputs": [
    {
     "data": {
      "text/plain": [
       "AdaBoostClassifier(n_estimators=165, random_state=42)"
      ]
     },
     "execution_count": 386,
     "metadata": {},
     "output_type": "execute_result"
    }
   ],
   "source": [
    "ab2 = AdaBoostClassifier(n_estimators = 165,random_state=42)\n",
    "ab2.fit(X_train1,y_train1)"
   ]
  },
  {
   "cell_type": "code",
   "execution_count": 387,
   "id": "c06b9f2a",
   "metadata": {},
   "outputs": [],
   "source": [
    "#Prediction on validation data\n",
    "y_pred = ab2.predict(X_test)"
   ]
  },
  {
   "cell_type": "code",
   "execution_count": 388,
   "id": "8d1a7191",
   "metadata": {},
   "outputs": [
    {
     "name": "stdout",
     "output_type": "stream",
     "text": [
      "Accuracy : 0.8810959150620838\n",
      "F1 Score: 0.809211001227171\n",
      "Auroc: 0.8839931319587445\n",
      "              precision    recall  f1-score   support\n",
      "\n",
      "           0       0.95      0.88      0.91     15935\n",
      "           1       0.74      0.89      0.81      6293\n",
      "\n",
      "    accuracy                           0.88     22228\n",
      "   macro avg       0.85      0.88      0.86     22228\n",
      "weighted avg       0.89      0.88      0.88     22228\n",
      "\n"
     ]
    },
    {
     "data": {
      "text/plain": [
       "<AxesSubplot:>"
      ]
     },
     "execution_count": 388,
     "metadata": {},
     "output_type": "execute_result"
    },
    {
     "data": {
      "image/png": "[encoded data removed]",
      "text/plain": [
       "<Figure size 432x288 with 2 Axes>"
      ]
     },
     "metadata": {
      "needs_background": "light"
     },
     "output_type": "display_data"
    }
   ],
   "source": [
    "#accuracy score\n",
    "ab2_acc1 = mat.accuracy_score(y_test,y_pred)\n",
    "print(\"Accuracy :\",ab2_acc1)\n",
    "\n",
    "f1_2 = mat.f1_score(y_test,y_pred)\n",
    "print(\"F1 Score:\",f1_2)\n",
    "\n",
    "auroc2 = mat.roc_auc_score(y_test,y_pred)\n",
    "print(\"Auroc:\",auroc2)\n",
    "fpr2, tpr2, _ = mat.roc_curve(y_test,  y_pred)\n",
    "\n",
    "print(classification_report(y_test, y_pred))\n",
    "\n",
    "cm= mat.confusion_matrix(y_test,y_pred)\n",
    "sns.heatmap(cm,annot=True)"
   ]
  },
  {
   "cell_type": "markdown",
   "id": "e78da540",
   "metadata": {},
   "source": [
    "#### <font color= BLUE> 3.GRADIENT BOOSTING"
   ]
  },
  {
   "cell_type": "markdown",
   "id": "d7db7c58",
   "metadata": {},
   "source": [
    "#### Choosing best parameters"
   ]
  },
  {
   "cell_type": "code",
   "execution_count": 104,
   "id": "19dc0ee9",
   "metadata": {},
   "outputs": [
    {
     "name": "stdout",
     "output_type": "stream",
     "text": [
      "timetaken: 320.82 min\n",
      "Best Parameters: {'n_estimators': 500, 'max_depth': 12, 'learning_rate': 0.05}\n"
     ]
    }
   ],
   "source": [
    "# Finding the best parameter\n",
    "start = time.time()\n",
    "\n",
    "grid = {\n",
    "        'max_depth':[8,10,12,14],\n",
    "        'learning_rate':[0.01,0.05,0.1],\n",
    "        'n_estimators':np.arange(100,600,100)\n",
    "       }\n",
    "\n",
    "#Initializing gradient boosting object\n",
    "gb = GradientBoostingClassifier()\n",
    "#Gridsearch and cross validating on different combination of hyperparameters\n",
    "gb_cv = RandomizedSearchCV(gb, param_distributions=grid,n_iter=10,cv = 5) #50fols -320min \n",
    "gb_cv.fit(X_train,y_train) #try using balanced data\n",
    "\n",
    "end = time.time()\n",
    "\n",
    "print(\"timetaken:\",round((1000*(end-start)/60000),2),\"min\") # to compute the time taken for the process\n",
    "\n",
    "print(\"Best Parameters:\",gb_cv.best_params_)"
   ]
  },
  {
   "cell_type": "markdown",
   "id": "85814104",
   "metadata": {},
   "source": [
    "#### Model validation"
   ]
  },
  {
   "cell_type": "code",
   "execution_count": 389,
   "id": "3dd11855",
   "metadata": {},
   "outputs": [
    {
     "name": "stdout",
     "output_type": "stream",
     "text": [
      "timetaken: 14.51 min\n"
     ]
    }
   ],
   "source": [
    "#fitting the model with best parameter\n",
    "start = time.time()\n",
    "\n",
    "gb2 = GradientBoostingClassifier(learning_rate = 0.05, max_depth =12, n_estimators = 500,random_state=42)\n",
    "gb2.fit(X_train1,y_train1)\n",
    "\n",
    "end = time.time()\n",
    "\n",
    "print(\"timetaken:\",round((1000*(end-start)/60000),2),\"min\") # to compute the time taken for the process"
   ]
  },
  {
   "cell_type": "code",
   "execution_count": 390,
   "id": "c912307e",
   "metadata": {},
   "outputs": [],
   "source": [
    "#Prediction on validation data\n",
    "y_pred = gb2.predict(X_test)"
   ]
  },
  {
   "cell_type": "code",
   "execution_count": 391,
   "id": "76987642",
   "metadata": {
    "scrolled": false
   },
   "outputs": [
    {
     "name": "stdout",
     "output_type": "stream",
     "text": [
      "Accuracy : 0.8988662947633616\n",
      "F1 Score: 0.8174139051332033\n",
      "Auroc: 0.8688397480807414\n",
      "              precision    recall  f1-score   support\n",
      "\n",
      "           0       0.92      0.94      0.93     15935\n",
      "           1       0.84      0.80      0.82      6293\n",
      "\n",
      "    accuracy                           0.90     22228\n",
      "   macro avg       0.88      0.87      0.87     22228\n",
      "weighted avg       0.90      0.90      0.90     22228\n",
      "\n"
     ]
    },
    {
     "data": {
      "text/plain": [
       "<AxesSubplot:>"
      ]
     },
     "execution_count": 391,
     "metadata": {},
     "output_type": "execute_result"
    },
    {
     "data": {
      "image/png": "[encoded data removed]",
      "text/plain": [
       "<Figure size 432x288 with 2 Axes>"
      ]
     },
     "metadata": {
      "needs_background": "light"
     },
     "output_type": "display_data"
    }
   ],
   "source": [
    "#accuracy score\n",
    "gb2_acc1 = mat.accuracy_score(y_test,y_pred)\n",
    "print(\"Accuracy :\",gb2_acc1)\n",
    "\n",
    "f1_3 = mat.f1_score(y_test,y_pred)\n",
    "print(\"F1 Score:\",f1_3)\n",
    "\n",
    "auroc3 = mat.roc_auc_score(y_test,y_pred)\n",
    "print(\"Auroc:\",auroc3)\n",
    "fpr3, tpr3, _ = mat.roc_curve(y_test,  y_pred)\n",
    "\n",
    "print(classification_report(y_test, y_pred))\n",
    "\n",
    "cm= mat.confusion_matrix(y_test,y_pred)\n",
    "sns.heatmap(cm,annot=True)"
   ]
  },
  {
   "cell_type": "markdown",
   "id": "cfa090ec",
   "metadata": {},
   "source": [
    "#### <font color= BLUE> 4.HIST GRADIENT BOOSTING"
   ]
  },
  {
   "cell_type": "markdown",
   "id": "8b477c07",
   "metadata": {},
   "source": [
    "#### Choosing best parameters"
   ]
  },
  {
   "cell_type": "code",
   "execution_count": 107,
   "id": "93dd5a2f",
   "metadata": {},
   "outputs": [
    {
     "name": "stdout",
     "output_type": "stream",
     "text": [
      "timetaken: 6.23 min\n",
      "Best Parameters: {'scoring': 'f1_micro', 'max_iter': 200, 'max_depth': 12, 'learning_rate': 0.1, 'l2_regularization': 1.5}\n"
     ]
    }
   ],
   "source": [
    "# Finding the best parameter\n",
    "start = time.time()\n",
    "\n",
    "parameters_hgb = [{'max_iter': [100,150,200],\n",
    "                'learning_rate': [0.01,0.1],\n",
    "                'max_depth' : [12, 15, 18],\n",
    "                'l2_regularization': [1.5],\n",
    "                'scoring': ['f1_micro']}]\n",
    "\n",
    "#Initializing hist gradient boosting object\n",
    "hgb = HistGradientBoostingClassifier()\n",
    "#Gridsearch and cross validating on different combination of hyperparameters\n",
    "hgb_cv = RandomizedSearchCV(hgb, param_distributions=parameters_hgb,n_iter=10,cv = 5)\n",
    "hgb_cv.fit(X_train,y_train) #try using balanced data\n",
    "\n",
    "end = time.time()\n",
    "\n",
    "print(\"timetaken:\",round((1000*(end-start)/60000),2),\"min\") # to compute the time taken for the process\n",
    "\n",
    "print(\"Best Parameters:\",hgb_cv.best_params_)"
   ]
  },
  {
   "cell_type": "markdown",
   "id": "4d8619a0",
   "metadata": {},
   "source": [
    "#### Model validation"
   ]
  },
  {
   "cell_type": "code",
   "execution_count": 392,
   "id": "3e26aff7",
   "metadata": {},
   "outputs": [
    {
     "name": "stdout",
     "output_type": "stream",
     "text": [
      "timetaken: 0.2 min\n"
     ]
    }
   ],
   "source": [
    "#fitting the model with best parameter\n",
    "start = time.time()\n",
    "\n",
    "hgb2 = HistGradientBoostingClassifier(max_iter=200,learning_rate=0.1,max_depth = 12,l2_regularization=1.5,scoring='f1_micro',random_state=42)\n",
    "hgb2.fit(X_train1,y_train1)\n",
    "\n",
    "end = time.time()\n",
    "\n",
    "print(\"timetaken:\",round((1000*(end-start)/60000),2),\"min\") # to compute the time taken for the process\n"
   ]
  },
  {
   "cell_type": "code",
   "execution_count": 393,
   "id": "02a3900e",
   "metadata": {},
   "outputs": [],
   "source": [
    "#Prediction on validation data\n",
    "y_pred = hgb2.predict(X_test)"
   ]
  },
  {
   "cell_type": "code",
   "execution_count": 394,
   "id": "10fbce2c",
   "metadata": {},
   "outputs": [
    {
     "name": "stdout",
     "output_type": "stream",
     "text": [
      "Accuracy : 0.8965269030052186\n",
      "F1 Score: 0.822831613002619\n",
      "Auroc: 0.8820635695695074\n",
      "              precision    recall  f1-score   support\n",
      "\n",
      "           0       0.94      0.92      0.93     15935\n",
      "           1       0.80      0.85      0.82      6293\n",
      "\n",
      "    accuracy                           0.90     22228\n",
      "   macro avg       0.87      0.88      0.87     22228\n",
      "weighted avg       0.90      0.90      0.90     22228\n",
      "\n"
     ]
    },
    {
     "data": {
      "text/plain": [
       "<AxesSubplot:>"
      ]
     },
     "execution_count": 394,
     "metadata": {},
     "output_type": "execute_result"
    },
    {
     "data": {
      "image/png": "[encoded data removed]",
      "text/plain": [
       "<Figure size 432x288 with 2 Axes>"
      ]
     },
     "metadata": {
      "needs_background": "light"
     },
     "output_type": "display_data"
    }
   ],
   "source": [
    "#accuracy score\n",
    "hgb2_acc1 = mat.accuracy_score(y_test,y_pred)\n",
    "print(\"Accuracy :\",hgb2_acc1)\n",
    "\n",
    "f1_4 = mat.f1_score(y_test,y_pred)\n",
    "print(\"F1 Score:\",f1_4)\n",
    "\n",
    "auroc4 = mat.roc_auc_score(y_test,y_pred)\n",
    "print(\"Auroc:\",auroc4)\n",
    "fpr4, tpr4, _ = mat.roc_curve(y_test,  y_pred)\n",
    "\n",
    "print(classification_report(y_test, y_pred))\n",
    "\n",
    "cm= mat.confusion_matrix(y_test,y_pred)\n",
    "sns.heatmap(cm,annot=True)\n"
   ]
  },
  {
   "cell_type": "markdown",
   "id": "20b73912",
   "metadata": {},
   "source": [
    "#### <font color= BLUE> 5.XG BOOSTING"
   ]
  },
  {
   "cell_type": "markdown",
   "id": "f79157f2",
   "metadata": {},
   "source": [
    "#### Choosing best parameters"
   ]
  },
  {
   "cell_type": "code",
   "execution_count": 32,
   "id": "938df007",
   "metadata": {},
   "outputs": [
    {
     "name": "stdout",
     "output_type": "stream",
     "text": [
      "timetaken: 176.27 min\n",
      "Best Parameters: {'subsample': 0.9000000000000001, 'n_estimators': 500, 'max_depth': 19, 'colsample_bytree': 0.8000000000000002}\n"
     ]
    }
   ],
   "source": [
    "# Finding the best parameter\n",
    "start = time.time()\n",
    "\n",
    "grid = {'n_estimators':np.arange(100,600,100),\n",
    "        'subsample':np.arange(.05,1,.05),\n",
    "        'max_depth':np.arange(3,20,1),\n",
    "        'colsample_bytree':np.arange(.1,1.05,.05)}\n",
    "\n",
    "#Initializing xtreme gradient boosting object\n",
    "xgb = XGBClassifier()\n",
    "#Gridsearch and cross validating on different combination of hyperparameters\n",
    "xgb_cv = RandomizedSearchCV(xgb, param_distributions=grid,n_iter=50,cv = 5)\n",
    "xgb_cv.fit(X_train,y_train)\n",
    "\n",
    "end = time.time()\n",
    "\n",
    "print(\"timetaken:\",round((1000*(end-start)/60000),2),\"min\") # to compute the time taken for the process\n",
    "\n",
    "print(\"Best Parameters:\",xgb_cv.best_params_)"
   ]
  },
  {
   "cell_type": "markdown",
   "id": "647cc3af",
   "metadata": {},
   "source": [
    "#### Model validation"
   ]
  },
  {
   "cell_type": "code",
   "execution_count": 395,
   "id": "bff34f95",
   "metadata": {},
   "outputs": [
    {
     "data": {
      "text/plain": [
       "XGBClassifier(base_score=None, booster=None, callbacks=None,\n",
       "              colsample_bylevel=None, colsample_bynode=None,\n",
       "              colsample_bytree=0.8, early_stopping_rounds=None,\n",
       "              enable_categorical=False, eval_metric=None, feature_types=None,\n",
       "              gamma=None, gpu_id=None, grow_policy=None, importance_type=None,\n",
       "              interaction_constraints=None, learning_rate=None, max_bin=None,\n",
       "              max_cat_threshold=None, max_cat_to_onehot=None,\n",
       "              max_delta_step=None, max_depth=19, max_leaves=None,\n",
       "              min_child_weight=None, missing=nan, monotone_constraints=None,\n",
       "              n_estimators=500, n_jobs=None, num_parallel_tree=None,\n",
       "              predictor=None, random_state=42, ...)"
      ]
     },
     "execution_count": 395,
     "metadata": {},
     "output_type": "execute_result"
    }
   ],
   "source": [
    "#fitting the model with best parameter\n",
    "xgb2 = XGBClassifier(subsample= 0.90, n_estimators= 500, max_depth= 19, colsample_bytree= 0.80,random_state=42)\n",
    "xgb2.fit(X_train1,y_train1)"
   ]
  },
  {
   "cell_type": "code",
   "execution_count": 396,
   "id": "6299416b",
   "metadata": {},
   "outputs": [],
   "source": [
    "#Prediction on validation data\n",
    "y_pred = xgb2.predict(X_test)"
   ]
  },
  {
   "cell_type": "code",
   "execution_count": 397,
   "id": "92cfa2a7",
   "metadata": {
    "scrolled": true
   },
   "outputs": [
    {
     "name": "stdout",
     "output_type": "stream",
     "text": [
      "Accuracy : 0.8951322656109412\n",
      "F1 Score: 0.812484916740407\n",
      "Auroc: 0.8671007840079705\n",
      "              precision    recall  f1-score   support\n",
      "\n",
      "           0       0.92      0.93      0.93     15935\n",
      "           1       0.82      0.80      0.81      6293\n",
      "\n",
      "    accuracy                           0.90     22228\n",
      "   macro avg       0.87      0.87      0.87     22228\n",
      "weighted avg       0.89      0.90      0.89     22228\n",
      "\n"
     ]
    },
    {
     "data": {
      "text/plain": [
       "<AxesSubplot:>"
      ]
     },
     "execution_count": 397,
     "metadata": {},
     "output_type": "execute_result"
    },
    {
     "data": {
      "image/png": "[encoded data removed]",
      "text/plain": [
       "<Figure size 432x288 with 2 Axes>"
      ]
     },
     "metadata": {
      "needs_background": "light"
     },
     "output_type": "display_data"
    }
   ],
   "source": [
    "#accuracy score\n",
    "xgb2_acc1 = mat.accuracy_score(y_test,y_pred)\n",
    "print(\"Accuracy :\",xgb2_acc1)\n",
    "\n",
    "f1_5 = mat.f1_score(y_test,y_pred)\n",
    "print(\"F1 Score:\",f1_5)\n",
    "\n",
    "auroc5 = mat.roc_auc_score(y_test,y_pred)\n",
    "print(\"Auroc:\",auroc5)\n",
    "fpr5, tpr5, _ = mat.roc_curve(y_test,y_pred)\n",
    "\n",
    "print(classification_report(y_test, y_pred))\n",
    "\n",
    "cm= mat.confusion_matrix(y_test,y_pred)\n",
    "sns.heatmap(cm,annot=True)\n"
   ]
  },
  {
   "cell_type": "markdown",
   "id": "db183f0a",
   "metadata": {},
   "source": [
    "* <u><b> <font color= BLUE>ROC Plot comparison (models with its best parameters)"
   ]
  },
  {
   "cell_type": "code",
   "execution_count": 403,
   "id": "31bab958",
   "metadata": {},
   "outputs": [
    {
     "data": {
      "image/png": "[encoded data removed]",
      "text/plain": [
       "<Figure size 576x396 with 1 Axes>"
      ]
     },
     "metadata": {},
     "output_type": "display_data"
    }
   ],
   "source": [
    "# matplotlib\n",
    "import matplotlib.pyplot as plt\n",
    "plt.style.use('seaborn')\n",
    "\n",
    "# plot roc curves\n",
    "plt.plot(fpr1, tpr1, linestyle='--',color='orange', label='Random forest')\n",
    "plt.plot(fpr2, tpr2, linestyle='--',color='pink', label='Adaptive boosting')\n",
    "plt.plot(fpr3, tpr3, linestyle='--',color='blue', label='Gradient boosting')\n",
    "plt.plot(fpr4, tpr4, linestyle='--',color='red', label='HistGradient boosting')\n",
    "plt.plot(fpr5, tpr5, linestyle='--',color='green', label='XG boosting')\n",
    "\n",
    "\n",
    "# roc curve for tpr = fpr \n",
    "random_probs = [0 for i in range(len(y_test))]\n",
    "p_fpr, p_tpr, _ = mat.roc_curve(y_test, random_probs, pos_label=1)\n",
    "plt.plot(p_fpr, p_tpr, linestyle='--', color='black')\n",
    "\n",
    "# title\n",
    "plt.title('ROC curve')\n",
    "# x label\n",
    "plt.xlabel('False Positive Rate')\n",
    "# y label\n",
    "plt.ylabel('True Positive rate')\n",
    "\n",
    "plt.legend(loc='best')\n",
    "plt.savefig('ROC',dpi=300)\n",
    "plt.show()\n"
   ]
  },
  {
   "cell_type": "code",
   "execution_count": 404,
   "id": "1f00e4d6",
   "metadata": {},
   "outputs": [
    {
     "data": {
      "text/html": [
       "<style type=\"text/css\">\n",
       "</style>\n",
       "<table id=\"T_6829d\" style='display:inline; margin-right:20px;'>\n",
       "  <caption>Model Performance on validation_data with default params</caption>\n",
       "  <thead>\n",
       "    <tr>\n",
       "      <th class=\"blank level0\" >&nbsp;</th>\n",
       "      <th id=\"T_6829d_level0_col0\" class=\"col_heading level0 col0\" >Accuracy</th>\n",
       "      <th id=\"T_6829d_level0_col1\" class=\"col_heading level0 col1\" >F1_Score</th>\n",
       "      <th id=\"T_6829d_level0_col2\" class=\"col_heading level0 col2\" >Auroc</th>\n",
       "    </tr>\n",
       "  </thead>\n",
       "  <tbody>\n",
       "    <tr>\n",
       "      <th id=\"T_6829d_level0_row0\" class=\"row_heading level0 row0\" >RF</th>\n",
       "      <td id=\"T_6829d_row0_col0\" class=\"data row0 col0\" >0.888249</td>\n",
       "      <td id=\"T_6829d_row0_col1\" class=\"data row0 col1\" >0.811989</td>\n",
       "      <td id=\"T_6829d_row0_col2\" class=\"data row0 col2\" >0.867101</td>\n",
       "    </tr>\n",
       "    <tr>\n",
       "      <th id=\"T_6829d_level0_row1\" class=\"row_heading level0 row1\" >AB</th>\n",
       "      <td id=\"T_6829d_row1_col0\" class=\"data row1 col0\" >0.877002</td>\n",
       "      <td id=\"T_6829d_row1_col1\" class=\"data row1 col1\" >0.803564</td>\n",
       "      <td id=\"T_6829d_row1_col2\" class=\"data row1 col2\" >0.867101</td>\n",
       "    </tr>\n",
       "    <tr>\n",
       "      <th id=\"T_6829d_level0_row2\" class=\"row_heading level0 row2\" >GB</th>\n",
       "      <td id=\"T_6829d_row2_col0\" class=\"data row2 col0\" >0.880691</td>\n",
       "      <td id=\"T_6829d_row2_col1\" class=\"data row2 col1\" >0.807603</td>\n",
       "      <td id=\"T_6829d_row2_col2\" class=\"data row2 col2\" >0.867101</td>\n",
       "    </tr>\n",
       "    <tr>\n",
       "      <th id=\"T_6829d_level0_row3\" class=\"row_heading level0 row3\" >HGB</th>\n",
       "      <td id=\"T_6829d_row3_col0\" class=\"data row3 col0\" >0.896482</td>\n",
       "      <td id=\"T_6829d_row3_col1\" class=\"data row3 col1\" >0.821835</td>\n",
       "      <td id=\"T_6829d_row3_col2\" class=\"data row3 col2\" >0.867101</td>\n",
       "    </tr>\n",
       "    <tr>\n",
       "      <th id=\"T_6829d_level0_row4\" class=\"row_heading level0 row4\" >XGB</th>\n",
       "      <td id=\"T_6829d_row4_col0\" class=\"data row4 col0\" >0.899541</td>\n",
       "      <td id=\"T_6829d_row4_col1\" class=\"data row4 col1\" >0.819088</td>\n",
       "      <td id=\"T_6829d_row4_col2\" class=\"data row4 col2\" >0.867101</td>\n",
       "    </tr>\n",
       "  </tbody>\n",
       "</table>\n",
       "<style type=\"text/css\">\n",
       "</style>\n",
       "<table id=\"T_0af84\" style='display:inline'>\n",
       "  <caption>Model Performance on validation_data with Optimized params</caption>\n",
       "  <thead>\n",
       "    <tr>\n",
       "      <th class=\"blank level0\" >&nbsp;</th>\n",
       "      <th id=\"T_0af84_level0_col0\" class=\"col_heading level0 col0\" >Accuracy</th>\n",
       "      <th id=\"T_0af84_level0_col1\" class=\"col_heading level0 col1\" >F1_Score</th>\n",
       "      <th id=\"T_0af84_level0_col2\" class=\"col_heading level0 col2\" >Auroc</th>\n",
       "    </tr>\n",
       "  </thead>\n",
       "  <tbody>\n",
       "    <tr>\n",
       "      <th id=\"T_0af84_level0_row0\" class=\"row_heading level0 row0\" >RF</th>\n",
       "      <td id=\"T_0af84_row0_col0\" class=\"data row0 col0\" >0.868859</td>\n",
       "      <td id=\"T_0af84_row0_col1\" class=\"data row0 col1\" >0.794095</td>\n",
       "      <td id=\"T_0af84_row0_col2\" class=\"data row0 col2\" >0.876228</td>\n",
       "    </tr>\n",
       "    <tr>\n",
       "      <th id=\"T_0af84_level0_row1\" class=\"row_heading level0 row1\" >AB</th>\n",
       "      <td id=\"T_0af84_row1_col0\" class=\"data row1 col0\" >0.881096</td>\n",
       "      <td id=\"T_0af84_row1_col1\" class=\"data row1 col1\" >0.809211</td>\n",
       "      <td id=\"T_0af84_row1_col2\" class=\"data row1 col2\" >0.883993</td>\n",
       "    </tr>\n",
       "    <tr>\n",
       "      <th id=\"T_0af84_level0_row2\" class=\"row_heading level0 row2\" >GB</th>\n",
       "      <td id=\"T_0af84_row2_col0\" class=\"data row2 col0\" >0.898866</td>\n",
       "      <td id=\"T_0af84_row2_col1\" class=\"data row2 col1\" >0.817414</td>\n",
       "      <td id=\"T_0af84_row2_col2\" class=\"data row2 col2\" >0.868840</td>\n",
       "    </tr>\n",
       "    <tr>\n",
       "      <th id=\"T_0af84_level0_row3\" class=\"row_heading level0 row3\" >HGB</th>\n",
       "      <td id=\"T_0af84_row3_col0\" class=\"data row3 col0\" >0.896527</td>\n",
       "      <td id=\"T_0af84_row3_col1\" class=\"data row3 col1\" >0.822832</td>\n",
       "      <td id=\"T_0af84_row3_col2\" class=\"data row3 col2\" >0.882064</td>\n",
       "    </tr>\n",
       "    <tr>\n",
       "      <th id=\"T_0af84_level0_row4\" class=\"row_heading level0 row4\" >XGB</th>\n",
       "      <td id=\"T_0af84_row4_col0\" class=\"data row4 col0\" >0.895132</td>\n",
       "      <td id=\"T_0af84_row4_col1\" class=\"data row4 col1\" >0.812485</td>\n",
       "      <td id=\"T_0af84_row4_col2\" class=\"data row4 col2\" >0.867101</td>\n",
       "    </tr>\n",
       "  </tbody>\n",
       "</table>\n"
      ]
     },
     "metadata": {},
     "output_type": "display_data"
    }
   ],
   "source": [
    "from IPython.display import display_html\n",
    "pd.set_option('display.colheader_justify', 'center')\n",
    "\n",
    "\n",
    "df1 = pd.DataFrame({\"Accuracy\":acc5,\"F1_Score\":f5,\"Auroc\":auroc5},index=[\"RF\",\"AB\",\"GB\",\"HGB\",\"XGB\"])\n",
    "\n",
    "df2 = pd.DataFrame({\"Accuracy\":[rf2_acc1,ab2_acc1,gb2_acc1,hgb2_acc1,xgb2_acc1],\n",
    "                    \"F1_Score\":[f1_1,f1_2,f1_3,f1_4,f1_5],\n",
    "                    \"Auroc\":[auroc1,auroc2,auroc3,auroc4,auroc5]},\n",
    "                   index=[\"RF\",\"AB\",\"GB\",\"HGB\",\"XGB\"])\n",
    "\n",
    "\n",
    "df1_style = df1.style.set_table_attributes(\"style='display:inline; margin-right:20px;'\").set_caption(\"Model Performance on validation_data with default params\")\n",
    "df2_style = df2.style.set_table_attributes(\"style='display:inline'\").set_caption(\"Model Performance on validation_data with Optimized params\")\n",
    "\n",
    "display_html(df1_style._repr_html_() + df2_style._repr_html_(), raw=True)"
   ]
  },
  {
   "cell_type": "code",
   "execution_count": null,
   "id": "a306d0a6",
   "metadata": {},
   "outputs": [],
   "source": [
    "#_____________________________________________________________________________________________________________________________"
   ]
  },
  {
   "cell_type": "markdown",
   "id": "9d60a8a1",
   "metadata": {},
   "source": [
    "### <U> 9.TRAINING THE ENTIRE DATASET "
   ]
  },
  {
   "cell_type": "markdown",
   "id": "ea98d717",
   "metadata": {},
   "source": [
    "* Training the entire dataset with best performed models"
   ]
  },
  {
   "cell_type": "code",
   "execution_count": 442,
   "id": "be19c097",
   "metadata": {},
   "outputs": [],
   "source": [
    "# load cleaned and encoded entire train dataset\n",
    "train_data = pd.read_csv(\"bin_conditional_imputed_mmscaled_final.csv\")"
   ]
  },
  {
   "cell_type": "code",
   "execution_count": 443,
   "id": "63ffef42",
   "metadata": {},
   "outputs": [],
   "source": [
    "# split target variable\n",
    "X = train_data.drop('Loan Status',axis=1)\n",
    "y = train_data['Loan Status']"
   ]
  },
  {
   "cell_type": "code",
   "execution_count": 444,
   "id": "7cfb9fc2",
   "metadata": {},
   "outputs": [
    {
     "name": "stdout",
     "output_type": "stream",
     "text": [
      "Class=1, n=63737 (71.687%)\n",
      "Class=0, n=63737 (71.687%)\n"
     ]
    },
    {
     "data": {
      "image/png": "[encoded data removed]",
      "text/plain": [
       "<Figure size 576x396 with 1 Axes>"
      ]
     },
     "metadata": {},
     "output_type": "display_data"
    }
   ],
   "source": [
    "#Balancing the dataset\n",
    "oversample = SMOTE()\n",
    "X_bal, y_bal = oversample.fit_resample(X, y)\n",
    "# summarize distribution\n",
    "counter = Counter(y_bal)\n",
    "for k,v in counter.items():\n",
    "    per = v / len(y) * 100\n",
    "    print('Class=%d, n=%d (%.3f%%)' % (k, v, per))\n",
    "# plot the distribution\n",
    "plt.bar(counter.keys(), counter.values())\n",
    "plt.show()"
   ]
  },
  {
   "cell_type": "markdown",
   "id": "cfb2870b",
   "metadata": {},
   "source": [
    "#### <B> With Default hyperparameters _ RF,AB,HGB"
   ]
  },
  {
   "cell_type": "markdown",
   "id": "973241d2",
   "metadata": {},
   "source": [
    "* Train data prediction"
   ]
  },
  {
   "cell_type": "code",
   "execution_count": null,
   "id": "c08b746b",
   "metadata": {},
   "outputs": [],
   "source": [
    "# initializing best models\n",
    "rf_1 = RandomForestClassifier()\n",
    "ab_1 = AdaBoostClassifier() \n",
    "hgb_1 = HistGradientBoostingClassifier()"
   ]
  },
  {
   "cell_type": "code",
   "execution_count": null,
   "id": "996d326b",
   "metadata": {
    "scrolled": true
   },
   "outputs": [],
   "source": [
    "models = [rf_1,ab_1,hgb_1]\n",
    "\n",
    "#fitting the model with default parameter\n",
    "a1 = []\n",
    "f1 = []\n",
    "ar1 = []\n",
    "\n",
    "for i in models:\n",
    "    \n",
    "    i.fit(X_bal,y_bal)\n",
    "    y_pred = i.predict(X_bal)\n",
    "    \n",
    "    print(i)\n",
    "    \n",
    "    train1_acc = mat.accuracy_score(y_bal,y_pred)\n",
    "    a1.append(train1_acc)\n",
    "    print(\"Accuracy :\",train1_acc)\n",
    "\n",
    "    train1_f1 = mat.f1_score(y_bal,y_pred)\n",
    "    f1.append(train1_f1)\n",
    "    print(\"F1 Score:\",train1_f1)\n",
    "\n",
    "    train1_auroc = mat.roc_auc_score(y_bal,y_pred)\n",
    "    ar1.append(train1_auroc)\n",
    "    print(\"Auroc:\",train1_auroc)\n",
    "\n",
    "    print(classification_report(y_bal, y_pred))\n",
    "\n",
    "    cm= mat.confusion_matrix(y_bal,y_pred)\n",
    "    print(cm)\n",
    "    #sns.heatmap(cm,annot=True)\n",
    "    print(\"_\"*100) # draw boundary line"
   ]
  },
  {
   "cell_type": "markdown",
   "id": "e25d1bf6",
   "metadata": {},
   "source": [
    "#### <B>With Best Grid searched hyperparameters _ RF,AB,HGB"
   ]
  },
  {
   "cell_type": "markdown",
   "id": "5908a04f",
   "metadata": {},
   "source": [
    "* Train data prediction"
   ]
  },
  {
   "cell_type": "code",
   "execution_count": null,
   "id": "19abf04a",
   "metadata": {},
   "outputs": [],
   "source": [
    "# initializing models\n",
    "rf_2 = RandomForestClassifier(class_weight = {0: 3.0, 1: 1},random_state=42)\n",
    "ab_2 = AdaBoostClassifier(n_estimators = 165,random_state=42) \n",
    "hgb_2 = HistGradientBoostingClassifier(max_iter=200,learning_rate=0.1,max_depth = 12,l2_regularization=1.5,scoring='f1_micro',random_state=42)"
   ]
  },
  {
   "cell_type": "code",
   "execution_count": null,
   "id": "6e1a35d9",
   "metadata": {},
   "outputs": [],
   "source": [
    "# Try other closer parameters too.Since we have done randomized search."
   ]
  },
  {
   "cell_type": "code",
   "execution_count": null,
   "id": "a7fc444a",
   "metadata": {},
   "outputs": [],
   "source": [
    "models = [rf_2,ab_2,hgb_2]\n",
    "\n",
    "#fitting the model with default parameter\n",
    "a2 = []\n",
    "f2 = []\n",
    "ar2 = []\n",
    "\n",
    "for i in models:\n",
    "    \n",
    "    i.fit(X_bal,y_bal)\n",
    "    y_pred = i.predict(X_bal)\n",
    "    print (i)\n",
    "    \n",
    "    train2_acc = mat.accuracy_score(y_bal,y_pred)\n",
    "    a2.append(train2_acc)\n",
    "    print(\"Accuracy :\",train2_acc)\n",
    "\n",
    "    train2_f1 = mat.f1_score(y_bal,y_pred)\n",
    "    f2.append(train2_f1)\n",
    "    print(\"F1 Score:\",train2_f1)\n",
    "\n",
    "    train2_auroc = mat.roc_auc_score(y_bal,y_pred)\n",
    "    ar2.append(train2_auroc)\n",
    "    print(\"Auroc:\",train2_auroc)\n",
    "\n",
    "    print(classification_report(y_bal, y_pred))\n",
    "\n",
    "    cm= mat.confusion_matrix(y_bal,y_pred)\n",
    "    print(cm)\n",
    "    #sns.heatmap(cm,annot=True)\n",
    "    print(\"_\"*100) # draw boundary line"
   ]
  },
  {
   "cell_type": "code",
   "execution_count": null,
   "id": "5d366c4b",
   "metadata": {},
   "outputs": [],
   "source": [
    "#Results:\n",
    "from IPython.display import display_html\n",
    "pd.set_option('display.colheader_justify', 'center')\n",
    "\n",
    "\n",
    "df1 = pd.DataFrame({\"Accuracy\":a1,\"F1_Score\":f1,\"Auroc\":ar1},index=[\"RF\",\"AB\",\"HGB\"])\n",
    "df2 = pd.DataFrame({\"Accuracy\":a2,\"F1_Score\":f2,\"Auroc\":ar2},index=[\"RF\",\"AB\",\"HGB\"])\n",
    "\n",
    "\n",
    "df1_style = df1.style.set_table_attributes(\"style='display:inline; margin-right:20px;'\").set_caption(\"Model Performance on train_data with default params\")\n",
    "df2_style = df2.style.set_table_attributes(\"style='display:inline'\").set_caption(\"Model Performance on train_data with Optimized params\")\n",
    "\n",
    "display_html(df1_style._repr_html_() + df2_style._repr_html_(), raw=True)"
   ]
  },
  {
   "cell_type": "code",
   "execution_count": null,
   "id": "84c5bdd8",
   "metadata": {},
   "outputs": [],
   "source": [
    "#___________________________________________________________________________________________________________________________"
   ]
  },
  {
   "cell_type": "markdown",
   "id": "c08539b0",
   "metadata": {},
   "source": [
    "### <U>10.MODEL TESTING"
   ]
  },
  {
   "cell_type": "markdown",
   "id": "115463bb",
   "metadata": {},
   "source": [
    "* <B> Importing actual test data"
   ]
  },
  {
   "cell_type": "code",
   "execution_count": 409,
   "id": "0ff82678",
   "metadata": {},
   "outputs": [],
   "source": [
    "test_data1 = pd.read_csv(\"Loans - Public Test Set (No Labels).csv\")"
   ]
  },
  {
   "cell_type": "markdown",
   "id": "7f454be4",
   "metadata": {},
   "source": [
    "* <b> Data Information"
   ]
  },
  {
   "cell_type": "code",
   "execution_count": 410,
   "id": "76c36d8f",
   "metadata": {
    "scrolled": true
   },
   "outputs": [
    {
     "name": "stdout",
     "output_type": "stream",
     "text": [
      "<class 'pandas.core.frame.DataFrame'>\n",
      "RangeIndex: 44454 entries, 0 to 44453\n",
      "Data columns (total 19 columns):\n",
      " #   Column                        Non-Null Count  Dtype  \n",
      "---  ------                        --------------  -----  \n",
      " 0   Loan ID                       44454 non-null  object \n",
      " 1   Customer ID                   44454 non-null  object \n",
      " 2   Loan Status                   44454 non-null  object \n",
      " 3   Current Loan Amount           44454 non-null  int64  \n",
      " 4   Term                          44454 non-null  object \n",
      " 5   Credit Score                  44454 non-null  int64  \n",
      " 6   Years in current job          42604 non-null  object \n",
      " 7   Home Ownership                44454 non-null  object \n",
      " 8   Annual Income                 44454 non-null  int64  \n",
      " 9   Purpose                       44454 non-null  object \n",
      " 10  Monthly Debt                  44454 non-null  object \n",
      " 11  Years of Credit History       44454 non-null  float64\n",
      " 12  Months since last delinquent  44452 non-null  float64\n",
      " 13  Number of Open Accounts       44454 non-null  int64  \n",
      " 14  Number of Credit Problems     44454 non-null  int64  \n",
      " 15  Current Credit Balance        44454 non-null  int64  \n",
      " 16  Maximum Open Credit           44452 non-null  object \n",
      " 17  Bankruptcies                  44452 non-null  float64\n",
      " 18  Tax Liens                     44452 non-null  float64\n",
      "dtypes: float64(4), int64(6), object(9)\n",
      "memory usage: 6.4+ MB\n"
     ]
    }
   ],
   "source": [
    "test_data1.info()"
   ]
  },
  {
   "cell_type": "code",
   "execution_count": 411,
   "id": "9e280535",
   "metadata": {},
   "outputs": [],
   "source": [
    "# Find these analmolies by eyeballing through dataset in excel or make plots or trial/error"
   ]
  },
  {
   "cell_type": "markdown",
   "id": "d32a4ab0",
   "metadata": {},
   "source": [
    "* <b> Data formatting"
   ]
  },
  {
   "cell_type": "code",
   "execution_count": 412,
   "id": "d419ca78",
   "metadata": {},
   "outputs": [],
   "source": [
    "#removing punctuations\n",
    "test_data1['Monthly Debt'] = (test_data1['Monthly Debt']).astype(\"str\")\n",
    "\n",
    "punctuation = [\"$\",\",\",\"-\",\"/\"]\n",
    "for i in punctuation:\n",
    "    test_data1['Monthly Debt'] = test_data1['Monthly Debt'].str.replace(i, '', regex=True)  "
   ]
  },
  {
   "cell_type": "code",
   "execution_count": 413,
   "id": "4c1d5c67",
   "metadata": {},
   "outputs": [],
   "source": [
    "#Converting back to numeric after string character removal process\n",
    "test_data1['Monthly Debt'] = pd.to_numeric(test_data1['Monthly Debt'])"
   ]
  },
  {
   "cell_type": "code",
   "execution_count": 414,
   "id": "48fd1635",
   "metadata": {},
   "outputs": [
    {
     "data": {
      "text/plain": [
       "dtype('float64')"
      ]
     },
     "execution_count": 414,
     "metadata": {},
     "output_type": "execute_result"
    }
   ],
   "source": [
    "test_data1['Monthly Debt'].dtypes"
   ]
  },
  {
   "cell_type": "markdown",
   "id": "ad589172",
   "metadata": {},
   "source": [
    "_______________"
   ]
  },
  {
   "cell_type": "code",
   "execution_count": 415,
   "id": "9cd291d2",
   "metadata": {},
   "outputs": [],
   "source": [
    "#Convert string column to numeric\n",
    "test_data1['Maximum Open Credit'] = pd.to_numeric(test_data1['Maximum Open Credit'],errors='coerce')"
   ]
  },
  {
   "cell_type": "markdown",
   "id": "ec43a2ee",
   "metadata": {},
   "source": [
    "___"
   ]
  },
  {
   "cell_type": "code",
   "execution_count": 416,
   "id": "59e37f44",
   "metadata": {},
   "outputs": [],
   "source": [
    "#formatting the column with redundant data \n",
    "for i in range(len(test_data1['Home Ownership'])):\n",
    "    if test_data1['Home Ownership'][i] == \"HaveMortgage\":\n",
    "        test_data1['Home Ownership'][i] = \"Home Mortgage\" "
   ]
  },
  {
   "cell_type": "code",
   "execution_count": 417,
   "id": "534ee596",
   "metadata": {},
   "outputs": [
    {
     "data": {
      "text/plain": [
       "Home Mortgage    21742\n",
       "Rent             18820\n",
       "Own Home          3892\n",
       "Name: Home Ownership, dtype: int64"
      ]
     },
     "execution_count": 417,
     "metadata": {},
     "output_type": "execute_result"
    }
   ],
   "source": [
    "#binning\n",
    "test_data1['Home Ownership'].value_counts()"
   ]
  },
  {
   "cell_type": "markdown",
   "id": "024c7a5f",
   "metadata": {},
   "source": [
    "_________"
   ]
  },
  {
   "cell_type": "code",
   "execution_count": 418,
   "id": "52c28cc9",
   "metadata": {},
   "outputs": [],
   "source": [
    "#fixing redundant values\n",
    "for i in range(len(test_data1['Purpose'])):\n",
    "    if test_data1['Purpose'][i] == \"other\":\n",
    "        test_data1['Purpose'][i] = \"Other\""
   ]
  },
  {
   "cell_type": "code",
   "execution_count": 419,
   "id": "cfe5017e",
   "metadata": {
    "scrolled": true
   },
   "outputs": [
    {
     "data": {
      "text/plain": [
       "Debt Consolidation      35315\n",
       "Other                    3837\n",
       "Home Improvements        2616\n",
       "Business Loan             656\n",
       "Buy a Car                 535\n",
       "Medical Bills             496\n",
       "Buy House                 290\n",
       "Take a Trip               234\n",
       "major_purchase            150\n",
       "small_business            141\n",
       "Educational Expenses       52\n",
       "moving                     50\n",
       "vacation                   41\n",
       "wedding                    38\n",
       "renewable_energy            3\n",
       "Name: Purpose, dtype: int64"
      ]
     },
     "execution_count": 419,
     "metadata": {},
     "output_type": "execute_result"
    }
   ],
   "source": [
    "test_data1['Purpose'].value_counts()"
   ]
  },
  {
   "cell_type": "markdown",
   "id": "69535a7a",
   "metadata": {},
   "source": [
    "______________"
   ]
  },
  {
   "cell_type": "markdown",
   "id": "09f69398",
   "metadata": {},
   "source": [
    "* Binning"
   ]
  },
  {
   "cell_type": "code",
   "execution_count": 420,
   "id": "2563e495",
   "metadata": {},
   "outputs": [],
   "source": [
    "#binning\n",
    "test_data1['Bankruptcies'] = np.where(test_data1['Bankruptcies']> 0, 1, 0)"
   ]
  },
  {
   "cell_type": "code",
   "execution_count": 421,
   "id": "2bcbb4ac",
   "metadata": {},
   "outputs": [],
   "source": [
    "test_data1['Tax Liens'] = np.where(test_data1['Tax Liens']> 0, 1, 0)"
   ]
  },
  {
   "cell_type": "code",
   "execution_count": 422,
   "id": "cea68ce9",
   "metadata": {},
   "outputs": [],
   "source": [
    "test_data1['Number of Credit Problems'] = np.where(test_data1['Number of Credit Problems']> 0, 1, 0)"
   ]
  },
  {
   "cell_type": "code",
   "execution_count": null,
   "id": "a187d7a3",
   "metadata": {},
   "outputs": [],
   "source": []
  },
  {
   "cell_type": "code",
   "execution_count": null,
   "id": "44c2279f",
   "metadata": {},
   "outputs": [],
   "source": []
  },
  {
   "cell_type": "code",
   "execution_count": null,
   "id": "bcdf8ae4",
   "metadata": {},
   "outputs": [],
   "source": []
  },
  {
   "cell_type": "code",
   "execution_count": null,
   "id": "ba898195",
   "metadata": {},
   "outputs": [],
   "source": []
  },
  {
   "cell_type": "markdown",
   "id": "4f7272a6",
   "metadata": {},
   "source": [
    "* <b> Encoding"
   ]
  },
  {
   "cell_type": "code",
   "execution_count": 423,
   "id": "7d54e597",
   "metadata": {},
   "outputs": [],
   "source": [
    "#label encode categorical_ordinal\n",
    "test_data1['Years in current job'] = test_data1['Years in current job'].replace({\"< 1 year\":0,\"1 year\":1,\n",
    "                                                                       \"2 years\":2,\"3 years\":3,\n",
    "                                                                       \"4 years\":4,\"5 years\":5,\n",
    "                                                                       \"6 years\":6,\"7 years\":7,\n",
    "                                                                       \"8 years\":8,\"9 years\":9,\n",
    "                                                                       \"10+ years\":10})"
   ]
  },
  {
   "cell_type": "code",
   "execution_count": 424,
   "id": "347d2406",
   "metadata": {},
   "outputs": [
    {
     "data": {
      "text/plain": [
       "10.0    13806\n",
       "2.0      4175\n",
       "0.0      3654\n",
       "3.0      3485\n",
       "5.0      3039\n",
       "1.0      3029\n",
       "4.0      2717\n",
       "6.0      2502\n",
       "7.0      2322\n",
       "8.0      2147\n",
       "9.0      1728\n",
       "Name: Years in current job, dtype: int64"
      ]
     },
     "execution_count": 424,
     "metadata": {},
     "output_type": "execute_result"
    }
   ],
   "source": [
    "test_data1['Years in current job'].value_counts() "
   ]
  },
  {
   "cell_type": "code",
   "execution_count": 425,
   "id": "096fae37",
   "metadata": {},
   "outputs": [],
   "source": [
    "#Label encoding target class\n",
    "test_data1[\"Loan Status\"] = test_data1[\"Loan Status\"].replace({\"Fully Paid\":0,\"Charged Off\":1})"
   ]
  },
  {
   "cell_type": "markdown",
   "id": "1f3d7602",
   "metadata": {},
   "source": [
    "________________"
   ]
  },
  {
   "cell_type": "markdown",
   "id": "f1cd6646",
   "metadata": {},
   "source": [
    "* <b> Treating anamolies"
   ]
  },
  {
   "cell_type": "code",
   "execution_count": 426,
   "id": "4e661d94",
   "metadata": {
    "scrolled": true
   },
   "outputs": [
    {
     "name": "stdout",
     "output_type": "stream",
     "text": [
      "Current Loan Amount : 0\n"
     ]
    }
   ],
   "source": [
    "# Based on visualization of box plot , we will remove the extreme values from the following variables\n",
    "\n",
    "#l = ['Annual Income','Maximum Open Credit','Current Loan Amount','Current Credit Balance',\n",
    "#     'Monthly Debt','Number of Open Accounts','Years of Credit History','Months since last delinquent']\n",
    "l = ['Current Loan Amount']\n",
    "\n",
    "# Number of extreme values\n",
    "for i in l:\n",
    "    print(i,\":\",len(test_data1.loc[test_data1[i] >= max(raw_data[i])]))\n"
   ]
  },
  {
   "cell_type": "code",
   "execution_count": 427,
   "id": "2f43b758",
   "metadata": {},
   "outputs": [
    {
     "data": {
      "text/plain": [
       "99999999"
      ]
     },
     "execution_count": 427,
     "metadata": {},
     "output_type": "execute_result"
    }
   ],
   "source": [
    "max(raw_data[\"Current Loan Amount\"])"
   ]
  },
  {
   "cell_type": "code",
   "execution_count": 428,
   "id": "a13a5010",
   "metadata": {},
   "outputs": [],
   "source": [
    "# Finding and Treating Outliers which are at the extreme\n",
    "for i in l:\n",
    "    test_data1.loc[test_data1[i] == max(data1[i]),i] = np.nan"
   ]
  },
  {
   "cell_type": "code",
   "execution_count": 429,
   "id": "f7f49555",
   "metadata": {},
   "outputs": [],
   "source": [
    "# Treating credit scores which are above 850 which ould be the max\n",
    "for i in range(len(test_data1)):\n",
    "    if  test_data1['Credit Score'][i] > 800:\n",
    "        test_data1['Credit Score'][i] = (test_data1['Credit Score'][i])/10 "
   ]
  },
  {
   "cell_type": "markdown",
   "id": "c0a3f8a3",
   "metadata": {},
   "source": [
    "_____________________________"
   ]
  },
  {
   "cell_type": "markdown",
   "id": "8ac9f92f",
   "metadata": {},
   "source": [
    "* <b>Dropping variable"
   ]
  },
  {
   "cell_type": "code",
   "execution_count": 430,
   "id": "0bc7a7ed",
   "metadata": {},
   "outputs": [],
   "source": [
    "#Dropping Id column which has no explanatory power over target\n",
    "test_data1.drop([\"Loan ID\",\"Customer ID\"],axis=1,inplace=True)"
   ]
  },
  {
   "cell_type": "markdown",
   "id": "ffba916c",
   "metadata": {},
   "source": [
    "* <b> Fill Null"
   ]
  },
  {
   "cell_type": "code",
   "execution_count": 431,
   "id": "fdfd3ae7",
   "metadata": {},
   "outputs": [
    {
     "data": {
      "text/plain": [
       "Loan Status                        0\n",
       "Current Loan Amount                0\n",
       "Term                               0\n",
       "Credit Score                       0\n",
       "Years in current job            1850\n",
       "Home Ownership                     0\n",
       "Annual Income                      0\n",
       "Purpose                            0\n",
       "Monthly Debt                       0\n",
       "Years of Credit History            0\n",
       "Months since last delinquent       2\n",
       "Number of Open Accounts            0\n",
       "Number of Credit Problems          0\n",
       "Current Credit Balance             0\n",
       "Maximum Open Credit                3\n",
       "Bankruptcies                       0\n",
       "Tax Liens                          0\n",
       "dtype: int64"
      ]
     },
     "execution_count": 431,
     "metadata": {},
     "output_type": "execute_result"
    }
   ],
   "source": [
    "test_data1.isna().sum()"
   ]
  },
  {
   "cell_type": "code",
   "execution_count": 432,
   "id": "2d391a3a",
   "metadata": {},
   "outputs": [
    {
     "data": {
      "text/html": [
       "<div>\n",
       "<style scoped>\n",
       "    .dataframe tbody tr th:only-of-type {\n",
       "        vertical-align: middle;\n",
       "    }\n",
       "\n",
       "    .dataframe tbody tr th {\n",
       "        vertical-align: top;\n",
       "    }\n",
       "\n",
       "    .dataframe thead th {\n",
       "        text-align: right;\n",
       "    }\n",
       "</style>\n",
       "<table border=\"1\" class=\"dataframe\">\n",
       "  <thead>\n",
       "    <tr style=\"text-align: center;\">\n",
       "      <th></th>\n",
       "      <th>count</th>\n",
       "      <th>mean</th>\n",
       "      <th>std</th>\n",
       "      <th>min</th>\n",
       "      <th>25%</th>\n",
       "      <th>50%</th>\n",
       "      <th>75%</th>\n",
       "      <th>max</th>\n",
       "    </tr>\n",
       "  </thead>\n",
       "  <tbody>\n",
       "    <tr>\n",
       "      <th>Loan Status</th>\n",
       "      <td>44454.0</td>\n",
       "      <td>0.283124</td>\n",
       "      <td>0.450521</td>\n",
       "      <td>0.0</td>\n",
       "      <td>0.0000</td>\n",
       "      <td>0.000</td>\n",
       "      <td>1.000</td>\n",
       "      <td>1.0</td>\n",
       "    </tr>\n",
       "    <tr>\n",
       "      <th>Current Loan Amount</th>\n",
       "      <td>44454.0</td>\n",
       "      <td>14000.404081</td>\n",
       "      <td>8265.362190</td>\n",
       "      <td>504.0</td>\n",
       "      <td>7819.0000</td>\n",
       "      <td>12060.500</td>\n",
       "      <td>19526.000</td>\n",
       "      <td>35875.0</td>\n",
       "    </tr>\n",
       "    <tr>\n",
       "      <th>Credit Score</th>\n",
       "      <td>44454.0</td>\n",
       "      <td>721.548702</td>\n",
       "      <td>27.562557</td>\n",
       "      <td>585.0</td>\n",
       "      <td>710.0000</td>\n",
       "      <td>731.000</td>\n",
       "      <td>741.000</td>\n",
       "      <td>751.0</td>\n",
       "    </tr>\n",
       "    <tr>\n",
       "      <th>Years in current job</th>\n",
       "      <td>42604.0</td>\n",
       "      <td>5.866843</td>\n",
       "      <td>3.644739</td>\n",
       "      <td>0.0</td>\n",
       "      <td>2.0000</td>\n",
       "      <td>6.000</td>\n",
       "      <td>10.000</td>\n",
       "      <td>10.0</td>\n",
       "    </tr>\n",
       "    <tr>\n",
       "      <th>Annual Income</th>\n",
       "      <td>44454.0</td>\n",
       "      <td>72628.160660</td>\n",
       "      <td>54480.824142</td>\n",
       "      <td>2979.0</td>\n",
       "      <td>44823.5000</td>\n",
       "      <td>61825.500</td>\n",
       "      <td>87233.500</td>\n",
       "      <td>5001000.0</td>\n",
       "    </tr>\n",
       "    <tr>\n",
       "      <th>Monthly Debt</th>\n",
       "      <td>44454.0</td>\n",
       "      <td>970.253524</td>\n",
       "      <td>634.030616</td>\n",
       "      <td>0.0</td>\n",
       "      <td>537.9125</td>\n",
       "      <td>851.305</td>\n",
       "      <td>1262.645</td>\n",
       "      <td>9835.3</td>\n",
       "    </tr>\n",
       "    <tr>\n",
       "      <th>Years of Credit History</th>\n",
       "      <td>44454.0</td>\n",
       "      <td>18.299915</td>\n",
       "      <td>7.046328</td>\n",
       "      <td>3.4</td>\n",
       "      <td>13.5000</td>\n",
       "      <td>17.000</td>\n",
       "      <td>21.700</td>\n",
       "      <td>61.5</td>\n",
       "    </tr>\n",
       "    <tr>\n",
       "      <th>Months since last delinquent</th>\n",
       "      <td>44452.0</td>\n",
       "      <td>15.613403</td>\n",
       "      <td>22.571131</td>\n",
       "      <td>0.0</td>\n",
       "      <td>0.0000</td>\n",
       "      <td>0.000</td>\n",
       "      <td>28.000</td>\n",
       "      <td>151.0</td>\n",
       "    </tr>\n",
       "    <tr>\n",
       "      <th>Number of Open Accounts</th>\n",
       "      <td>44454.0</td>\n",
       "      <td>11.158996</td>\n",
       "      <td>5.026281</td>\n",
       "      <td>0.0</td>\n",
       "      <td>8.0000</td>\n",
       "      <td>10.000</td>\n",
       "      <td>14.000</td>\n",
       "      <td>50.0</td>\n",
       "    </tr>\n",
       "    <tr>\n",
       "      <th>Number of Credit Problems</th>\n",
       "      <td>44454.0</td>\n",
       "      <td>0.132317</td>\n",
       "      <td>0.338838</td>\n",
       "      <td>0.0</td>\n",
       "      <td>0.0000</td>\n",
       "      <td>0.000</td>\n",
       "      <td>0.000</td>\n",
       "      <td>1.0</td>\n",
       "    </tr>\n",
       "    <tr>\n",
       "      <th>Current Credit Balance</th>\n",
       "      <td>44454.0</td>\n",
       "      <td>15668.184258</td>\n",
       "      <td>20278.741124</td>\n",
       "      <td>0.0</td>\n",
       "      <td>6005.2500</td>\n",
       "      <td>11214.000</td>\n",
       "      <td>19501.000</td>\n",
       "      <td>975995.0</td>\n",
       "    </tr>\n",
       "    <tr>\n",
       "      <th>Maximum Open Credit</th>\n",
       "      <td>44451.0</td>\n",
       "      <td>37694.796518</td>\n",
       "      <td>851083.020436</td>\n",
       "      <td>0.0</td>\n",
       "      <td>12900.0000</td>\n",
       "      <td>22054.000</td>\n",
       "      <td>36450.500</td>\n",
       "      <td>176332155.0</td>\n",
       "    </tr>\n",
       "    <tr>\n",
       "      <th>Bankruptcies</th>\n",
       "      <td>44454.0</td>\n",
       "      <td>0.104445</td>\n",
       "      <td>0.305840</td>\n",
       "      <td>0.0</td>\n",
       "      <td>0.0000</td>\n",
       "      <td>0.000</td>\n",
       "      <td>0.000</td>\n",
       "      <td>1.0</td>\n",
       "    </tr>\n",
       "    <tr>\n",
       "      <th>Tax Liens</th>\n",
       "      <td>44454.0</td>\n",
       "      <td>0.018266</td>\n",
       "      <td>0.133914</td>\n",
       "      <td>0.0</td>\n",
       "      <td>0.0000</td>\n",
       "      <td>0.000</td>\n",
       "      <td>0.000</td>\n",
       "      <td>1.0</td>\n",
       "    </tr>\n",
       "  </tbody>\n",
       "</table>\n",
       "</div>"
      ],
      "text/plain": [
       "                               count       mean           std         min   \\\n",
       "Loan Status                   44454.0      0.283124       0.450521     0.0   \n",
       "Current Loan Amount           44454.0  14000.404081    8265.362190   504.0   \n",
       "Credit Score                  44454.0    721.548702      27.562557   585.0   \n",
       "Years in current job          42604.0      5.866843       3.644739     0.0   \n",
       "Annual Income                 44454.0  72628.160660   54480.824142  2979.0   \n",
       "Monthly Debt                  44454.0    970.253524     634.030616     0.0   \n",
       "Years of Credit History       44454.0     18.299915       7.046328     3.4   \n",
       "Months since last delinquent  44452.0     15.613403      22.571131     0.0   \n",
       "Number of Open Accounts       44454.0     11.158996       5.026281     0.0   \n",
       "Number of Credit Problems     44454.0      0.132317       0.338838     0.0   \n",
       "Current Credit Balance        44454.0  15668.184258   20278.741124     0.0   \n",
       "Maximum Open Credit           44451.0  37694.796518  851083.020436     0.0   \n",
       "Bankruptcies                  44454.0      0.104445       0.305840     0.0   \n",
       "Tax Liens                     44454.0      0.018266       0.133914     0.0   \n",
       "\n",
       "                                  25%        50%        75%         max      \n",
       "Loan Status                       0.0000      0.000      1.000          1.0  \n",
       "Current Loan Amount            7819.0000  12060.500  19526.000      35875.0  \n",
       "Credit Score                    710.0000    731.000    741.000        751.0  \n",
       "Years in current job              2.0000      6.000     10.000         10.0  \n",
       "Annual Income                 44823.5000  61825.500  87233.500    5001000.0  \n",
       "Monthly Debt                    537.9125    851.305   1262.645       9835.3  \n",
       "Years of Credit History          13.5000     17.000     21.700         61.5  \n",
       "Months since last delinquent      0.0000      0.000     28.000        151.0  \n",
       "Number of Open Accounts           8.0000     10.000     14.000         50.0  \n",
       "Number of Credit Problems         0.0000      0.000      0.000          1.0  \n",
       "Current Credit Balance         6005.2500  11214.000  19501.000     975995.0  \n",
       "Maximum Open Credit           12900.0000  22054.000  36450.500  176332155.0  \n",
       "Bankruptcies                      0.0000      0.000      0.000          1.0  \n",
       "Tax Liens                         0.0000      0.000      0.000          1.0  "
      ]
     },
     "execution_count": 432,
     "metadata": {},
     "output_type": "execute_result"
    }
   ],
   "source": [
    "test_data1.describe().T"
   ]
  },
  {
   "cell_type": "code",
   "execution_count": 434,
   "id": "5927adb5",
   "metadata": {},
   "outputs": [
    {
     "name": "stdout",
     "output_type": "stream",
     "text": [
      "timetaken: 0.002681875228881836 min\n"
     ]
    }
   ],
   "source": [
    "# fill missing with condition median because of skewed distribution and suspection of outliers\n",
    "\n",
    "start = time.time()\n",
    "\n",
    "l = ['Years in current job','Months since last delinquent','Maximum Open Credit']\n",
    "\n",
    "loans0=test_data1[test_data1['Loan Status']==0]\n",
    "loans1=test_data1[test_data1['Loan Status']==1]\n",
    "\n",
    "for i in l:\n",
    "    \n",
    "    loans0[i].fillna(value=loans0[i].median(),inplace=True)\n",
    "    loans1[i].fillna(value=loans1[i].median(),inplace=True)\n",
    "    \n",
    "end = time.time()\n",
    "\n",
    "print(\"timetaken:\",1000*(end-start)/60000,\"min\")    \n",
    "\n",
    "\n",
    "test_data2=pd.concat([loans0,loans1],axis=0)\n",
    "test_data2.sort_index(inplace=True)  "
   ]
  },
  {
   "cell_type": "code",
   "execution_count": 435,
   "id": "c1cb6ddb",
   "metadata": {
    "scrolled": true
   },
   "outputs": [
    {
     "data": {
      "text/plain": [
       "Loan Status                     0\n",
       "Current Loan Amount             0\n",
       "Term                            0\n",
       "Credit Score                    0\n",
       "Years in current job            0\n",
       "Home Ownership                  0\n",
       "Annual Income                   0\n",
       "Purpose                         0\n",
       "Monthly Debt                    0\n",
       "Years of Credit History         0\n",
       "Months since last delinquent    0\n",
       "Number of Open Accounts         0\n",
       "Number of Credit Problems       0\n",
       "Current Credit Balance          0\n",
       "Maximum Open Credit             0\n",
       "Bankruptcies                    0\n",
       "Tax Liens                       0\n",
       "dtype: int64"
      ]
     },
     "execution_count": 435,
     "metadata": {},
     "output_type": "execute_result"
    }
   ],
   "source": [
    "test_data2.isna().sum()"
   ]
  },
  {
   "cell_type": "code",
   "execution_count": null,
   "id": "b70d4953",
   "metadata": {},
   "outputs": [],
   "source": []
  },
  {
   "cell_type": "code",
   "execution_count": 436,
   "id": "4d69a06c",
   "metadata": {},
   "outputs": [],
   "source": [
    "#one hot encoding for nominal\n",
    "test_data2 = pd.get_dummies(test_data2,columns=['Term','Home Ownership','Purpose','Bankruptcies','Tax Liens','Number of Credit Problems'],drop_first=True)"
   ]
  },
  {
   "cell_type": "markdown",
   "id": "f46f886a",
   "metadata": {},
   "source": [
    "_____________________________"
   ]
  },
  {
   "cell_type": "markdown",
   "id": "b3cc4306",
   "metadata": {},
   "source": [
    "* <b> Standardizing"
   ]
  },
  {
   "cell_type": "code",
   "execution_count": 438,
   "id": "ea96035a",
   "metadata": {},
   "outputs": [],
   "source": [
    "# Scaling variables\n",
    "\n",
    "# Using standard scalar\n",
    "from sklearn.preprocessing import MinMaxScaler\n",
    "\n",
    "\n",
    "continuous = [\"Current Loan Amount\",\"Credit Score\",\"Annual Income\",\"Number of Open Accounts\",\"Current Credit Balance\",\"Years in current job\",\"Monthly Debt\",\"Months since last delinquent\",\"Years of Credit History\",\"Maximum Open Credit\"]\n",
    "#scaler = StandardScaler()\n",
    "scaler = MinMaxScaler()\n",
    "test_data2[continuous]= scaler.fit_transform(test_data2[continuous])"
   ]
  },
  {
   "cell_type": "code",
   "execution_count": 439,
   "id": "dcb924a5",
   "metadata": {},
   "outputs": [],
   "source": [
    "# split target variable\n",
    "X_test = test_data2.drop('Loan Status',axis=1)\n",
    "y_test = test_data2['Loan Status']"
   ]
  },
  {
   "cell_type": "code",
   "execution_count": 440,
   "id": "50a84521",
   "metadata": {},
   "outputs": [
    {
     "data": {
      "text/html": [
       "<div>\n",
       "<style scoped>\n",
       "    .dataframe tbody tr th:only-of-type {\n",
       "        vertical-align: middle;\n",
       "    }\n",
       "\n",
       "    .dataframe tbody tr th {\n",
       "        vertical-align: top;\n",
       "    }\n",
       "\n",
       "    .dataframe thead th {\n",
       "        text-align: right;\n",
       "    }\n",
       "</style>\n",
       "<table border=\"1\" class=\"dataframe\">\n",
       "  <thead>\n",
       "    <tr style=\"text-align: center;\">\n",
       "      <th></th>\n",
       "      <th>Current Loan Amount</th>\n",
       "      <th>Credit Score</th>\n",
       "      <th>Years in current job</th>\n",
       "      <th>Annual Income</th>\n",
       "      <th>Monthly Debt</th>\n",
       "      <th>Years of Credit History</th>\n",
       "      <th>Months since last delinquent</th>\n",
       "      <th>Number of Open Accounts</th>\n",
       "      <th>Current Credit Balance</th>\n",
       "      <th>Maximum Open Credit</th>\n",
       "      <th>...</th>\n",
       "      <th>Purpose_Take a Trip</th>\n",
       "      <th>Purpose_major_purchase</th>\n",
       "      <th>Purpose_moving</th>\n",
       "      <th>Purpose_renewable_energy</th>\n",
       "      <th>Purpose_small_business</th>\n",
       "      <th>Purpose_vacation</th>\n",
       "      <th>Purpose_wedding</th>\n",
       "      <th>Bankruptcies_1</th>\n",
       "      <th>Tax Liens_1</th>\n",
       "      <th>Number of Credit Problems_1</th>\n",
       "    </tr>\n",
       "  </thead>\n",
       "  <tbody>\n",
       "    <tr>\n",
       "      <th>0</th>\n",
       "      <td>0.636651</td>\n",
       "      <td>0.072289</td>\n",
       "      <td>1.0</td>\n",
       "      <td>0.013856</td>\n",
       "      <td>0.062424</td>\n",
       "      <td>0.182444</td>\n",
       "      <td>0.0</td>\n",
       "      <td>0.22</td>\n",
       "      <td>0.023758</td>\n",
       "      <td>0.000129</td>\n",
       "      <td>...</td>\n",
       "      <td>0</td>\n",
       "      <td>0</td>\n",
       "      <td>0</td>\n",
       "      <td>0</td>\n",
       "      <td>0</td>\n",
       "      <td>0</td>\n",
       "      <td>0</td>\n",
       "      <td>0</td>\n",
       "      <td>0</td>\n",
       "      <td>0</td>\n",
       "    </tr>\n",
       "    <tr>\n",
       "      <th>1</th>\n",
       "      <td>0.215487</td>\n",
       "      <td>0.668675</td>\n",
       "      <td>0.2</td>\n",
       "      <td>0.010582</td>\n",
       "      <td>0.067693</td>\n",
       "      <td>0.129088</td>\n",
       "      <td>0.0</td>\n",
       "      <td>0.28</td>\n",
       "      <td>0.006286</td>\n",
       "      <td>0.000116</td>\n",
       "      <td>...</td>\n",
       "      <td>0</td>\n",
       "      <td>0</td>\n",
       "      <td>0</td>\n",
       "      <td>0</td>\n",
       "      <td>0</td>\n",
       "      <td>0</td>\n",
       "      <td>0</td>\n",
       "      <td>0</td>\n",
       "      <td>0</td>\n",
       "      <td>0</td>\n",
       "    </tr>\n",
       "  </tbody>\n",
       "</table>\n",
       "<p>2 rows × 30 columns</p>\n",
       "</div>"
      ],
      "text/plain": [
       "   Current Loan Amount  Credit Score  Years in current job  Annual Income  \\\n",
       "0       0.636651          0.072289             1.0            0.013856      \n",
       "1       0.215487          0.668675             0.2            0.010582      \n",
       "\n",
       "   Monthly Debt  Years of Credit History  Months since last delinquent  \\\n",
       "0    0.062424           0.182444                       0.0               \n",
       "1    0.067693           0.129088                       0.0               \n",
       "\n",
       "   Number of Open Accounts  Current Credit Balance  Maximum Open Credit  ...  \\\n",
       "0           0.22                   0.023758              0.000129        ...   \n",
       "1           0.28                   0.006286              0.000116        ...   \n",
       "\n",
       "   Purpose_Take a Trip  Purpose_major_purchase  Purpose_moving  \\\n",
       "0           0                      0                   0         \n",
       "1           0                      0                   0         \n",
       "\n",
       "   Purpose_renewable_energy  Purpose_small_business  Purpose_vacation  \\\n",
       "0              0                        0                    0          \n",
       "1              0                        0                    0          \n",
       "\n",
       "   Purpose_wedding  Bankruptcies_1  Tax Liens_1  Number of Credit Problems_1  \n",
       "0         0                0             0                    0               \n",
       "1         0                0             0                    0               \n",
       "\n",
       "[2 rows x 30 columns]"
      ]
     },
     "execution_count": 440,
     "metadata": {},
     "output_type": "execute_result"
    }
   ],
   "source": [
    "X_test.head(2)"
   ]
  },
  {
   "cell_type": "code",
   "execution_count": 485,
   "id": "5b2b2d88",
   "metadata": {},
   "outputs": [
    {
     "name": "stdout",
     "output_type": "stream",
     "text": [
      "(88910, 30)\n",
      "(127474, 30)\n",
      "(44454, 30)\n"
     ]
    }
   ],
   "source": [
    "print(X.shape)  # actual train data\n",
    "print(X_bal.shape)  #balanced train data\n",
    "print(X_test.shape)  # actual test data"
   ]
  },
  {
   "cell_type": "code",
   "execution_count": 446,
   "id": "1266cd11",
   "metadata": {},
   "outputs": [
    {
     "data": {
      "text/plain": [
       "True"
      ]
     },
     "execution_count": 446,
     "metadata": {},
     "output_type": "execute_result"
    }
   ],
   "source": [
    "len(X_bal.columns) == len(X_test.columns)  "
   ]
  },
  {
   "cell_type": "code",
   "execution_count": 447,
   "id": "bbcbd11e",
   "metadata": {},
   "outputs": [
    {
     "data": {
      "text/html": [
       "<div>\n",
       "<style scoped>\n",
       "    .dataframe tbody tr th:only-of-type {\n",
       "        vertical-align: middle;\n",
       "    }\n",
       "\n",
       "    .dataframe tbody tr th {\n",
       "        vertical-align: top;\n",
       "    }\n",
       "\n",
       "    .dataframe thead th {\n",
       "        text-align: right;\n",
       "    }\n",
       "</style>\n",
       "<table border=\"1\" class=\"dataframe\">\n",
       "  <thead>\n",
       "    <tr style=\"text-align: center;\">\n",
       "      <th></th>\n",
       "      <th>Current Loan Amount</th>\n",
       "      <th>Credit Score</th>\n",
       "      <th>Years in current job</th>\n",
       "      <th>Annual Income</th>\n",
       "      <th>Monthly Debt</th>\n",
       "      <th>Years of Credit History</th>\n",
       "      <th>Months since last delinquent</th>\n",
       "      <th>Number of Open Accounts</th>\n",
       "      <th>Current Credit Balance</th>\n",
       "      <th>Maximum Open Credit</th>\n",
       "      <th>...</th>\n",
       "      <th>Purpose_Take a Trip</th>\n",
       "      <th>Purpose_major_purchase</th>\n",
       "      <th>Purpose_moving</th>\n",
       "      <th>Purpose_renewable_energy</th>\n",
       "      <th>Purpose_small_business</th>\n",
       "      <th>Purpose_vacation</th>\n",
       "      <th>Purpose_wedding</th>\n",
       "      <th>Bankruptcies_1</th>\n",
       "      <th>Tax Liens_1</th>\n",
       "      <th>Number of Credit Problems_1</th>\n",
       "    </tr>\n",
       "  </thead>\n",
       "  <tbody>\n",
       "    <tr>\n",
       "      <th>0</th>\n",
       "      <td>0.331817</td>\n",
       "      <td>0.861446</td>\n",
       "      <td>0.0</td>\n",
       "      <td>0.004892</td>\n",
       "      <td>0.033889</td>\n",
       "      <td>0.215247</td>\n",
       "      <td>0.056818</td>\n",
       "      <td>0.157895</td>\n",
       "      <td>0.003908</td>\n",
       "      <td>0.000114</td>\n",
       "      <td>...</td>\n",
       "      <td>0</td>\n",
       "      <td>0</td>\n",
       "      <td>0</td>\n",
       "      <td>0</td>\n",
       "      <td>0</td>\n",
       "      <td>0</td>\n",
       "      <td>0</td>\n",
       "      <td>0</td>\n",
       "      <td>0</td>\n",
       "      <td>0</td>\n",
       "    </tr>\n",
       "    <tr>\n",
       "      <th>1</th>\n",
       "      <td>0.693053</td>\n",
       "      <td>0.891566</td>\n",
       "      <td>1.0</td>\n",
       "      <td>0.008848</td>\n",
       "      <td>0.038889</td>\n",
       "      <td>0.345291</td>\n",
       "      <td>0.176136</td>\n",
       "      <td>0.184211</td>\n",
       "      <td>0.020634</td>\n",
       "      <td>0.001114</td>\n",
       "      <td>...</td>\n",
       "      <td>0</td>\n",
       "      <td>0</td>\n",
       "      <td>0</td>\n",
       "      <td>0</td>\n",
       "      <td>0</td>\n",
       "      <td>0</td>\n",
       "      <td>0</td>\n",
       "      <td>0</td>\n",
       "      <td>0</td>\n",
       "      <td>0</td>\n",
       "    </tr>\n",
       "  </tbody>\n",
       "</table>\n",
       "<p>2 rows × 30 columns</p>\n",
       "</div>"
      ],
      "text/plain": [
       "   Current Loan Amount  Credit Score  Years in current job  Annual Income  \\\n",
       "0       0.331817          0.861446             0.0            0.004892      \n",
       "1       0.693053          0.891566             1.0            0.008848      \n",
       "\n",
       "   Monthly Debt  Years of Credit History  Months since last delinquent  \\\n",
       "0    0.033889           0.215247                    0.056818             \n",
       "1    0.038889           0.345291                    0.176136             \n",
       "\n",
       "   Number of Open Accounts  Current Credit Balance  Maximum Open Credit  ...  \\\n",
       "0         0.157895                 0.003908              0.000114        ...   \n",
       "1         0.184211                 0.020634              0.001114        ...   \n",
       "\n",
       "   Purpose_Take a Trip  Purpose_major_purchase  Purpose_moving  \\\n",
       "0           0                      0                   0         \n",
       "1           0                      0                   0         \n",
       "\n",
       "   Purpose_renewable_energy  Purpose_small_business  Purpose_vacation  \\\n",
       "0              0                        0                    0          \n",
       "1              0                        0                    0          \n",
       "\n",
       "   Purpose_wedding  Bankruptcies_1  Tax Liens_1  Number of Credit Problems_1  \n",
       "0         0                0             0                    0               \n",
       "1         0                0             0                    0               \n",
       "\n",
       "[2 rows x 30 columns]"
      ]
     },
     "execution_count": 447,
     "metadata": {},
     "output_type": "execute_result"
    }
   ],
   "source": [
    "X_bal.head(2)"
   ]
  },
  {
   "cell_type": "code",
   "execution_count": 448,
   "id": "924a73dc",
   "metadata": {},
   "outputs": [
    {
     "data": {
      "text/html": [
       "<div>\n",
       "<style scoped>\n",
       "    .dataframe tbody tr th:only-of-type {\n",
       "        vertical-align: middle;\n",
       "    }\n",
       "\n",
       "    .dataframe tbody tr th {\n",
       "        vertical-align: top;\n",
       "    }\n",
       "\n",
       "    .dataframe thead th {\n",
       "        text-align: right;\n",
       "    }\n",
       "</style>\n",
       "<table border=\"1\" class=\"dataframe\">\n",
       "  <thead>\n",
       "    <tr style=\"text-align: center;\">\n",
       "      <th></th>\n",
       "      <th>Current Loan Amount</th>\n",
       "      <th>Credit Score</th>\n",
       "      <th>Years in current job</th>\n",
       "      <th>Annual Income</th>\n",
       "      <th>Monthly Debt</th>\n",
       "      <th>Years of Credit History</th>\n",
       "      <th>Months since last delinquent</th>\n",
       "      <th>Number of Open Accounts</th>\n",
       "      <th>Current Credit Balance</th>\n",
       "      <th>Maximum Open Credit</th>\n",
       "      <th>...</th>\n",
       "      <th>Purpose_Take a Trip</th>\n",
       "      <th>Purpose_major_purchase</th>\n",
       "      <th>Purpose_moving</th>\n",
       "      <th>Purpose_renewable_energy</th>\n",
       "      <th>Purpose_small_business</th>\n",
       "      <th>Purpose_vacation</th>\n",
       "      <th>Purpose_wedding</th>\n",
       "      <th>Bankruptcies_1</th>\n",
       "      <th>Tax Liens_1</th>\n",
       "      <th>Number of Credit Problems_1</th>\n",
       "    </tr>\n",
       "  </thead>\n",
       "  <tbody>\n",
       "    <tr>\n",
       "      <th>0</th>\n",
       "      <td>0.636651</td>\n",
       "      <td>0.072289</td>\n",
       "      <td>1.0</td>\n",
       "      <td>0.013856</td>\n",
       "      <td>0.062424</td>\n",
       "      <td>0.182444</td>\n",
       "      <td>0.0</td>\n",
       "      <td>0.22</td>\n",
       "      <td>0.023758</td>\n",
       "      <td>0.000129</td>\n",
       "      <td>...</td>\n",
       "      <td>0</td>\n",
       "      <td>0</td>\n",
       "      <td>0</td>\n",
       "      <td>0</td>\n",
       "      <td>0</td>\n",
       "      <td>0</td>\n",
       "      <td>0</td>\n",
       "      <td>0</td>\n",
       "      <td>0</td>\n",
       "      <td>0</td>\n",
       "    </tr>\n",
       "    <tr>\n",
       "      <th>1</th>\n",
       "      <td>0.215487</td>\n",
       "      <td>0.668675</td>\n",
       "      <td>0.2</td>\n",
       "      <td>0.010582</td>\n",
       "      <td>0.067693</td>\n",
       "      <td>0.129088</td>\n",
       "      <td>0.0</td>\n",
       "      <td>0.28</td>\n",
       "      <td>0.006286</td>\n",
       "      <td>0.000116</td>\n",
       "      <td>...</td>\n",
       "      <td>0</td>\n",
       "      <td>0</td>\n",
       "      <td>0</td>\n",
       "      <td>0</td>\n",
       "      <td>0</td>\n",
       "      <td>0</td>\n",
       "      <td>0</td>\n",
       "      <td>0</td>\n",
       "      <td>0</td>\n",
       "      <td>0</td>\n",
       "    </tr>\n",
       "  </tbody>\n",
       "</table>\n",
       "<p>2 rows × 30 columns</p>\n",
       "</div>"
      ],
      "text/plain": [
       "   Current Loan Amount  Credit Score  Years in current job  Annual Income  \\\n",
       "0       0.636651          0.072289             1.0            0.013856      \n",
       "1       0.215487          0.668675             0.2            0.010582      \n",
       "\n",
       "   Monthly Debt  Years of Credit History  Months since last delinquent  \\\n",
       "0    0.062424           0.182444                       0.0               \n",
       "1    0.067693           0.129088                       0.0               \n",
       "\n",
       "   Number of Open Accounts  Current Credit Balance  Maximum Open Credit  ...  \\\n",
       "0           0.22                   0.023758              0.000129        ...   \n",
       "1           0.28                   0.006286              0.000116        ...   \n",
       "\n",
       "   Purpose_Take a Trip  Purpose_major_purchase  Purpose_moving  \\\n",
       "0           0                      0                   0         \n",
       "1           0                      0                   0         \n",
       "\n",
       "   Purpose_renewable_energy  Purpose_small_business  Purpose_vacation  \\\n",
       "0              0                        0                    0          \n",
       "1              0                        0                    0          \n",
       "\n",
       "   Purpose_wedding  Bankruptcies_1  Tax Liens_1  Number of Credit Problems_1  \n",
       "0         0                0             0                    0               \n",
       "1         0                0             0                    0               \n",
       "\n",
       "[2 rows x 30 columns]"
      ]
     },
     "execution_count": 448,
     "metadata": {},
     "output_type": "execute_result"
    }
   ],
   "source": [
    "X_test.head(2)"
   ]
  },
  {
   "cell_type": "markdown",
   "id": "51a70de1",
   "metadata": {},
   "source": [
    "______________________________________________"
   ]
  },
  {
   "cell_type": "code",
   "execution_count": 459,
   "id": "6f88da71",
   "metadata": {},
   "outputs": [
    {
     "data": {
      "text/plain": [
       "Index(['Current Loan Amount', 'Credit Score', 'Years in current job',\n",
       "       'Annual Income', 'Monthly Debt', 'Years of Credit History',\n",
       "       'Months since last delinquent', 'Number of Open Accounts',\n",
       "       'Current Credit Balance', 'Maximum Open Credit', 'Term_Short Term',\n",
       "       'Home Ownership_Own Home', 'Home Ownership_Rent', 'Purpose_Buy House',\n",
       "       'Purpose_Buy a Car', 'Purpose_Debt Consolidation',\n",
       "       'Purpose_Educational Expenses', 'Purpose_Home Improvements',\n",
       "       'Purpose_Medical Bills', 'Purpose_Other', 'Purpose_Take a Trip',\n",
       "       'Purpose_major_purchase', 'Purpose_moving', 'Purpose_renewable_energy',\n",
       "       'Purpose_small_business', 'Purpose_vacation', 'Purpose_wedding',\n",
       "       'Bankruptcies_1', 'Tax Liens_1', 'Number of Credit Problems_1'],\n",
       "      dtype='object')"
      ]
     },
     "execution_count": 459,
     "metadata": {},
     "output_type": "execute_result"
    }
   ],
   "source": [
    "X_bal.columns"
   ]
  },
  {
   "cell_type": "markdown",
   "id": "079d1dee",
   "metadata": {},
   "source": [
    "* <b> Predictions"
   ]
  },
  {
   "cell_type": "code",
   "execution_count": 449,
   "id": "cedeaa1e",
   "metadata": {},
   "outputs": [],
   "source": [
    "predictions = pd.read_csv(\"Loans - Public Test Set (IDs and Labels).csv\")"
   ]
  },
  {
   "cell_type": "code",
   "execution_count": 450,
   "id": "680c84c0",
   "metadata": {},
   "outputs": [
    {
     "data": {
      "text/html": [
       "<div>\n",
       "<style scoped>\n",
       "    .dataframe tbody tr th:only-of-type {\n",
       "        vertical-align: middle;\n",
       "    }\n",
       "\n",
       "    .dataframe tbody tr th {\n",
       "        vertical-align: top;\n",
       "    }\n",
       "\n",
       "    .dataframe thead th {\n",
       "        text-align: right;\n",
       "    }\n",
       "</style>\n",
       "<table border=\"1\" class=\"dataframe\">\n",
       "  <thead>\n",
       "    <tr style=\"text-align: center;\">\n",
       "      <th></th>\n",
       "      <th>Loan ID</th>\n",
       "      <th>Loan Status</th>\n",
       "    </tr>\n",
       "  </thead>\n",
       "  <tbody>\n",
       "    <tr>\n",
       "      <th>0</th>\n",
       "      <td>03e0da0c-fac3-42f8-a396-ed5a226466e0</td>\n",
       "      <td>Fully Paid</td>\n",
       "    </tr>\n",
       "    <tr>\n",
       "      <th>1</th>\n",
       "      <td>01825d5d-429a-4de6-b3d4-8618364d2df2</td>\n",
       "      <td>Charged Off</td>\n",
       "    </tr>\n",
       "    <tr>\n",
       "      <th>2</th>\n",
       "      <td>c159a79a-8d2b-447c-92a9-052b5466d6cd</td>\n",
       "      <td>Fully Paid</td>\n",
       "    </tr>\n",
       "    <tr>\n",
       "      <th>3</th>\n",
       "      <td>c1428058-2dc6-4a88-b64c-b6034dfb4f8f</td>\n",
       "      <td>Charged Off</td>\n",
       "    </tr>\n",
       "    <tr>\n",
       "      <th>4</th>\n",
       "      <td>20344186-79bd-487a-b7c4-f3c7b57fe3e8</td>\n",
       "      <td>Charged Off</td>\n",
       "    </tr>\n",
       "  </tbody>\n",
       "</table>\n",
       "</div>"
      ],
      "text/plain": [
       "                 Loan ID                Loan Status \n",
       "0  03e0da0c-fac3-42f8-a396-ed5a226466e0   Fully Paid\n",
       "1  01825d5d-429a-4de6-b3d4-8618364d2df2  Charged Off\n",
       "2  c159a79a-8d2b-447c-92a9-052b5466d6cd   Fully Paid\n",
       "3  c1428058-2dc6-4a88-b64c-b6034dfb4f8f  Charged Off\n",
       "4  20344186-79bd-487a-b7c4-f3c7b57fe3e8  Charged Off"
      ]
     },
     "execution_count": 450,
     "metadata": {},
     "output_type": "execute_result"
    }
   ],
   "source": [
    "predictions.head()"
   ]
  },
  {
   "cell_type": "code",
   "execution_count": 451,
   "id": "f4a951e4",
   "metadata": {},
   "outputs": [],
   "source": [
    "#Label encoding target class\n",
    "predictions[\"Loan Status\"] = predictions[\"Loan Status\"].replace({\"Fully Paid\":0,\"Charged Off\":1})"
   ]
  },
  {
   "cell_type": "code",
   "execution_count": 452,
   "id": "38e62fe7",
   "metadata": {},
   "outputs": [],
   "source": [
    "y_test = predictions[\"Loan Status\"] "
   ]
  },
  {
   "cell_type": "code",
   "execution_count": null,
   "id": "cc7b5187",
   "metadata": {},
   "outputs": [],
   "source": []
  },
  {
   "cell_type": "code",
   "execution_count": null,
   "id": "95900f93",
   "metadata": {},
   "outputs": [],
   "source": []
  },
  {
   "cell_type": "code",
   "execution_count": 461,
   "id": "d4ff8191",
   "metadata": {
    "scrolled": true
   },
   "outputs": [],
   "source": [
    "X_bal1 = X_bal.drop([\"Years of Credit History\",\"Maximum Open Credit\"],axis=1)"
   ]
  },
  {
   "cell_type": "code",
   "execution_count": 464,
   "id": "5157789f",
   "metadata": {},
   "outputs": [],
   "source": [
    "X1 = X.drop([\"Years of Credit History\",\"Maximum Open Credit\"],axis=1)"
   ]
  },
  {
   "cell_type": "code",
   "execution_count": 467,
   "id": "0f7e25e1",
   "metadata": {},
   "outputs": [],
   "source": [
    "X_test1 = X_test.drop([\"Years of Credit History\",\"Maximum Open Credit\"],axis=1)"
   ]
  },
  {
   "cell_type": "code",
   "execution_count": 486,
   "id": "02f3552e",
   "metadata": {},
   "outputs": [
    {
     "data": {
      "text/plain": [
       "(44454, 28)"
      ]
     },
     "execution_count": 486,
     "metadata": {},
     "output_type": "execute_result"
    }
   ],
   "source": [
    "X_test1.shape"
   ]
  },
  {
   "cell_type": "code",
   "execution_count": 487,
   "id": "8ce6e0e0",
   "metadata": {},
   "outputs": [
    {
     "data": {
      "text/plain": [
       "(127474, 28)"
      ]
     },
     "execution_count": 487,
     "metadata": {},
     "output_type": "execute_result"
    }
   ],
   "source": [
    "X_bal1.shape"
   ]
  },
  {
   "cell_type": "code",
   "execution_count": null,
   "id": "21ce5e9e",
   "metadata": {},
   "outputs": [],
   "source": []
  },
  {
   "cell_type": "code",
   "execution_count": null,
   "id": "cc468b43",
   "metadata": {},
   "outputs": [],
   "source": []
  },
  {
   "cell_type": "code",
   "execution_count": null,
   "id": "e251f771",
   "metadata": {},
   "outputs": [],
   "source": []
  },
  {
   "cell_type": "code",
   "execution_count": 500,
   "id": "73263318",
   "metadata": {},
   "outputs": [],
   "source": [
    "# Initializing models\n",
    "rf_3 = RandomForestClassifier(class_weight = {0: 4, 1: 1})\n",
    "ab_3 = AdaBoostClassifier(n_estimators = 300) \n",
    "hgb_3 = HistGradientBoostingClassifier(max_iter=300,learning_rate=0.01,max_depth = 14,l2_regularization=2,scoring='f1_micro')"
   ]
  },
  {
   "cell_type": "code",
   "execution_count": 501,
   "id": "bace5dc3",
   "metadata": {},
   "outputs": [],
   "source": [
    "# Try other closer parameters too.Since we have done randomized search."
   ]
  },
  {
   "cell_type": "code",
   "execution_count": 502,
   "id": "8b2c0f57",
   "metadata": {},
   "outputs": [
    {
     "name": "stdout",
     "output_type": "stream",
     "text": [
      "RandomForestClassifier(class_weight={0: 4, 1: 1})\n",
      "Accuracy : 0.5554955684527827\n",
      "F1 Score: 0.47961655957020954\n",
      "Auroc: 0.6063225089207265\n",
      "              precision    recall  f1-score   support\n",
      "\n",
      "           0       0.82      0.49      0.61     31868\n",
      "           1       0.36      0.72      0.48     12586\n",
      "\n",
      "    accuracy                           0.56     44454\n",
      "   macro avg       0.59      0.61      0.55     44454\n",
      "weighted avg       0.69      0.56      0.57     44454\n",
      "\n",
      "[[15588 16280]\n",
      " [ 3480  9106]]\n",
      "____________________________________________________________________________________________________\n",
      "AdaBoostClassifier(n_estimators=300)\n",
      "Accuracy : 0.5448778512619786\n",
      "F1 Score: 0.48623666835957335\n",
      "Auroc: 0.6101662584763132\n",
      "              precision    recall  f1-score   support\n",
      "\n",
      "           0       0.83      0.46      0.59     31868\n",
      "           1       0.36      0.76      0.49     12586\n",
      "\n",
      "    accuracy                           0.54     44454\n",
      "   macro avg       0.59      0.61      0.54     44454\n",
      "weighted avg       0.70      0.54      0.56     44454\n",
      "\n",
      "[[14648 17220]\n",
      " [ 3012  9574]]\n",
      "____________________________________________________________________________________________________\n",
      "HistGradientBoostingClassifier(l2_regularization=2, learning_rate=0.01,\n",
      "                               max_depth=14, max_iter=300, scoring='f1_micro')\n",
      "Accuracy : 0.6039726458811355\n",
      "F1 Score: 0.5017123772324588\n",
      "Auroc: 0.6342928743629046\n",
      "              precision    recall  f1-score   support\n",
      "\n",
      "           0       0.83      0.56      0.67     31868\n",
      "           1       0.39      0.70      0.50     12586\n",
      "\n",
      "    accuracy                           0.60     44454\n",
      "   macro avg       0.61      0.63      0.59     44454\n",
      "weighted avg       0.70      0.60      0.62     44454\n",
      "\n",
      "[[17986 13882]\n",
      " [ 3723  8863]]\n",
      "____________________________________________________________________________________________________\n"
     ]
    }
   ],
   "source": [
    "models = [rf_3,ab_3,hgb_3]\n",
    "\n",
    "#fitting the model with default parameter\n",
    "a3 = []\n",
    "f3 = []\n",
    "ar3 = []\n",
    "\n",
    "for i in models:\n",
    "    \n",
    "    i.fit(X_bal,y_bal)\n",
    "    y_pred = i.predict(X_test)\n",
    "    print (i)\n",
    "    \n",
    "    test1_acc = mat.accuracy_score(y_test,y_pred)\n",
    "    a3.append(test1_acc)\n",
    "    print(\"Accuracy :\",test1_acc)\n",
    "\n",
    "    test1_f1 = mat.f1_score(y_test,y_pred)\n",
    "    f3.append(test1_f1)\n",
    "    print(\"F1 Score:\",test1_f1)\n",
    "\n",
    "    test1_auroc = mat.roc_auc_score(y_test,y_pred)\n",
    "    ar3.append(test1_auroc)\n",
    "    print(\"Auroc:\",test1_auroc)\n",
    "\n",
    "    print(classification_report(y_test, y_pred))\n",
    "\n",
    "    cm= mat.confusion_matrix(y_test,y_pred)\n",
    "    print(cm)\n",
    "    #sns.heatmap(cm,annot=True)\n",
    "    print(\"_\"*100) # draw boundary line"
   ]
  },
  {
   "cell_type": "code",
   "execution_count": null,
   "id": "bb11e2df",
   "metadata": {},
   "outputs": [],
   "source": []
  },
  {
   "cell_type": "code",
   "execution_count": null,
   "id": "796b3f46",
   "metadata": {},
   "outputs": [],
   "source": []
  },
  {
   "cell_type": "markdown",
   "id": "323d6038",
   "metadata": {},
   "source": [
    "#### <b><U> RESULTS"
   ]
  },
  {
   "cell_type": "markdown",
   "id": "c12c8b04",
   "metadata": {},
   "source": [
    "* For the given test data,<b>RANDOM FOREST</b> model performs better in predicting the <b>AUROC Score</b> with a score of <b> 0.634 </b>"
   ]
  },
  {
   "cell_type": "code",
   "execution_count": null,
   "id": "33531638",
   "metadata": {},
   "outputs": [],
   "source": []
  }
 ],
 "metadata": {
  "kernelspec": {
   "display_name": "Python 3 (ipykernel)",
   "language": "python",
   "name": "python3"
  },
  "language_info": {
   "codemirror_mode": {
    "name": "ipython",
    "version": 3
   },
   "file_extension": ".py",
   "mimetype": "text/x-python",
   "name": "python",
   "nbconvert_exporter": "python",
   "pygments_lexer": "ipython3",
   "version": "3.9.12"
  }
 },
 "nbformat": 4,
 "nbformat_minor": 5
}
